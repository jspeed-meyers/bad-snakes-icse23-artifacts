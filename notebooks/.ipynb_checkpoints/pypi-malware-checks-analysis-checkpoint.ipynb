{
 "cells": [
  {
   "cell_type": "code",
   "execution_count": 12,
   "id": "4bf09f1f",
   "metadata": {},
   "outputs": [
    {
     "name": "stdout",
     "output_type": "stream",
     "text": [
      "The memory_profiler extension is already loaded. To reload it, use:\n",
      "  %reload_ext memory_profiler\n"
     ]
    }
   ],
   "source": [
    "from collections import Counter\n",
    "from collections import defaultdict\n",
    "import json\n",
    "import magic\n",
    "import matplotlib\n",
    "import matplotlib.pyplot as plt\n",
    "import os\n",
    "import pandas as pd\n",
    "import pickle\n",
    "import subprocess\n",
    "import tarfile\n",
    "import timeit\n",
    "import time\n",
    "from tqdm import tqdm\n",
    "from typing import Dict, List\n",
    "from yara_scanner import YaraScanner\n",
    "\n",
    "%load_ext memory_profiler"
   ]
  },
  {
   "cell_type": "code",
   "execution_count": 3,
   "id": "944c1e92",
   "metadata": {},
   "outputs": [
    {
     "data": {
      "text/plain": [
       "True"
      ]
     },
     "execution_count": 3,
     "metadata": {},
     "output_type": "execute_result"
    }
   ],
   "source": [
    "# Initialize and load pypi malware checks rules\n",
    "pypi_malware_checks_rule_path = os.path.abspath(\"../scanners/pypi-malware-checks/setup_py_rules.yara\")\n",
    "scanner = YaraScanner()\n",
    "scanner.track_yara_file(pypi_malware_checks_rule_path)\n",
    "scanner.load_rules()"
   ]
  },
  {
   "cell_type": "code",
   "execution_count": 10,
   "id": "8ce0b876",
   "metadata": {},
   "outputs": [],
   "source": [
    "# This function is used to calculate runtimes of PyPI malware checks\n",
    "def calculate_runtimes(package_releases_path):\n",
    "    package_dirs = [f.path for f in os.scandir(package_releases_path) if f.is_dir()]\n",
    "    runtimes = {}\n",
    "    for package_dir in tqdm(package_dirs):\n",
    "        package_name = package_dir.split(\"/\")[-1]\n",
    "        start = time.time()\n",
    "        subprocess.call(\n",
    "            [\"scan\", \"-r\", package_dir, \"-y\", \"../scanners/pypi-malware-checks/setup_py_rules.yara\"],\n",
    "            stdout=subprocess.DEVNULL,\n",
    "            stderr=subprocess.STDOUT)\n",
    "        runtimes[package_name] = time.time() - start\n",
    "    return runtimes"
   ]
  },
  {
   "cell_type": "code",
   "execution_count": 109,
   "id": "3986e0b8",
   "metadata": {},
   "outputs": [],
   "source": [
    "# Scanning packages using PyPI\n",
    "def scanning_packages(package_releases_path) -> Dict:\n",
    "    results = defaultdict(list)\n",
    "    for subdir, dirs, files in tqdm(os.walk(package_releases_path)):\n",
    "        for file in files:\n",
    "            # Here I made an assumpution of the file path; e.g., I stored the bad-snakes repo under my home directory \n",
    "            try:\n",
    "                package_name = f\"{subdir.split('/')[6]}\"\n",
    "            except IndexError:\n",
    "                import pdb; pdb.set_trace()\n",
    "            filepath = subdir + os.sep + file\n",
    "            # Only scan Python files to reduce noises, there are packages that don't have Python files at all\n",
    "            if str(file).endswith(\".py\"):\n",
    "                try:\n",
    "                    scanner.scan(filepath)\n",
    "                except Exception as e:\n",
    "                    # there are cases where .py files containing binary data that yara-scanner cannot exclude\n",
    "                    print(package_name, filepath, e)\n",
    "                else:\n",
    "                    scan_results = scanner.scan_results\n",
    "                    if scan_results:\n",
    "                        for i in scan_results:\n",
    "                            results[package_name].append(i)\n",
    "                    else:\n",
    "                        # if there are no alerts \n",
    "                        results[package_name].append({\"target\": file, 'rule': \"\"})\n",
    "    return results      "
   ]
  },
  {
   "cell_type": "code",
   "execution_count": 110,
   "id": "fc5a2d38",
   "metadata": {},
   "outputs": [],
   "source": [
    "# Collecting number of rules of the packages\n",
    "def parse_analysis_results(packages_scanning_results: Dict[str, str]) -> List[str]:\n",
    "    for package, files in packages_scanning_results.items():\n",
    "        for file_ in files: \n",
    "            if file_['rule']:\n",
    "                yield (package, file_[\"target\"], file_['rule'], 1)\n",
    "            else:\n",
    "                yield (package, file_[\"target\"], \"\", 0)"
   ]
  },
  {
   "cell_type": "code",
   "execution_count": 111,
   "id": "72e10fa4",
   "metadata": {},
   "outputs": [],
   "source": [
    "# Collecting subpatterns of the packages\n",
    "def collect_subpatterns(packages_scanning_results: Dict[str, str]) -> List[str]:\n",
    "    for package, files in packages_scanning_results.items():\n",
    "        for file_ in files: \n",
    "            if 'strings' in file_:\n",
    "                for line in file_['strings']:\n",
    "                    #line[0] -> line number, line[1] -> subpattern, line[2] -> line content \n",
    "                    yield (package, file_[\"target\"], file_['rule'], line[1])              "
   ]
  },
  {
   "cell_type": "code",
   "execution_count": null,
   "id": "8f35ebc6",
   "metadata": {},
   "outputs": [],
   "source": []
  },
  {
   "cell_type": "markdown",
   "id": "81788647",
   "metadata": {},
   "source": [
    "## Analyzing Malicious packages"
   ]
  },
  {
   "cell_type": "code",
   "execution_count": 7,
   "id": "aa26babb",
   "metadata": {},
   "outputs": [],
   "source": [
    "# Path to the malicious packages dataset\n",
    "malicious_packages_path = os.path.abspath(\"../dataset/malicious-packages/\")"
   ]
  },
  {
   "cell_type": "code",
   "execution_count": 13,
   "id": "bfa08082",
   "metadata": {},
   "outputs": [
    {
     "name": "stderr",
     "output_type": "stream",
     "text": [
      "100%|██████████████████████████████████████████████████████████████████████████████████████████████████████████████████████████████████████████████████████████████████████████████████████████████████████| 168/168 [02:34<00:00,  1.09it/s]\n"
     ]
    }
   ],
   "source": [
    "malicious_running_times = computing_runtimes(malicious_packages_path)"
   ]
  },
  {
   "cell_type": "code",
   "execution_count": 14,
   "id": "71962f89",
   "metadata": {},
   "outputs": [],
   "source": [
    "malicious_packages_running_times_df = pd.DataFrame(list(malicious_running_times.items()), columns=['package', 'running_time'])"
   ]
  },
  {
   "cell_type": "code",
   "execution_count": 15,
   "id": "316b1a9f",
   "metadata": {},
   "outputs": [],
   "source": [
    "malicious_packages_running_times_df.to_csv(\"../results/running_times/pypi-malware-checks/malicious-packages.csv\")"
   ]
  },
  {
   "cell_type": "code",
   "execution_count": 16,
   "id": "e2e133fa",
   "metadata": {},
   "outputs": [
    {
     "data": {
      "text/plain": [
       "count    168.000000\n",
       "mean       0.917025\n",
       "std        1.588213\n",
       "min        0.283062\n",
       "25%        0.525685\n",
       "50%        0.602091\n",
       "75%        0.766196\n",
       "max       18.749159\n",
       "Name: running_time, dtype: float64"
      ]
     },
     "execution_count": 16,
     "metadata": {},
     "output_type": "execute_result"
    }
   ],
   "source": [
    "malicious_packages_running_times_df[\"running_time\"].describe()"
   ]
  },
  {
   "cell_type": "code",
   "execution_count": null,
   "id": "b886fd77",
   "metadata": {},
   "outputs": [],
   "source": [
    "# Uncomment to re-run the scanning, this would take a while\n",
    "malicious_packages_scanning_results = scanning_releases(malicious_packages_path)"
   ]
  },
  {
   "cell_type": "code",
   "execution_count": 83,
   "id": "b5fe03d3",
   "metadata": {},
   "outputs": [],
   "source": [
    "# Loading the existing result in case we do not want to rescan the packages\n",
    "with open(os.path.abspath(os.path.join(\"..\", \"results\", \"pypi-malware-checks\", \"malicious_packages.pkl\")), 'rb') as fp:\n",
    "    malicious_packages_scanning_results = pickle.load(fp)"
   ]
  },
  {
   "cell_type": "markdown",
   "id": "5ff25405",
   "metadata": {},
   "source": [
    "### Triggered rules and subpatterns in all Python files in malicious packages"
   ]
  },
  {
   "cell_type": "code",
   "execution_count": 84,
   "id": "601e5e18",
   "metadata": {},
   "outputs": [],
   "source": [
    "# Collect the alerts and transform them into datafarame\n",
    "malicious_packages_rules = parse_analysis_results(malicious_packages_scanning_results)\n",
    "malicious_packages_rules_df = pd.DataFrame(malicious_packages_rules, columns=[\"package\", \"target\", \"rule\", \"has_rule\"])"
   ]
  },
  {
   "cell_type": "code",
   "execution_count": 85,
   "id": "e2fa2632",
   "metadata": {},
   "outputs": [
    {
     "name": "stdout",
     "output_type": "stream",
     "text": [
      "Total number of rules: 850\n"
     ]
    },
    {
     "data": {
      "text/plain": [
       "count    168.000000\n",
       "mean       5.059524\n",
       "std       12.944702\n",
       "min        0.000000\n",
       "25%        1.000000\n",
       "50%        2.000000\n",
       "75%        4.000000\n",
       "max      118.000000\n",
       "Name: has_rule, dtype: float64"
      ]
     },
     "execution_count": 85,
     "metadata": {},
     "output_type": "execute_result"
    }
   ],
   "source": [
    "# Number of rules per package\n",
    "malicious_packages_rules_groupby = malicious_packages_rules_df.groupby('package')['has_rule']\n",
    "print(f\"Total number of rules: {malicious_packages_rules_groupby.sum().sum()}\")\n",
    "malicious_packages_rules_groupby.sum().describe()"
   ]
  },
  {
   "cell_type": "code",
   "execution_count": 86,
   "id": "58bfcadf",
   "metadata": {},
   "outputs": [],
   "source": [
    "# packages that triggered at least one alert\n",
    "malicious_packages_has_rules_df = malicious_packages_rules_df[malicious_packages_rules_df['has_rule'] != 0]"
   ]
  },
  {
   "cell_type": "code",
   "execution_count": 87,
   "id": "38922746",
   "metadata": {},
   "outputs": [
    {
     "name": "stdout",
     "output_type": "stream",
     "text": [
      "Total number of rules: 850\n"
     ]
    },
    {
     "data": {
      "text/plain": [
       "count    144.000000\n",
       "mean       5.902778\n",
       "std       13.808541\n",
       "min        1.000000\n",
       "25%        1.000000\n",
       "50%        2.000000\n",
       "75%        4.000000\n",
       "max      118.000000\n",
       "Name: has_rule, dtype: float64"
      ]
     },
     "execution_count": 87,
     "metadata": {},
     "output_type": "execute_result"
    }
   ],
   "source": [
    "# Number of rules per package\n",
    "malicious_packages_has_rules_groupby = malicious_packages_has_rules_df.groupby('package')['has_rule']\n",
    "print(f\"Total number of rules: {malicious_packages_has_rules_groupby.sum().sum()}\")\n",
    "malicious_packages_has_rules_groupby.sum().describe()"
   ]
  },
  {
   "cell_type": "code",
   "execution_count": 74,
   "id": "e1d7a92b",
   "metadata": {},
   "outputs": [],
   "source": [
    "# Collect the alerts and transform them into datafarame\n",
    "malicious_packages_subpatterns = collect_subpatterns(malicious_packages_scanning_results)\n",
    "malicious_packages_subpatterns_df = pd.DataFrame(malicious_packages_subpatterns, columns=[\"package\", \"target\", \"rule\", \"subpattern\"])"
   ]
  },
  {
   "cell_type": "code",
   "execution_count": 75,
   "id": "84e4c546",
   "metadata": {},
   "outputs": [
    {
     "name": "stdout",
     "output_type": "stream",
     "text": [
      "Total number of subpatterns: 8295\n"
     ]
    },
    {
     "data": {
      "text/plain": [
       "count     144.000000\n",
       "mean       57.604167\n",
       "std       258.067813\n",
       "min         1.000000\n",
       "25%         4.750000\n",
       "50%        14.500000\n",
       "75%        53.000000\n",
       "max      3054.000000\n",
       "Name: subpattern, dtype: float64"
      ]
     },
     "execution_count": 75,
     "metadata": {},
     "output_type": "execute_result"
    }
   ],
   "source": [
    "# Number of subpatterns per package\n",
    "malicious_packages_subpatterns_groupby = malicious_packages_subpatterns_df.groupby('package')['subpattern']\n",
    "print(f\"Total number of subpatterns: {malicious_packages_subpatterns_groupby.count().sum()}\")\n",
    "malicious_packages_subpatterns_groupby.count().describe()"
   ]
  },
  {
   "cell_type": "markdown",
   "id": "7b946fe5",
   "metadata": {},
   "source": [
    "### Triggered rules and subpatterns in all setup.py files in malicious packages"
   ]
  },
  {
   "cell_type": "code",
   "execution_count": 88,
   "id": "a6d55e1e",
   "metadata": {},
   "outputs": [],
   "source": [
    "# Selecting only setup.py files\n",
    "malicious_packages_rules_setup_df = malicious_packages_rules_df[malicious_packages_rules_df['target'].str.contains('setup.py')]"
   ]
  },
  {
   "cell_type": "code",
   "execution_count": 89,
   "id": "89198cb9",
   "metadata": {},
   "outputs": [
    {
     "name": "stdout",
     "output_type": "stream",
     "text": [
      "Total number of rules: 175\n"
     ]
    },
    {
     "data": {
      "text/plain": [
       "count    163.000000\n",
       "mean       1.073620\n",
       "std        1.057357\n",
       "min        0.000000\n",
       "25%        0.000000\n",
       "50%        1.000000\n",
       "75%        2.000000\n",
       "max        3.000000\n",
       "Name: has_rule, dtype: float64"
      ]
     },
     "execution_count": 89,
     "metadata": {},
     "output_type": "execute_result"
    }
   ],
   "source": [
    "# Number of rules per package\n",
    "malicious_packages_rules_setup_groupby = malicious_packages_rules_setup_df.groupby('package')['has_rule']\n",
    "print(f\"Total number of rules: {malicious_packages_rules_setup_groupby.sum().sum()}\")\n",
    "malicious_packages_rules_setup_groupby.sum().describe()"
   ]
  },
  {
   "cell_type": "code",
   "execution_count": 90,
   "id": "d6292629",
   "metadata": {},
   "outputs": [],
   "source": [
    "# packages whose setup.py and has at least one alert\n",
    "malicious_packages_setup_has_rules_df = malicious_packages_rules_setup_df[malicious_packages_rules_setup_df['has_rule'] != 0]"
   ]
  },
  {
   "cell_type": "code",
   "execution_count": 91,
   "id": "887c4762",
   "metadata": {},
   "outputs": [
    {
     "name": "stdout",
     "output_type": "stream",
     "text": [
      "Total number of rules: 175\n"
     ]
    },
    {
     "data": {
      "text/plain": [
       "count    99.000000\n",
       "mean      1.767677\n",
       "std       0.780218\n",
       "min       1.000000\n",
       "25%       1.000000\n",
       "50%       2.000000\n",
       "75%       2.000000\n",
       "max       3.000000\n",
       "Name: has_rule, dtype: float64"
      ]
     },
     "execution_count": 91,
     "metadata": {},
     "output_type": "execute_result"
    }
   ],
   "source": [
    "# Number of rules per package\n",
    "malicious_packages_setup_has_rules_groupby = malicious_packages_setup_has_rules_df.groupby('package')['has_rule']\n",
    "print(f\"Total number of rules: {malicious_packages_setup_has_rules_groupby.sum().sum()}\")\n",
    "malicious_packages_setup_has_rules_groupby.sum().describe()"
   ]
  },
  {
   "cell_type": "code",
   "execution_count": 25,
   "id": "5ca58298",
   "metadata": {},
   "outputs": [],
   "source": [
    "malicious_packages_subpatterns_setup_df = malicious_packages_subpatterns_df[malicious_packages_subpatterns_df['target'].str.contains('setup.py')]"
   ]
  },
  {
   "cell_type": "code",
   "execution_count": 26,
   "id": "26b43289",
   "metadata": {},
   "outputs": [
    {
     "name": "stdout",
     "output_type": "stream",
     "text": [
      "Total number of subpatterns: 1191\n"
     ]
    },
    {
     "data": {
      "text/plain": [
       "count    99.000000\n",
       "mean     12.030303\n",
       "std      12.465016\n",
       "min       1.000000\n",
       "25%       3.000000\n",
       "50%       6.000000\n",
       "75%      15.500000\n",
       "max      62.000000\n",
       "Name: subpattern, dtype: float64"
      ]
     },
     "execution_count": 26,
     "metadata": {},
     "output_type": "execute_result"
    }
   ],
   "source": [
    "# Number of subpatterns per package\n",
    "malicious_packages_subpatterns_setup_groupby = malicious_packages_subpatterns_setup_df.groupby('package')['subpattern']\n",
    "print(f\"Total number of subpatterns: {malicious_packages_subpatterns_setup_groupby.count().sum()}\")\n",
    "malicious_packages_subpatterns_setup_groupby.count().describe()"
   ]
  },
  {
   "cell_type": "markdown",
   "id": "07de86d1",
   "metadata": {},
   "source": [
    "### Runtime"
   ]
  },
  {
   "cell_type": "code",
   "execution_count": null,
   "id": "1aa1f417",
   "metadata": {},
   "outputs": [],
   "source": [
    "malicious_packages_running_times = computing_runtimes(malicious_packages_path)"
   ]
  },
  {
   "cell_type": "code",
   "execution_count": null,
   "id": "45fe5bee",
   "metadata": {},
   "outputs": [],
   "source": [
    "pd.DataFrame(list(malicious_packages_running_times.values())).describe()"
   ]
  },
  {
   "cell_type": "markdown",
   "id": "d276b3bd",
   "metadata": {},
   "source": [
    "## Analyzing Popular packages"
   ]
  },
  {
   "cell_type": "code",
   "execution_count": 17,
   "id": "81dee32c",
   "metadata": {},
   "outputs": [],
   "source": [
    "# Path to the popular packages dataset\n",
    "popular_packages_path = os.path.abspath(\"../dataset/popular-packages\")"
   ]
  },
  {
   "cell_type": "code",
   "execution_count": 18,
   "id": "50a60fe9",
   "metadata": {},
   "outputs": [
    {
     "name": "stderr",
     "output_type": "stream",
     "text": [
      "100%|██████████████████████████████████████████████████████████████████████████████████████████████████████████████████████████████████████████████████████████████████████████████████████████████████| 1430/1430 [3:58:55<00:00, 10.03s/it]\n"
     ]
    }
   ],
   "source": [
    "popular_running_times = computing_runtimes(popular_packages_path)"
   ]
  },
  {
   "cell_type": "code",
   "execution_count": 19,
   "id": "9b5f4345",
   "metadata": {},
   "outputs": [],
   "source": [
    "popular_packages_running_times_df = pd.DataFrame(list(popular_running_times.items()), columns=['package', 'running_time'])"
   ]
  },
  {
   "cell_type": "code",
   "execution_count": 20,
   "id": "6dbc3729",
   "metadata": {},
   "outputs": [],
   "source": [
    "popular_packages_running_times_df.to_csv(\"../results/running_times/pypi-malware-checks/popular-packages.csv\")"
   ]
  },
  {
   "cell_type": "code",
   "execution_count": 21,
   "id": "14c75dbd",
   "metadata": {},
   "outputs": [
    {
     "data": {
      "text/plain": [
       "count    1430.000000\n",
       "mean       10.020938\n",
       "std        53.222977\n",
       "min         0.332454\n",
       "25%         0.955504\n",
       "50%         1.876288\n",
       "75%         4.753420\n",
       "max      1570.409981\n",
       "Name: running_time, dtype: float64"
      ]
     },
     "execution_count": 21,
     "metadata": {},
     "output_type": "execute_result"
    }
   ],
   "source": [
    "popular_packages_running_times_df[\"running_time\"].describe()"
   ]
  },
  {
   "cell_type": "code",
   "execution_count": 28,
   "id": "f0fde1df",
   "metadata": {},
   "outputs": [
    {
     "data": {
      "text/plain": [
       "package             ansible\n",
       "running_time    1570.409981\n",
       "Name: 36, dtype: object"
      ]
     },
     "execution_count": 28,
     "metadata": {},
     "output_type": "execute_result"
    }
   ],
   "source": [
    "popular_packages_running_times_df.loc[popular_packages_running_times_df['running_time'].idxmax()]"
   ]
  },
  {
   "cell_type": "code",
   "execution_count": 114,
   "id": "cfa9288c",
   "metadata": {},
   "outputs": [],
   "source": [
    "# Loading the existing result in case we do not want to rescan the packages\n",
    "with open(os.path.abspath(os.path.join(\"..\", \"results\", \"pypi-malware-checks\", \"popular_packages.pkl\")), 'rb') as fp:\n",
    "    popular_packages_scanning_results = pickle.load(fp)"
   ]
  },
  {
   "cell_type": "markdown",
   "id": "896cfc24",
   "metadata": {},
   "source": [
    "### Triggered rules and subpatterns in all Python files in popular packages"
   ]
  },
  {
   "cell_type": "code",
   "execution_count": 115,
   "id": "90c190d4",
   "metadata": {},
   "outputs": [],
   "source": [
    "# Collect the alerts and transform them into datafarame\n",
    "popular_packages_rules = parse_analysis_results(popular_packages_scanning_results)\n",
    "popular_packages_rules_df = pd.DataFrame(popular_packages_rules, columns=[\"package\", \"target\", \"rule\", \"has_rule\"])"
   ]
  },
  {
   "cell_type": "code",
   "execution_count": 116,
   "id": "158da8e3",
   "metadata": {},
   "outputs": [
    {
     "name": "stdout",
     "output_type": "stream",
     "text": [
      "Total number of rules: 51283\n"
     ]
    },
    {
     "data": {
      "text/plain": [
       "count    1430.000000\n",
       "mean       35.862238\n",
       "std       163.910398\n",
       "min         0.000000\n",
       "25%         3.000000\n",
       "50%         8.000000\n",
       "75%        27.000000\n",
       "max      5377.000000\n",
       "Name: has_rule, dtype: float64"
      ]
     },
     "execution_count": 116,
     "metadata": {},
     "output_type": "execute_result"
    }
   ],
   "source": [
    "# Number of rules per package\n",
    "popular_packages_rules_groupby = popular_packages_rules_df.groupby('package')['has_rule']\n",
    "print(f\"Total number of rules: {popular_packages_rules_groupby.sum().sum()}\")\n",
    "popular_packages_rules_groupby.sum().describe()"
   ]
  },
  {
   "cell_type": "code",
   "execution_count": 117,
   "id": "cbf22e13",
   "metadata": {},
   "outputs": [],
   "source": [
    "# popular packages that have at least one alert\n",
    "popular_packages_has_rules_df = popular_packages_rules_df[popular_packages_rules_df['has_rule'] != 0]"
   ]
  },
  {
   "cell_type": "code",
   "execution_count": 118,
   "id": "3e97c65e",
   "metadata": {},
   "outputs": [
    {
     "name": "stdout",
     "output_type": "stream",
     "text": [
      "Total number of rules: 51283\n"
     ]
    },
    {
     "data": {
      "text/plain": [
       "count    1347.000000\n",
       "mean       38.072012\n",
       "std       168.639064\n",
       "min         1.000000\n",
       "25%         3.000000\n",
       "50%        10.000000\n",
       "75%        29.000000\n",
       "max      5377.000000\n",
       "Name: has_rule, dtype: float64"
      ]
     },
     "execution_count": 118,
     "metadata": {},
     "output_type": "execute_result"
    }
   ],
   "source": [
    "# Number of rules per package\n",
    "popular_packages_has_rules_groupby = popular_packages_has_rules_df.groupby('package')['has_rule']\n",
    "print(f\"Total number of rules: {popular_packages_has_rules_groupby.sum().sum()}\")\n",
    "popular_packages_has_rules_groupby.sum().describe()"
   ]
  },
  {
   "cell_type": "code",
   "execution_count": 36,
   "id": "dd198574",
   "metadata": {},
   "outputs": [],
   "source": [
    "# Collect the alerts and transform them into datafarame\n",
    "popular_packages_subpatterns = collect_subpatterns(popular_packages_scanning_results)\n",
    "popular_packages_subpatterns_df = pd.DataFrame(popular_packages_subpatterns, columns=[\"package\", \"target\", \"rule\", \"subpattern\"])"
   ]
  },
  {
   "cell_type": "code",
   "execution_count": 37,
   "id": "40e7b7a5",
   "metadata": {},
   "outputs": [
    {
     "name": "stdout",
     "output_type": "stream",
     "text": [
      "Total number of subpatterns: 607854\n"
     ]
    },
    {
     "data": {
      "text/plain": [
       "count     1347.000000\n",
       "mean       451.265033\n",
       "std       1795.839013\n",
       "min          1.000000\n",
       "25%         12.000000\n",
       "50%         60.000000\n",
       "75%        265.500000\n",
       "max      44798.000000\n",
       "Name: subpattern, dtype: float64"
      ]
     },
     "execution_count": 37,
     "metadata": {},
     "output_type": "execute_result"
    }
   ],
   "source": [
    "# Number of subpatterns per package\n",
    "popular_packages_subpatterns_groupby = popular_packages_subpatterns_df.groupby('package')['subpattern']\n",
    "print(f\"Total number of subpatterns: {popular_packages_subpatterns_groupby.count().sum()}\")\n",
    "popular_packages_subpatterns_groupby.count().describe()"
   ]
  },
  {
   "cell_type": "markdown",
   "id": "5dc4e6b4",
   "metadata": {},
   "source": [
    "### Triggered rules and subpatterns in all setup.py files in popular packages"
   ]
  },
  {
   "cell_type": "code",
   "execution_count": 119,
   "id": "2054363a",
   "metadata": {},
   "outputs": [],
   "source": [
    "# Selecting only setup.py files\n",
    "popular_packages_rules_setup_df = popular_packages_rules_df[popular_packages_rules_df['target'].str.contains('setup.py')]"
   ]
  },
  {
   "cell_type": "code",
   "execution_count": 120,
   "id": "20c69925",
   "metadata": {},
   "outputs": [
    {
     "name": "stdout",
     "output_type": "stream",
     "text": [
      "Total number of rules: 768\n"
     ]
    },
    {
     "data": {
      "text/plain": [
       "count    1320.000000\n",
       "mean        0.581818\n",
       "std         1.568541\n",
       "min         0.000000\n",
       "25%         0.000000\n",
       "50%         0.000000\n",
       "75%         1.000000\n",
       "max        45.000000\n",
       "Name: has_rule, dtype: float64"
      ]
     },
     "execution_count": 120,
     "metadata": {},
     "output_type": "execute_result"
    }
   ],
   "source": [
    "# Number of rules per package\n",
    "popular_packages_rules_setup_groupby = popular_packages_rules_setup_df.groupby('package')['has_rule']\n",
    "print(f\"Total number of rules: {popular_packages_rules_setup_groupby.sum().sum()}\")\n",
    "popular_packages_rules_setup_groupby.sum().describe()"
   ]
  },
  {
   "cell_type": "code",
   "execution_count": 121,
   "id": "84c6c58f",
   "metadata": {},
   "outputs": [],
   "source": [
    "# popular packages whose setup.py files that have at least one alert\n",
    "popular_packages_setup_has_rules_df = popular_packages_rules_setup_df[popular_packages_rules_setup_df['has_rule'] != 0]"
   ]
  },
  {
   "cell_type": "code",
   "execution_count": 122,
   "id": "9667ae38",
   "metadata": {},
   "outputs": [
    {
     "name": "stdout",
     "output_type": "stream",
     "text": [
      "Total number of rules: 768\n"
     ]
    },
    {
     "data": {
      "text/plain": [
       "count    474.000000\n",
       "mean       1.620253\n",
       "std        2.274802\n",
       "min        1.000000\n",
       "25%        1.000000\n",
       "50%        1.000000\n",
       "75%        2.000000\n",
       "max       45.000000\n",
       "Name: has_rule, dtype: float64"
      ]
     },
     "execution_count": 122,
     "metadata": {},
     "output_type": "execute_result"
    }
   ],
   "source": [
    "# Number of rules per package\n",
    "popular_packages_setup_has_rules_groupby = popular_packages_setup_has_rules_df.groupby('package')['has_rule']\n",
    "print(f\"Total number of rules: {popular_packages_setup_has_rules_groupby.sum().sum()}\")\n",
    "popular_packages_setup_has_rules_groupby.sum().describe()"
   ]
  },
  {
   "cell_type": "code",
   "execution_count": 123,
   "id": "8c6048f3",
   "metadata": {},
   "outputs": [
    {
     "ename": "NameError",
     "evalue": "name 'get_tpr_fpr' is not defined",
     "output_type": "error",
     "traceback": [
      "\u001b[0;31m---------------------------------------------------------------------------\u001b[0m",
      "\u001b[0;31mNameError\u001b[0m                                 Traceback (most recent call last)",
      "Input \u001b[0;32mIn [123]\u001b[0m, in \u001b[0;36m<cell line: 5>\u001b[0;34m()\u001b[0m\n\u001b[1;32m      4\u001b[0m thesholds_tpr_fpr_ratio \u001b[38;5;241m=\u001b[39m []\n\u001b[1;32m      5\u001b[0m \u001b[38;5;28;01mfor\u001b[39;00m t \u001b[38;5;129;01min\u001b[39;00m thresholds:\n\u001b[0;32m----> 6\u001b[0m     tp, fp \u001b[38;5;241m=\u001b[39m \u001b[43mget_tpr_fpr\u001b[49m(scores, t)\n\u001b[1;32m      7\u001b[0m     \u001b[38;5;28mprint\u001b[39m(t, tp, fp)\n",
      "\u001b[0;31mNameError\u001b[0m: name 'get_tpr_fpr' is not defined"
     ]
    }
   ],
   "source": [
    "# Ratio of true positives to false postives \n",
    "thresholds = [1, 2, 3, 4, 5]\n",
    "scores = popular_packages_setup_has_rules_groupby.sum().to_list()\n",
    "thesholds_tpr_fpr_ratio = []\n",
    "for t in thresholds:\n",
    "    tp, fp = get_tpr_fpr(scores, t)\n",
    "    print(t, tp, fp)"
   ]
  },
  {
   "cell_type": "code",
   "execution_count": 42,
   "id": "0092a099",
   "metadata": {},
   "outputs": [],
   "source": [
    "popular_packages_subpatterns_setup_df = popular_packages_subpatterns_df[popular_packages_subpatterns_df['target'].str.contains('setup.py')]"
   ]
  },
  {
   "cell_type": "code",
   "execution_count": 43,
   "id": "44c20857",
   "metadata": {},
   "outputs": [
    {
     "name": "stdout",
     "output_type": "stream",
     "text": [
      "Total number of subpatterns: 14219\n"
     ]
    },
    {
     "data": {
      "text/plain": [
       "count    474.000000\n",
       "mean      29.997890\n",
       "std       66.334806\n",
       "min        1.000000\n",
       "25%        1.000000\n",
       "50%        3.000000\n",
       "75%       22.750000\n",
       "max      610.000000\n",
       "Name: subpattern, dtype: float64"
      ]
     },
     "execution_count": 43,
     "metadata": {},
     "output_type": "execute_result"
    }
   ],
   "source": [
    "# Number of subpatterns per package\n",
    "popular_packages_subpatterns_setup_groupby = popular_packages_subpatterns_setup_df.groupby('package')['subpattern']\n",
    "print(f\"Total number of subpatterns: {popular_packages_subpatterns_setup_groupby.count().sum()}\")\n",
    "popular_packages_subpatterns_setup_groupby.count().describe()"
   ]
  },
  {
   "cell_type": "markdown",
   "id": "1ffb649a",
   "metadata": {},
   "source": [
    "### Running time"
   ]
  },
  {
   "cell_type": "code",
   "execution_count": 44,
   "id": "716f1877",
   "metadata": {},
   "outputs": [
    {
     "ename": "NameError",
     "evalue": "name 'popular_packages_path' is not defined",
     "output_type": "error",
     "traceback": [
      "\u001b[0;31m---------------------------------------------------------------------------\u001b[0m",
      "\u001b[0;31mNameError\u001b[0m                                 Traceback (most recent call last)",
      "Input \u001b[0;32mIn [44]\u001b[0m, in \u001b[0;36m<cell line: 1>\u001b[0;34m()\u001b[0m\n\u001b[0;32m----> 1\u001b[0m popular_packages_running_times \u001b[38;5;241m=\u001b[39m computing_runtimes(\u001b[43mpopular_packages_path\u001b[49m)\n",
      "\u001b[0;31mNameError\u001b[0m: name 'popular_packages_path' is not defined"
     ]
    }
   ],
   "source": [
    "popular_packages_running_times = computing_runtimes(popular_packages_path)"
   ]
  },
  {
   "cell_type": "code",
   "execution_count": null,
   "id": "76ec0e64",
   "metadata": {},
   "outputs": [],
   "source": [
    "pd.DataFrame(list(popular_packages_running_times.values())).describe()"
   ]
  },
  {
   "cell_type": "code",
   "execution_count": null,
   "id": "0cd4480c",
   "metadata": {},
   "outputs": [],
   "source": [
    "# Saving the existing result\n",
    "with open(os.path.abspath(\"../results/pypi-malware-checks/popular_packages_scanning_results_pypi_malwarechecks.pkl\"), 'wb') as fp:\n",
    "    pickle.dump(popular_packages_scanning_results, fp, protocol=pickle.HIGHEST_PROTOCOL)"
   ]
  },
  {
   "cell_type": "markdown",
   "id": "de8c03a0",
   "metadata": {},
   "source": [
    "### Ploting results"
   ]
  },
  {
   "cell_type": "code",
   "execution_count": null,
   "id": "9573d488",
   "metadata": {},
   "outputs": [],
   "source": [
    "# Number of alerts per rule\n",
    "print(malicious_rules_num_alerts_df.groupby('rule')['num_alerts'].sum())\n",
    "print(f\"Total: {malicious_rules_num_alerts_df.groupby('rule')['num_alerts'].sum().sum()}\")"
   ]
  },
  {
   "cell_type": "code",
   "execution_count": null,
   "id": "7358eae1",
   "metadata": {},
   "outputs": [],
   "source": [
    "ax = malicious_rules_num_alerts_df.num_alerts.groupby(malicious_rules_num_alerts_df.package).nunique().hist(bins=10);\n",
    "ax.set_xlabel('num packages');\n",
    "ax.set_ylabel('num alerts');\n",
    "ax.set_xticks(range(1, 30, 2), minor=False)\n",
    "plt.show()"
   ]
  },
  {
   "cell_type": "code",
   "execution_count": null,
   "id": "34877484",
   "metadata": {},
   "outputs": [],
   "source": [
    "# Number of unique packages having a rule\n",
    "malicious_rules_num_alerts_df.groupby('rule')['package'].nunique()"
   ]
  },
  {
   "cell_type": "code",
   "execution_count": null,
   "id": "e65de8bf",
   "metadata": {},
   "outputs": [],
   "source": [
    "# Loading the existing result\n",
    "with open(os.path.abspath(\"../results/popular_packages_scanning_results_pypi_malwarechecks.pkl\"), 'rb') as fp:\n",
    "    popular_packages_scanning_results = pickle.load(fp)"
   ]
  },
  {
   "cell_type": "code",
   "execution_count": null,
   "id": "afc07677",
   "metadata": {},
   "outputs": [],
   "source": [
    "# Selecting only setup.py files\n",
    "malicious_packages_alerts_setup_df = malicious_packages_alerts_df[malicious_packages_alerts_df['target'].str.contains('setup.py')]"
   ]
  },
  {
   "cell_type": "code",
   "execution_count": null,
   "id": "3e01834b",
   "metadata": {},
   "outputs": [],
   "source": [
    "# Number of rules per package\n",
    "malicious_packages_rules_setup = malicious_packages_alerts_setup_df.groupby('package')['rule']\n",
    "print(f\"Total number of rules: {malicious_packages_rules_setup.nunique().sum()}\")\n",
    "malicious_packages_rules_setup.nunique().describe()"
   ]
  },
  {
   "cell_type": "code",
   "execution_count": null,
   "id": "ef5f82cc",
   "metadata": {},
   "outputs": [],
   "source": [
    "# Number of subpatterns per package\n",
    "malicious_packages_subpatterns_setup = malicious_packages_alerts_setup_df.groupby('package')['subpattern']\n",
    "print(f\"Total number of subpatterns in setup.py files: {malicious_packages_subpatterns_setup.count().sum()}\")\n",
    "malicious_packages_subpatterns_setup.count().describe()"
   ]
  },
  {
   "cell_type": "code",
   "execution_count": null,
   "id": "7c41d294",
   "metadata": {},
   "outputs": [],
   "source": [
    "# Number of alerts per rule\n",
    "print(malicious_rules_num_alerts_setup_df.groupby('rule')['num_alerts'].sum())\n",
    "print(f\"Total: {malicious_rules_num_alerts_setup_df.groupby('rule')['num_alerts'].sum().sum()}\")"
   ]
  },
  {
   "cell_type": "code",
   "execution_count": null,
   "id": "981b1eb7",
   "metadata": {},
   "outputs": [],
   "source": [
    "# Number of unique packages having a rule\n",
    "print(malicious_rules_num_alerts_setup_df.groupby('rule')['package'].nunique())\n",
    "print(f\"Total: {malicious_rules_num_alerts_setup_df.groupby('rule')['package'].nunique().sum()}\")"
   ]
  },
  {
   "cell_type": "code",
   "execution_count": null,
   "id": "e177e033",
   "metadata": {},
   "outputs": [],
   "source": [
    "# Saving the existing result\n",
    "with open(os.path.abspath(\"../results/malicious_packages_scanning_results_pypi_malwarechecks.pkl\"), 'wb') as fp:\n",
    "    pickle.dump(malicious_packages_scanning_results, fp, protocol=pickle.HIGHEST_PROTOCOL)"
   ]
  },
  {
   "cell_type": "code",
   "execution_count": null,
   "id": "b87db397",
   "metadata": {},
   "outputs": [],
   "source": []
  },
  {
   "cell_type": "code",
   "execution_count": null,
   "id": "f29c505e",
   "metadata": {},
   "outputs": [],
   "source": [
    "# Collect the number of alerts associated with the packages and transform the result to dataframe for analysis\n",
    "popular_rules_num_alerts = collect_rules_num_alerts(popular_packages_scanning_results)\n",
    "popular_rules_num_alerts_df = pd.DataFrame(popular_rules_num_alerts, columns=[\"package\", \"target\", \"rule\", \"num_alerts\"])"
   ]
  },
  {
   "cell_type": "code",
   "execution_count": null,
   "id": "4ae9b019",
   "metadata": {},
   "outputs": [],
   "source": [
    "# Descriptive statistics of number of alerts\n",
    "popular_rules_num_alerts_df.num_alerts.describe()"
   ]
  },
  {
   "cell_type": "code",
   "execution_count": null,
   "id": "da811e75",
   "metadata": {},
   "outputs": [],
   "source": [
    "# Number of alerts per rule\n",
    "print(popular_rules_num_alerts_df.groupby('rule')['num_alerts'].sum())\n",
    "print(f\"Total: {popular_rules_num_alerts_df.groupby('rule')['num_alerts'].sum().sum()}\")"
   ]
  },
  {
   "cell_type": "code",
   "execution_count": null,
   "id": "1917aed8",
   "metadata": {},
   "outputs": [],
   "source": [
    "ax = popular_rules_num_alerts_df.num_alerts.groupby(popular_rules_num_alerts_df.package).nunique().hist(bins=20);\n",
    "ax.set_xlabel('num packages');\n",
    "ax.set_ylabel('num alerts');\n",
    "ax.set_xticks(range(1, 100, 5), minor=False)\n",
    "plt.show()"
   ]
  },
  {
   "cell_type": "code",
   "execution_count": null,
   "id": "8c313a20",
   "metadata": {},
   "outputs": [],
   "source": [
    "# Number of unique packages having a rule\n",
    "print(popular_rules_num_alerts_df.groupby('rule')['package'].nunique())\n",
    "print(f\"Total: {popular_rules_num_alerts_df.groupby('rule')['package'].nunique().sum()}\")"
   ]
  },
  {
   "cell_type": "code",
   "execution_count": null,
   "id": "32133070",
   "metadata": {},
   "outputs": [],
   "source": [
    "# Selecting only setup.py files\n",
    "popular_rules_num_alerts_setup_df = popular_rules_num_alerts_df[popular_rules_num_alerts_df['target'].str.contains('setup.py')]"
   ]
  },
  {
   "cell_type": "code",
   "execution_count": null,
   "id": "2fa9c4f7",
   "metadata": {},
   "outputs": [],
   "source": [
    "# Number of alerts per rule\n",
    "print(popular_rules_num_alerts_setup_df.groupby('rule')['num_alerts'].sum())\n",
    "print(f\"Total: {popular_rules_num_alerts_setup_df.groupby('rule')['num_alerts'].sum().sum()}\")"
   ]
  },
  {
   "cell_type": "code",
   "execution_count": null,
   "id": "a8c24752",
   "metadata": {},
   "outputs": [],
   "source": [
    "# Number of unique packages having a rule\n",
    "popular_rules_num_alerts_setup_df.groupby('rule')['package'].nunique()"
   ]
  },
  {
   "cell_type": "code",
   "execution_count": null,
   "id": "7ebff838",
   "metadata": {},
   "outputs": [],
   "source": []
  },
  {
   "cell_type": "markdown",
   "id": "471e19c0",
   "metadata": {},
   "source": [
    "## Analyzing Random packages"
   ]
  },
  {
   "cell_type": "code",
   "execution_count": 22,
   "id": "afdc7785",
   "metadata": {},
   "outputs": [],
   "source": [
    "random_packages_path = os.path.abspath(\"../dataset/random-packages/\")"
   ]
  },
  {
   "cell_type": "code",
   "execution_count": 23,
   "id": "32dd1e20",
   "metadata": {},
   "outputs": [
    {
     "name": "stderr",
     "output_type": "stream",
     "text": [
      "100%|██████████████████████████████████████████████████████████████████████████████████████████████████████████████████████████████████████████████████████████████████████████████████████████████████████| 986/986 [30:43<00:00,  1.87s/it]\n"
     ]
    }
   ],
   "source": [
    "random_running_times = computing_runtimes(random_packages_path)"
   ]
  },
  {
   "cell_type": "code",
   "execution_count": 24,
   "id": "52d617b5",
   "metadata": {},
   "outputs": [],
   "source": [
    "random_packages_running_times_df = pd.DataFrame(list(random_running_times.items()), columns=['package', 'running_time'])"
   ]
  },
  {
   "cell_type": "code",
   "execution_count": 25,
   "id": "250412e6",
   "metadata": {},
   "outputs": [],
   "source": [
    "random_packages_running_times_df.to_csv(\"../results/running_times/pypi-malware-checks/random-packages.csv\")"
   ]
  },
  {
   "cell_type": "code",
   "execution_count": 26,
   "id": "88266d43",
   "metadata": {},
   "outputs": [
    {
     "data": {
      "text/plain": [
       "count    986.000000\n",
       "mean       1.866525\n",
       "std       10.444509\n",
       "min        0.285383\n",
       "25%        0.539373\n",
       "50%        0.690816\n",
       "75%        1.085275\n",
       "max      243.675172\n",
       "Name: running_time, dtype: float64"
      ]
     },
     "execution_count": 26,
     "metadata": {},
     "output_type": "execute_result"
    }
   ],
   "source": [
    "random_packages_running_times_df[\"running_time\"].describe()"
   ]
  },
  {
   "cell_type": "code",
   "execution_count": null,
   "id": "b04eaafa",
   "metadata": {},
   "outputs": [],
   "source": [
    "# Uncomment to re-run the scanning, this would take a while\n",
    "random_packages_scanning_results = scanning_releases(random_pypi_packages)"
   ]
  },
  {
   "cell_type": "code",
   "execution_count": null,
   "id": "382b6c8d",
   "metadata": {},
   "outputs": [],
   "source": [
    "ceremony_scanning_results = scanning_releases(random_pypi_packages)"
   ]
  },
  {
   "cell_type": "markdown",
   "id": "f5abd576",
   "metadata": {},
   "source": [
    "### Triggered rules and subpatterns in all Python files in random packages"
   ]
  },
  {
   "cell_type": "code",
   "execution_count": 102,
   "id": "2e0ae8e3",
   "metadata": {},
   "outputs": [],
   "source": [
    "# Loading the existing result\n",
    "with open(os.path.abspath(os.path.join(\"..\", \"results\", \"pypi-malware-checks\", \"random_packages.pkl\")), 'rb') as fp:\n",
    "    random_packages_scanning_results = pickle.load(fp)"
   ]
  },
  {
   "cell_type": "code",
   "execution_count": 103,
   "id": "10b947d5",
   "metadata": {},
   "outputs": [],
   "source": [
    "# Collect the alerts and transform them into datafarame\n",
    "random_packages_rules = parse_analysis_results(random_packages_scanning_results)\n",
    "random_packages_rules_df = pd.DataFrame(random_packages_rules, columns=[\"package\", \"target\", \"rule\", \"has_rule\"])"
   ]
  },
  {
   "cell_type": "code",
   "execution_count": 104,
   "id": "90571347",
   "metadata": {},
   "outputs": [
    {
     "name": "stdout",
     "output_type": "stream",
     "text": [
      "Total number of rules: 5460\n"
     ]
    },
    {
     "data": {
      "text/plain": [
       "count    986.000000\n",
       "mean       5.537525\n",
       "std       31.223431\n",
       "min        0.000000\n",
       "25%        0.000000\n",
       "50%        1.000000\n",
       "75%        4.000000\n",
       "max      728.000000\n",
       "Name: has_rule, dtype: float64"
      ]
     },
     "execution_count": 104,
     "metadata": {},
     "output_type": "execute_result"
    }
   ],
   "source": [
    "# Number of rules per package\n",
    "random_packages_rules_groupby = random_packages_rules_df.groupby('package')['has_rule']\n",
    "print(f\"Total number of rules: {random_packages_rules_groupby.sum().sum()}\")\n",
    "random_packages_rules_groupby.sum().describe()"
   ]
  },
  {
   "cell_type": "code",
   "execution_count": 107,
   "id": "13a7f604",
   "metadata": {},
   "outputs": [],
   "source": [
    "# packages that have at least one alert\n",
    "random_packages_has_rules_df = random_packages_rules_df[random_packages_rules_df['has_rule'] != 0]"
   ]
  },
  {
   "cell_type": "code",
   "execution_count": 108,
   "id": "8c4f8d36",
   "metadata": {},
   "outputs": [
    {
     "name": "stdout",
     "output_type": "stream",
     "text": [
      "Total number of rules: 5460\n"
     ]
    },
    {
     "data": {
      "text/plain": [
       "count    668.000000\n",
       "mean       8.173653\n",
       "std       37.657930\n",
       "min        1.000000\n",
       "25%        1.000000\n",
       "50%        2.000000\n",
       "75%        6.000000\n",
       "max      728.000000\n",
       "Name: has_rule, dtype: float64"
      ]
     },
     "execution_count": 108,
     "metadata": {},
     "output_type": "execute_result"
    }
   ],
   "source": [
    "# Number of rules per package\n",
    "random_packages_has_rules_groupby = random_packages_has_rules_df.groupby('package')['has_rule']\n",
    "print(f\"Total number of rules: {random_packages_has_rules_groupby.sum().sum()}\")\n",
    "random_packages_has_rules_groupby.sum().describe()"
   ]
  },
  {
   "cell_type": "code",
   "execution_count": 49,
   "id": "db2d72fa",
   "metadata": {},
   "outputs": [],
   "source": [
    "# Collect the alerts and transform them into datafarame\n",
    "random_packages_subpatterns = collect_subpatterns(random_packages_scanning_results)\n",
    "random_packages_subpatterns_df = pd.DataFrame(random_packages_subpatterns, columns=[\"package\", \"target\", \"rule\", \"subpattern\"])"
   ]
  },
  {
   "cell_type": "code",
   "execution_count": 50,
   "id": "a1c4acd3",
   "metadata": {},
   "outputs": [
    {
     "name": "stdout",
     "output_type": "stream",
     "text": [
      "Total number of subpatterns: 57108\n"
     ]
    },
    {
     "data": {
      "text/plain": [
       "count     668.000000\n",
       "mean       85.491018\n",
       "std       476.756346\n",
       "min         1.000000\n",
       "25%         3.000000\n",
       "50%         9.000000\n",
       "75%        41.000000\n",
       "max      9466.000000\n",
       "Name: subpattern, dtype: float64"
      ]
     },
     "execution_count": 50,
     "metadata": {},
     "output_type": "execute_result"
    }
   ],
   "source": [
    "# Number of subpatterns per package\n",
    "random_packages_subpatterns_groupby = random_packages_subpatterns_df.groupby('package')['subpattern']\n",
    "print(f\"Total number of subpatterns: {random_packages_subpatterns_groupby.count().sum()}\")\n",
    "random_packages_subpatterns_groupby.count().describe()"
   ]
  },
  {
   "cell_type": "markdown",
   "id": "70c9a4b6",
   "metadata": {},
   "source": [
    "### Triggered rules and subpatterns in all setup.py files in random packages"
   ]
  },
  {
   "cell_type": "code",
   "execution_count": 51,
   "id": "a6defe41",
   "metadata": {},
   "outputs": [],
   "source": [
    "# Selecting only setup.py files\n",
    "random_packages_rules_setup_df = random_packages_rules_df[random_packages_rules_df['target'].str.contains('setup.py')]"
   ]
  },
  {
   "cell_type": "code",
   "execution_count": 52,
   "id": "dab96638",
   "metadata": {},
   "outputs": [
    {
     "name": "stdout",
     "output_type": "stream",
     "text": [
      "Total number of rules: 197\n"
     ]
    },
    {
     "data": {
      "text/plain": [
       "count    868.000000\n",
       "mean       0.226959\n",
       "std        0.633812\n",
       "min        0.000000\n",
       "25%        0.000000\n",
       "50%        0.000000\n",
       "75%        0.000000\n",
       "max        9.000000\n",
       "Name: has_rule, dtype: float64"
      ]
     },
     "execution_count": 52,
     "metadata": {},
     "output_type": "execute_result"
    }
   ],
   "source": [
    "# Number of rules per package\n",
    "random_packages_rules_setup_groupby = random_packages_rules_setup_df.groupby('package')['has_rule']\n",
    "print(f\"Total number of rules: {random_packages_rules_setup_groupby.sum().sum()}\")\n",
    "random_packages_rules_setup_groupby.sum().describe()"
   ]
  },
  {
   "cell_type": "code",
   "execution_count": 53,
   "id": "e0dcba18",
   "metadata": {},
   "outputs": [],
   "source": [
    "random_packages_setup_has_rules_df = random_packages_rules_setup_df[random_packages_rules_setup_df['has_rule'] != 0]"
   ]
  },
  {
   "cell_type": "code",
   "execution_count": 54,
   "id": "92582c30",
   "metadata": {},
   "outputs": [
    {
     "name": "stdout",
     "output_type": "stream",
     "text": [
      "Total number of rules: 197\n"
     ]
    },
    {
     "data": {
      "text/plain": [
       "count    147.000000\n",
       "mean       1.340136\n",
       "std        0.939955\n",
       "min        1.000000\n",
       "25%        1.000000\n",
       "50%        1.000000\n",
       "75%        1.000000\n",
       "max        9.000000\n",
       "Name: has_rule, dtype: float64"
      ]
     },
     "execution_count": 54,
     "metadata": {},
     "output_type": "execute_result"
    }
   ],
   "source": [
    "# Number of rules per package\n",
    "random_packages_rules_setup_has_rules_groupby = random_packages_setup_has_rules_df.groupby('package')['has_rule']\n",
    "print(f\"Total number of rules: {random_packages_rules_setup_has_rules_groupby.sum().sum()}\")\n",
    "random_packages_rules_setup_has_rules_groupby.sum().describe()"
   ]
  },
  {
   "cell_type": "code",
   "execution_count": null,
   "id": "c5c51974",
   "metadata": {},
   "outputs": [],
   "source": [
    "random_packages_subpatterns_setup_df = random_packages_subpatterns_df[random_packages_subpatterns_df['target'].str.contains('setup.py')]"
   ]
  },
  {
   "cell_type": "code",
   "execution_count": null,
   "id": "99cfb191",
   "metadata": {},
   "outputs": [],
   "source": [
    "# Number of subpatterns per package\n",
    "random_packages_subpatterns_setup_groupby = random_packages_subpatterns_setup_df.groupby('package')['subpattern']\n",
    "print(f\"Total number of subpatterns: {random_packages_subpatterns_setup_groupby.count().sum()}\")\n",
    "random_packages_subpatterns_setup_groupby.count().describe()"
   ]
  },
  {
   "cell_type": "markdown",
   "id": "4fa3d04a",
   "metadata": {},
   "source": [
    "### Running time"
   ]
  },
  {
   "cell_type": "code",
   "execution_count": null,
   "id": "9fe531c7",
   "metadata": {},
   "outputs": [],
   "source": [
    "random_packages_running_times = computing_runtimes(random_pypi_packages)"
   ]
  },
  {
   "cell_type": "code",
   "execution_count": null,
   "id": "c431889c",
   "metadata": {},
   "outputs": [],
   "source": [
    "pd.DataFrame(list(random_packages_running_times.values())).describe()"
   ]
  },
  {
   "cell_type": "code",
   "execution_count": null,
   "id": "fff33f02",
   "metadata": {},
   "outputs": [],
   "source": [
    "# Saving the raw result for faster analaysis next time\n",
    "with open(os.path.abspath(\"../results/pypi-malware-checks/random_packages_scanning_results_pypi_malwarechecks.pkl\"), 'wb') as fp:\n",
    "    pickle.dump(random_packages_scanning_results, fp, protocol=pickle.HIGHEST_PROTOCOL)"
   ]
  },
  {
   "cell_type": "code",
   "execution_count": null,
   "id": "f1a622ec",
   "metadata": {},
   "outputs": [],
   "source": []
  },
  {
   "cell_type": "code",
   "execution_count": null,
   "id": "afce7e10",
   "metadata": {},
   "outputs": [],
   "source": [
    "# Collect the number of alerts associated with the packages and transform the result to dataframe for analysis\n",
    "random_rules_num_alerts = collect_rules_num_alerts(random_packages_scanning_results)\n",
    "random_rules_num_alerts_df = pd.DataFrame(random_rules_num_alerts, columns=[\"package\", \"target\", \"rule\", \"num_alerts\"])"
   ]
  },
  {
   "cell_type": "code",
   "execution_count": null,
   "id": "c1fd1b80",
   "metadata": {},
   "outputs": [],
   "source": [
    "# Descriptive statistics of number of alerts\n",
    "random_rules_num_alerts_df.num_alerts.describe()"
   ]
  },
  {
   "cell_type": "code",
   "execution_count": null,
   "id": "ac62155f",
   "metadata": {},
   "outputs": [],
   "source": [
    "# Number of alerts per rule\n",
    "print(random_rules_num_alerts_df.groupby('rule')['num_alerts'].sum())\n",
    "print(f\"Total: {random_rules_num_alerts_df.groupby('rule')['num_alerts'].sum().sum()}\")"
   ]
  },
  {
   "cell_type": "code",
   "execution_count": null,
   "id": "700170d2",
   "metadata": {},
   "outputs": [],
   "source": [
    "ax = random_rules_num_alerts_df.num_alerts.groupby(random_rules_num_alerts_df.package).nunique().hist(bins=20);\n",
    "ax.set_xlabel('num packages');\n",
    "ax.set_ylabel('num alerts');\n",
    "ax.set_xticks(range(1, 100, 5), minor=False)\n",
    "plt.show()"
   ]
  },
  {
   "cell_type": "code",
   "execution_count": null,
   "id": "64bb8157",
   "metadata": {},
   "outputs": [],
   "source": [
    "# Number of unique packages having a rule\n",
    "print(random_rules_num_alerts_df.groupby('rule')['package'].nunique())\n",
    "print(f\"Total: {random_rules_num_alerts_df.groupby('rule')['package'].nunique().sum()}\")"
   ]
  },
  {
   "cell_type": "code",
   "execution_count": null,
   "id": "ae4b12c8",
   "metadata": {},
   "outputs": [],
   "source": [
    "# Selecting only setup.py files\n",
    "random_rules_num_alerts_setup_df = random_rules_num_alerts_df[random_rules_num_alerts_df['target'].str.contains('setup.py')]"
   ]
  },
  {
   "cell_type": "code",
   "execution_count": null,
   "id": "e3a26a5a",
   "metadata": {},
   "outputs": [],
   "source": [
    "# Number of alerts per rule\n",
    "print(random_rules_num_alerts_setup_df.groupby('rule')['num_alerts'].sum())\n",
    "print(f\"Total: {random_rules_num_alerts_setup_df.groupby('rule')['num_alerts'].sum().sum()}\")"
   ]
  },
  {
   "cell_type": "code",
   "execution_count": null,
   "id": "2b8e40d4",
   "metadata": {},
   "outputs": [],
   "source": [
    "# Number of unique packages having a rule\n",
    "random_rules_num_alerts_setup_df.groupby('rule')['package'].nunique()"
   ]
  },
  {
   "cell_type": "code",
   "execution_count": null,
   "id": "a2d16a7b",
   "metadata": {},
   "outputs": [],
   "source": []
  },
  {
   "cell_type": "markdown",
   "id": "1ed576fe",
   "metadata": {},
   "source": [
    "### ERRORS, NEED TO INVESTIGATE\n",
    "/home/lyvd/bad-snakes/dataset/random-packages/clifton-jasmine.tar.gz [Errno 13] Permission denied: '/Users'\n",
    "/home/lyvd/bad-snakes/dataset/random-packages/cexprtk-0.4.0-cp310-cp310-macosx_12_0_x86_64.whl\n",
    "\n",
    "/home/lyvd/bad-snakes/dataset/popular-packages/sphinx-autoapi-1.8.4.tar.gz [Errno 13] Permission denied: '/home/lyvd/bad-snakes/dataset/popular-packages/sphinx-autoapi-1.8.4/tests/dotnetexample/example/Identity/.git/objects/pack/pack-fca9d88bcb5aeae361d4776558a15acd16ccab84.idx'\n",
    "/home/lyvd/bad-snakes/dataset/popular-packages/tensorflow_gpu-2.9.1-cp310-cp310-win_amd64.whl File is not a zip file\n",
    "/home/lyvd/bad-snakes/dataset/popular-packages/ansible-6.0.0/ansible_collections/f5networks/f5_modules/tests/unit/modules/network/f5/fixtures/fake_policy.tar.gz file could not be opened successfully:\n",
    "- method gz: ReadError('invalid header')\n",
    "- method bz2: ReadError('not a bzip2 file')\n",
    "- method xz: ReadError('not an lzma file')\n",
    "- method tar: ReadError('invalid header')\n",
    "/home/lyvd/bad-snakes/dataset/popular-packages/twine-4.0.1/tests/fixtures/malformed.tar.gz Compressed file ended before the end-of-stream marker was reached\n",
    "\n"
   ]
  }
 ],
 "metadata": {
  "kernelspec": {
   "display_name": "Python 3 (ipykernel)",
   "language": "python",
   "name": "python3"
  },
  "language_info": {
   "codemirror_mode": {
    "name": "ipython",
    "version": 3
   },
   "file_extension": ".py",
   "mimetype": "text/x-python",
   "name": "python",
   "nbconvert_exporter": "python",
   "pygments_lexer": "ipython3",
   "version": "3.8.10"
  }
 },
 "nbformat": 4,
 "nbformat_minor": 5
}
