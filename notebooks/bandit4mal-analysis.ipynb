{
 "cells": [
  {
   "cell_type": "code",
   "execution_count": 37,
   "id": "b7fd36b9",
   "metadata": {},
   "outputs": [],
   "source": [
    "import json\n",
    "import os\n",
    "import pandas as pd\n",
    "import pickle\n",
    "import subprocess\n",
    "import time\n",
    "from tqdm import tqdm\n",
    "from functools import lru_cache\n",
    "import tempfile\n",
    "import shutil\n",
    "from pathlib import Path"
   ]
  },
  {
   "cell_type": "code",
   "execution_count": 39,
   "id": "b87b24b6",
   "metadata": {},
   "outputs": [],
   "source": [
    "def scanning_packages(package_releases_path, results_dir):\n",
    "    package_dirs = [f.path for f in os.scandir(package_releases_path) if f.is_dir()]\n",
    "    for package_dir in tqdm(package_dirs):\n",
    "        package_name = f\"{package_dir.split('/')[6]}\" \n",
    "        if package_name not in popular_packages_running_times:\n",
    "            print(package_name)\n",
    "            with tempfile.TemporaryDirectory() as temp_dir:\n",
    "                for dirpath,_,filenames in os.walk(package_dir):\n",
    "                    for f in filenames:\n",
    "                        file_path = os.path.abspath(os.path.join(dirpath, f))\n",
    "                        if Path(file_path).suffix == '.py':\n",
    "                            shutil.copy2(file_path, temp_dir)\n",
    "                start_time = time.time()\n",
    "                subprocess.run([\"bandit\", \"-r\", temp_dir,  \"-f\", \"json\", \"-o\", f\"{os.path.join(results_dir, package_name)}.json\"])\n",
    "                popular_packages_running_times[package_name] = time.time() - start_time"
   ]
  },
  {
   "cell_type": "code",
   "execution_count": 5,
   "id": "2b23d1ae",
   "metadata": {},
   "outputs": [],
   "source": [
    "def parse_analysis_results(results_dir):\n",
    "    results = []\n",
    "    for root, dirs, files in os.walk(results_dir):\n",
    "        for file in files:\n",
    "            file_path = os.path.join(root, file)\n",
    "            package_name = file_path.split(\"/\")[-1].replace(\".json\", \"\")\n",
    "            with open(file_path, \"rb\") as f:\n",
    "                data_bytes = f.read()\n",
    "                data_str = data_bytes.decode(\"utf-8\", errors='ignore')\n",
    "                data = json.loads(data_str)\n",
    "                for result in data[\"results\"]:\n",
    "                    results.append([package_name, result[\"filename\"], result['issue_text']])\n",
    "    return results"
   ]
  },
  {
   "cell_type": "code",
   "execution_count": 6,
   "id": "5bcb6dcc",
   "metadata": {},
   "outputs": [],
   "source": [
    "def get_tp_fp(num_alerts_list, threshold):\n",
    "    count = 0\n",
    "    for i in num_alerts_list:\n",
    "        if i > threshold:\n",
    "            count = count + 1\n",
    "    tp = count\n",
    "    fp = len(num_alerts_list) - tp\n",
    "    return (tp, fp)"
   ]
  },
  {
   "cell_type": "markdown",
   "id": "e5b02968",
   "metadata": {},
   "source": [
    "## Malicious packages"
   ]
  },
  {
   "cell_type": "code",
   "execution_count": 40,
   "id": "39cb752b",
   "metadata": {},
   "outputs": [],
   "source": [
    "malicious_packages_path = os.path.abspath(\"../dataset/malicious-packages/\")\n",
    "malicious_results_dir = os.path.abspath(\"../results/bandit4mal/malicious/\")"
   ]
  },
  {
   "cell_type": "code",
   "execution_count": 41,
   "id": "7e12b441",
   "metadata": {},
   "outputs": [
    {
     "name": "stderr",
     "output_type": "stream",
     "text": [
      "\r",
      "  0%|                                                                                                                                                                                                                | 0/168 [00:00<?, ?it/s]"
     ]
    },
    {
     "name": "stdout",
     "output_type": "stream",
     "text": [
      "10Cent10\n"
     ]
    },
    {
     "name": "stderr",
     "output_type": "stream",
     "text": [
      "[main]\tINFO\tprofile include tests: None\n",
      "[main]\tINFO\tprofile exclude tests: None\n",
      "[main]\tINFO\tcli include tests: None\n",
      "[main]\tINFO\tcli exclude tests: None\n",
      "[json]\tINFO\tJSON output written to file: /home/lyvd/bad-snakes/results/bandit4mal/malicious/10Cent10.json\n",
      "\r",
      "  1%|█▏                                                                                                                                                                                                      | 1/168 [00:00<02:26,  1.14it/s]"
     ]
    },
    {
     "name": "stdout",
     "output_type": "stream",
     "text": [
      "10Cent11\n"
     ]
    },
    {
     "name": "stderr",
     "output_type": "stream",
     "text": [
      "[main]\tINFO\tprofile include tests: None\n",
      "[main]\tINFO\tprofile exclude tests: None\n",
      "[main]\tINFO\tcli include tests: None\n",
      "[main]\tINFO\tcli exclude tests: None\n",
      "[json]\tINFO\tJSON output written to file: /home/lyvd/bad-snakes/results/bandit4mal/malicious/10Cent11.json\n",
      "\r",
      "  1%|██▍                                                                                                                                                                                                     | 2/168 [00:01<01:56,  1.43it/s]"
     ]
    },
    {
     "name": "stdout",
     "output_type": "stream",
     "text": [
      "AadhaarCrypt\n"
     ]
    },
    {
     "name": "stderr",
     "output_type": "stream",
     "text": [
      "[main]\tINFO\tprofile include tests: None\n",
      "[main]\tINFO\tprofile exclude tests: None\n",
      "[main]\tINFO\tcli include tests: None\n",
      "[main]\tINFO\tcli exclude tests: None\n",
      "[json]\tINFO\tJSON output written to file: /home/lyvd/bad-snakes/results/bandit4mal/malicious/AadhaarCrypt.json\n",
      "\r",
      "  2%|███▌                                                                                                                                                                                                    | 3/168 [00:01<01:43,  1.59it/s]"
     ]
    },
    {
     "name": "stdout",
     "output_type": "stream",
     "text": [
      "acqusition\n"
     ]
    },
    {
     "name": "stderr",
     "output_type": "stream",
     "text": [
      "[main]\tINFO\tprofile include tests: None\n",
      "[main]\tINFO\tprofile exclude tests: None\n",
      "[main]\tINFO\tcli include tests: None\n",
      "[main]\tINFO\tcli exclude tests: None\n",
      "[json]\tINFO\tJSON output written to file: /home/lyvd/bad-snakes/results/bandit4mal/malicious/acqusition.json\n",
      "  2%|████▊                                                                                                                                                                                                   | 4/168 [00:03<02:40,  1.02it/s]"
     ]
    },
    {
     "name": "stdout",
     "output_type": "stream",
     "text": [
      "aiohttp-socks5\n"
     ]
    },
    {
     "name": "stderr",
     "output_type": "stream",
     "text": [
      "[main]\tINFO\tprofile include tests: None\n",
      "[main]\tINFO\tprofile exclude tests: None\n",
      "[main]\tINFO\tcli include tests: None\n",
      "[main]\tINFO\tcli exclude tests: None\n",
      "[json]\tINFO\tJSON output written to file: /home/lyvd/bad-snakes/results/bandit4mal/malicious/aiohttp-socks5.json\n",
      "\r",
      "  3%|█████▉                                                                                                                                                                                                  | 5/168 [00:04<02:18,  1.18it/s]"
     ]
    },
    {
     "name": "stdout",
     "output_type": "stream",
     "text": [
      "aiohttp_proxies\n"
     ]
    },
    {
     "name": "stderr",
     "output_type": "stream",
     "text": [
      "[main]\tINFO\tprofile include tests: None\n",
      "[main]\tINFO\tprofile exclude tests: None\n",
      "[main]\tINFO\tcli include tests: None\n",
      "[main]\tINFO\tcli exclude tests: None\n",
      "[json]\tINFO\tJSON output written to file: /home/lyvd/bad-snakes/results/bandit4mal/malicious/aiohttp_proxies.json\n",
      "  4%|███████▏                                                                                                                                                                                                | 6/168 [00:04<02:09,  1.25it/s]"
     ]
    },
    {
     "name": "stdout",
     "output_type": "stream",
     "text": [
      "aiohttp_socks4\n"
     ]
    },
    {
     "name": "stderr",
     "output_type": "stream",
     "text": [
      "[main]\tINFO\tprofile include tests: None\n",
      "[main]\tINFO\tprofile exclude tests: None\n",
      "[main]\tINFO\tcli include tests: None\n",
      "[main]\tINFO\tcli exclude tests: None\n",
      "[json]\tINFO\tJSON output written to file: /home/lyvd/bad-snakes/results/bandit4mal/malicious/aiohttp_socks4.json\n",
      "  4%|████████▎                                                                                                                                                                                               | 7/168 [00:05<02:11,  1.22it/s]"
     ]
    },
    {
     "name": "stdout",
     "output_type": "stream",
     "text": [
      "aml-ds-pipeline-contrib\n"
     ]
    },
    {
     "name": "stderr",
     "output_type": "stream",
     "text": [
      "[main]\tINFO\tprofile include tests: None\n",
      "[main]\tINFO\tprofile exclude tests: None\n",
      "[main]\tINFO\tcli include tests: None\n",
      "[main]\tINFO\tcli exclude tests: None\n",
      "[json]\tINFO\tJSON output written to file: /home/lyvd/bad-snakes/results/bandit4mal/malicious/aml-ds-pipeline-contrib.json\n",
      "\r",
      "  5%|█████████▌                                                                                                                                                                                              | 8/168 [00:06<02:01,  1.31it/s]"
     ]
    },
    {
     "name": "stdout",
     "output_type": "stream",
     "text": [
      "apidev-coop\n"
     ]
    },
    {
     "name": "stderr",
     "output_type": "stream",
     "text": [
      "[main]\tINFO\tprofile include tests: None\n",
      "[main]\tINFO\tprofile exclude tests: None\n",
      "[main]\tINFO\tcli include tests: None\n",
      "[main]\tINFO\tcli exclude tests: None\n",
      "163 [0.. 50.. 100.. 150.. ]\n",
      "[json]\tINFO\tJSON output written to file: /home/lyvd/bad-snakes/results/bandit4mal/malicious/apidev-coop.json\n",
      "  5%|██████████▋                                                                                                                                                                                             | 9/168 [00:33<24:07,  9.10s/it]"
     ]
    },
    {
     "name": "stdout",
     "output_type": "stream",
     "text": [
      "apple-py-music\n"
     ]
    },
    {
     "name": "stderr",
     "output_type": "stream",
     "text": [
      "[main]\tINFO\tprofile include tests: None\n",
      "[main]\tINFO\tprofile exclude tests: None\n",
      "[main]\tINFO\tcli include tests: None\n",
      "[main]\tINFO\tcli exclude tests: None\n",
      "[json]\tINFO\tJSON output written to file: /home/lyvd/bad-snakes/results/bandit4mal/malicious/apple-py-music.json\n",
      "\r",
      "  6%|███████████▊                                                                                                                                                                                           | 10/168 [00:34<17:02,  6.47s/it]"
     ]
    },
    {
     "name": "stdout",
     "output_type": "stream",
     "text": [
      "arduino\n"
     ]
    },
    {
     "name": "stderr",
     "output_type": "stream",
     "text": [
      "[main]\tINFO\tprofile include tests: None\n",
      "[main]\tINFO\tprofile exclude tests: None\n",
      "[main]\tINFO\tcli include tests: None\n",
      "[main]\tINFO\tcli exclude tests: None\n",
      "[json]\tINFO\tJSON output written to file: /home/lyvd/bad-snakes/results/bandit4mal/malicious/arduino.json\n",
      "\r",
      "  7%|█████████████                                                                                                                                                                                          | 11/168 [00:34<12:13,  4.67s/it]"
     ]
    },
    {
     "name": "stdout",
     "output_type": "stream",
     "text": [
      "are\n"
     ]
    },
    {
     "name": "stderr",
     "output_type": "stream",
     "text": [
      "[main]\tINFO\tprofile include tests: None\n",
      "[main]\tINFO\tprofile exclude tests: None\n",
      "[main]\tINFO\tcli include tests: None\n",
      "[main]\tINFO\tcli exclude tests: None\n",
      "[json]\tINFO\tJSON output written to file: /home/lyvd/bad-snakes/results/bandit4mal/malicious/are.json\n",
      "\r",
      "  7%|██████████████▏                                                                                                                                                                                        | 12/168 [00:35<09:05,  3.49s/it]"
     ]
    },
    {
     "name": "stdout",
     "output_type": "stream",
     "text": [
      "aryi\n"
     ]
    },
    {
     "name": "stderr",
     "output_type": "stream",
     "text": [
      "[main]\tINFO\tprofile include tests: None\n",
      "[main]\tINFO\tprofile exclude tests: None\n",
      "[main]\tINFO\tcli include tests: None\n",
      "[main]\tINFO\tcli exclude tests: None\n",
      "[json]\tINFO\tJSON output written to file: /home/lyvd/bad-snakes/results/bandit4mal/malicious/aryi.json\n",
      "\r",
      "  8%|███████████████▍                                                                                                                                                                                       | 13/168 [00:36<06:39,  2.58s/it]"
     ]
    },
    {
     "name": "stdout",
     "output_type": "stream",
     "text": [
      "asdeefdzfzs\n"
     ]
    },
    {
     "name": "stderr",
     "output_type": "stream",
     "text": [
      "[main]\tINFO\tprofile include tests: None\n",
      "[main]\tINFO\tprofile exclude tests: None\n",
      "[main]\tINFO\tcli include tests: None\n",
      "[main]\tINFO\tcli exclude tests: None\n",
      "[json]\tINFO\tJSON output written to file: /home/lyvd/bad-snakes/results/bandit4mal/malicious/asdeefdzfzs.json\n",
      "\r",
      "  8%|████████████████▌                                                                                                                                                                                      | 14/168 [00:37<05:15,  2.05s/it]"
     ]
    },
    {
     "name": "stdout",
     "output_type": "stream",
     "text": [
      "aws-login0tool\n"
     ]
    },
    {
     "name": "stderr",
     "output_type": "stream",
     "text": [
      "[main]\tINFO\tprofile include tests: None\n",
      "[main]\tINFO\tprofile exclude tests: None\n",
      "[main]\tINFO\tcli include tests: None\n",
      "[main]\tINFO\tcli exclude tests: None\n",
      "[json]\tINFO\tJSON output written to file: /home/lyvd/bad-snakes/results/bandit4mal/malicious/aws-login0tool.json\n",
      "\r",
      "  9%|█████████████████▊                                                                                                                                                                                     | 15/168 [00:37<04:06,  1.61s/it]"
     ]
    },
    {
     "name": "stdout",
     "output_type": "stream",
     "text": [
      "azure-cli-ml-preview\n"
     ]
    },
    {
     "name": "stderr",
     "output_type": "stream",
     "text": [
      "[main]\tINFO\tprofile include tests: None\n",
      "[main]\tINFO\tprofile exclude tests: None\n",
      "[main]\tINFO\tcli include tests: None\n",
      "[main]\tINFO\tcli exclude tests: None\n",
      "[json]\tINFO\tJSON output written to file: /home/lyvd/bad-snakes/results/bandit4mal/malicious/azure-cli-ml-preview.json\n",
      "\r",
      " 10%|██████████████████▉                                                                                                                                                                                    | 16/168 [00:38<03:25,  1.35s/it]"
     ]
    },
    {
     "name": "stdout",
     "output_type": "stream",
     "text": [
      "azure-cli-ml-private-preview\n"
     ]
    },
    {
     "name": "stderr",
     "output_type": "stream",
     "text": [
      "[main]\tINFO\tprofile include tests: None\n",
      "[main]\tINFO\tprofile exclude tests: None\n",
      "[main]\tINFO\tcli include tests: None\n",
      "[main]\tINFO\tcli exclude tests: None\n",
      "[json]\tINFO\tJSON output written to file: /home/lyvd/bad-snakes/results/bandit4mal/malicious/azure-cli-ml-private-preview.json\n",
      " 10%|████████████████████▏                                                                                                                                                                                  | 17/168 [00:39<03:21,  1.33s/it]"
     ]
    },
    {
     "name": "stdout",
     "output_type": "stream",
     "text": [
      "azureml-contrib-jupyterrun\n"
     ]
    },
    {
     "name": "stderr",
     "output_type": "stream",
     "text": [
      "[main]\tINFO\tprofile include tests: None\n",
      "[main]\tINFO\tprofile exclude tests: None\n",
      "[main]\tINFO\tcli include tests: None\n",
      "[main]\tINFO\tcli exclude tests: None\n",
      "[json]\tINFO\tJSON output written to file: /home/lyvd/bad-snakes/results/bandit4mal/malicious/azureml-contrib-jupyterrun.json\n",
      "\r",
      " 11%|█████████████████████▎                                                                                                                                                                                 | 18/168 [00:40<03:07,  1.25s/it]"
     ]
    },
    {
     "name": "stdout",
     "output_type": "stream",
     "text": [
      "azureml-contrib-optimization\n"
     ]
    },
    {
     "name": "stderr",
     "output_type": "stream",
     "text": [
      "[main]\tINFO\tprofile include tests: None\n",
      "[main]\tINFO\tprofile exclude tests: None\n",
      "[main]\tINFO\tcli include tests: None\n",
      "[main]\tINFO\tcli exclude tests: None\n",
      "[json]\tINFO\tJSON output written to file: /home/lyvd/bad-snakes/results/bandit4mal/malicious/azureml-contrib-optimization.json\n",
      "\r",
      " 11%|██████████████████████▌                                                                                                                                                                                | 19/168 [00:41<02:57,  1.19s/it]"
     ]
    },
    {
     "name": "stdout",
     "output_type": "stream",
     "text": [
      "azureml-contrib-reports\n"
     ]
    },
    {
     "name": "stderr",
     "output_type": "stream",
     "text": [
      "[main]\tINFO\tprofile include tests: None\n",
      "[main]\tINFO\tprofile exclude tests: None\n",
      "[main]\tINFO\tcli include tests: None\n",
      "[main]\tINFO\tcli exclude tests: None\n",
      "[json]\tINFO\tJSON output written to file: /home/lyvd/bad-snakes/results/bandit4mal/malicious/azureml-contrib-reports.json\n",
      "\r",
      " 12%|███████████████████████▋                                                                                                                                                                               | 20/168 [00:43<02:57,  1.20s/it]"
     ]
    },
    {
     "name": "stdout",
     "output_type": "stream",
     "text": [
      "beautfulsoup\n"
     ]
    },
    {
     "name": "stderr",
     "output_type": "stream",
     "text": [
      "[main]\tINFO\tprofile include tests: None\n",
      "[main]\tINFO\tprofile exclude tests: None\n",
      "[main]\tINFO\tcli include tests: None\n",
      "[main]\tINFO\tcli exclude tests: None\n",
      "[json]\tINFO\tJSON output written to file: /home/lyvd/bad-snakes/results/bandit4mal/malicious/beautfulsoup.json\n",
      "\r",
      " 12%|████████████████████████▉                                                                                                                                                                              | 21/168 [00:44<02:56,  1.20s/it]"
     ]
    },
    {
     "name": "stdout",
     "output_type": "stream",
     "text": [
      "botaa3\n"
     ]
    },
    {
     "name": "stderr",
     "output_type": "stream",
     "text": [
      "[main]\tINFO\tprofile include tests: None\n",
      "[main]\tINFO\tprofile exclude tests: None\n",
      "[main]\tINFO\tcli include tests: None\n",
      "[main]\tINFO\tcli exclude tests: None\n",
      "[json]\tINFO\tJSON output written to file: /home/lyvd/bad-snakes/results/bandit4mal/malicious/botaa3.json\n",
      " 13%|██████████████████████████                                                                                                                                                                             | 22/168 [00:49<05:50,  2.40s/it]"
     ]
    },
    {
     "name": "stdout",
     "output_type": "stream",
     "text": [
      "bs4tools\n"
     ]
    },
    {
     "name": "stderr",
     "output_type": "stream",
     "text": [
      "[main]\tINFO\tprofile include tests: None\n",
      "[main]\tINFO\tprofile exclude tests: None\n",
      "[main]\tINFO\tcli include tests: None\n",
      "[main]\tINFO\tcli exclude tests: None\n",
      "[json]\tINFO\tJSON output written to file: /home/lyvd/bad-snakes/results/bandit4mal/malicious/bs4tools.json\n",
      "\r",
      " 14%|███████████████████████████▏                                                                                                                                                                           | 23/168 [00:50<04:51,  2.01s/it]"
     ]
    },
    {
     "name": "stdout",
     "output_type": "stream",
     "text": [
      "bzip\n"
     ]
    },
    {
     "name": "stderr",
     "output_type": "stream",
     "text": [
      "[main]\tINFO\tprofile include tests: None\n",
      "[main]\tINFO\tprofile exclude tests: None\n",
      "[main]\tINFO\tcli include tests: None\n",
      "[main]\tINFO\tcli exclude tests: None\n",
      "[json]\tINFO\tJSON output written to file: /home/lyvd/bad-snakes/results/bandit4mal/malicious/bzip.json\n",
      " 14%|████████████████████████████▍                                                                                                                                                                          | 24/168 [00:51<04:13,  1.76s/it]"
     ]
    },
    {
     "name": "stdout",
     "output_type": "stream",
     "text": [
      "collored\n"
     ]
    },
    {
     "name": "stderr",
     "output_type": "stream",
     "text": [
      "[main]\tINFO\tprofile include tests: None\n",
      "[main]\tINFO\tprofile exclude tests: None\n",
      "[main]\tINFO\tcli include tests: None\n",
      "[main]\tINFO\tcli exclude tests: None\n",
      "[json]\tINFO\tJSON output written to file: /home/lyvd/bad-snakes/results/bandit4mal/malicious/collored.json\n",
      "\r",
      " 15%|█████████████████████████████▌                                                                                                                                                                         | 25/168 [00:52<03:30,  1.47s/it]"
     ]
    },
    {
     "name": "stdout",
     "output_type": "stream",
     "text": [
      "colourama\n"
     ]
    },
    {
     "name": "stderr",
     "output_type": "stream",
     "text": [
      "[main]\tINFO\tprofile include tests: None\n",
      "[main]\tINFO\tprofile exclude tests: None\n",
      "[main]\tINFO\tcli include tests: None\n",
      "[main]\tINFO\tcli exclude tests: None\n",
      "[json]\tINFO\tJSON output written to file: /home/lyvd/bad-snakes/results/bandit4mal/malicious/colourama.json\n",
      " 15%|██████████████████████████████▊                                                                                                                                                                        | 26/168 [00:53<03:27,  1.46s/it]"
     ]
    },
    {
     "name": "stdout",
     "output_type": "stream",
     "text": [
      "covd\n"
     ]
    },
    {
     "name": "stderr",
     "output_type": "stream",
     "text": [
      "[main]\tINFO\tprofile include tests: None\n",
      "[main]\tINFO\tprofile exclude tests: None\n",
      "[main]\tINFO\tcli include tests: None\n",
      "[main]\tINFO\tcli exclude tests: None\n",
      "[json]\tINFO\tJSON output written to file: /home/lyvd/bad-snakes/results/bandit4mal/malicious/covd.json\n",
      " 16%|███████████████████████████████▉                                                                                                                                                                       | 27/168 [00:54<03:01,  1.29s/it]"
     ]
    },
    {
     "name": "stdout",
     "output_type": "stream",
     "text": [
      "crypt\n"
     ]
    },
    {
     "name": "stderr",
     "output_type": "stream",
     "text": [
      "[main]\tINFO\tprofile include tests: None\n",
      "[main]\tINFO\tprofile exclude tests: None\n",
      "[main]\tINFO\tcli include tests: None\n",
      "[main]\tINFO\tcli exclude tests: None\n",
      "[json]\tINFO\tJSON output written to file: /home/lyvd/bad-snakes/results/bandit4mal/malicious/crypt.json\n",
      " 17%|█████████████████████████████████▏                                                                                                                                                                     | 28/168 [00:56<03:21,  1.44s/it]"
     ]
    },
    {
     "name": "stdout",
     "output_type": "stream",
     "text": [
      "ctx\n"
     ]
    },
    {
     "name": "stderr",
     "output_type": "stream",
     "text": [
      "[main]\tINFO\tprofile include tests: None\n",
      "[main]\tINFO\tprofile exclude tests: None\n",
      "[main]\tINFO\tcli include tests: None\n",
      "[main]\tINFO\tcli exclude tests: None\n",
      "[json]\tINFO\tJSON output written to file: /home/lyvd/bad-snakes/results/bandit4mal/malicious/ctx.json\n",
      "\r",
      " 17%|██████████████████████████████████▎                                                                                                                                                                    | 29/168 [00:57<02:41,  1.16s/it]"
     ]
    },
    {
     "name": "stdout",
     "output_type": "stream",
     "text": [
      "cupy-cuda112\n"
     ]
    },
    {
     "name": "stderr",
     "output_type": "stream",
     "text": [
      "[main]\tINFO\tprofile include tests: None\n",
      "[main]\tINFO\tprofile exclude tests: None\n",
      "[main]\tINFO\tcli include tests: None\n",
      "[main]\tINFO\tcli exclude tests: None\n",
      "[json]\tINFO\tJSON output written to file: /home/lyvd/bad-snakes/results/bandit4mal/malicious/cupy-cuda112.json\n",
      "\r",
      " 18%|███████████████████████████████████▌                                                                                                                                                                   | 30/168 [00:57<02:25,  1.06s/it]"
     ]
    },
    {
     "name": "stdout",
     "output_type": "stream",
     "text": [
      "dajngo\n"
     ]
    },
    {
     "name": "stderr",
     "output_type": "stream",
     "text": [
      "[main]\tINFO\tprofile include tests: None\n",
      "[main]\tINFO\tprofile exclude tests: None\n",
      "[main]\tINFO\tcli include tests: None\n",
      "[main]\tINFO\tcli exclude tests: None\n",
      "[json]\tINFO\tJSON output written to file: /home/lyvd/bad-snakes/results/bandit4mal/malicious/dajngo.json\n",
      "\r",
      " 18%|████████████████████████████████████▋                                                                                                                                                                  | 31/168 [00:58<02:01,  1.12it/s]"
     ]
    },
    {
     "name": "stdout",
     "output_type": "stream",
     "text": [
      "dark-magic\n"
     ]
    },
    {
     "name": "stderr",
     "output_type": "stream",
     "text": [
      "[main]\tINFO\tprofile include tests: None\n",
      "[main]\tINFO\tprofile exclude tests: None\n",
      "[main]\tINFO\tcli include tests: None\n",
      "[main]\tINFO\tcli exclude tests: None\n",
      "[json]\tINFO\tJSON output written to file: /home/lyvd/bad-snakes/results/bandit4mal/malicious/dark-magic.json\n",
      " 19%|█████████████████████████████████████▉                                                                                                                                                                 | 32/168 [00:59<02:03,  1.10it/s]"
     ]
    },
    {
     "name": "stdout",
     "output_type": "stream",
     "text": [
      "diango\n"
     ]
    },
    {
     "name": "stderr",
     "output_type": "stream",
     "text": [
      "[main]\tINFO\tprofile include tests: None\n",
      "[main]\tINFO\tprofile exclude tests: None\n",
      "[main]\tINFO\tcli include tests: None\n",
      "[main]\tINFO\tcli exclude tests: None\n",
      "[json]\tINFO\tJSON output written to file: /home/lyvd/bad-snakes/results/bandit4mal/malicious/diango.json\n",
      "\r",
      " 20%|███████████████████████████████████████                                                                                                                                                                | 33/168 [01:00<02:00,  1.12it/s]"
     ]
    },
    {
     "name": "stdout",
     "output_type": "stream",
     "text": [
      "discordcmd\n"
     ]
    },
    {
     "name": "stderr",
     "output_type": "stream",
     "text": [
      "[main]\tINFO\tprofile include tests: None\n",
      "[main]\tINFO\tprofile exclude tests: None\n",
      "[main]\tINFO\tcli include tests: None\n",
      "[main]\tINFO\tcli exclude tests: None\n",
      "[json]\tINFO\tJSON output written to file: /home/lyvd/bad-snakes/results/bandit4mal/malicious/discordcmd.json\n",
      "\r",
      " 20%|████████████████████████████████████████▎                                                                                                                                                              | 34/168 [01:00<01:51,  1.21it/s]"
     ]
    },
    {
     "name": "stdout",
     "output_type": "stream",
     "text": [
      "DiscordSafety\n"
     ]
    },
    {
     "name": "stderr",
     "output_type": "stream",
     "text": [
      "[main]\tINFO\tprofile include tests: None\n",
      "[main]\tINFO\tprofile exclude tests: None\n",
      "[main]\tINFO\tcli include tests: None\n",
      "[main]\tINFO\tcli exclude tests: None\n",
      "[json]\tINFO\tJSON output written to file: /home/lyvd/bad-snakes/results/bandit4mal/malicious/DiscordSafety.json\n",
      "\r",
      " 21%|█████████████████████████████████████████▍                                                                                                                                                             | 35/168 [01:01<01:35,  1.39it/s]"
     ]
    },
    {
     "name": "stdout",
     "output_type": "stream",
     "text": [
      "distrib\n"
     ]
    },
    {
     "name": "stderr",
     "output_type": "stream",
     "text": [
      "[main]\tINFO\tprofile include tests: None\n",
      "[main]\tINFO\tprofile exclude tests: None\n",
      "[main]\tINFO\tcli include tests: None\n",
      "[main]\tINFO\tcli exclude tests: None\n",
      "[json]\tINFO\tJSON output written to file: /home/lyvd/bad-snakes/results/bandit4mal/malicious/distrib.json\n",
      "\r",
      " 21%|██████████████████████████████████████████▋                                                                                                                                                            | 36/168 [01:01<01:25,  1.54it/s]"
     ]
    },
    {
     "name": "stdout",
     "output_type": "stream",
     "text": [
      "distutil\n"
     ]
    },
    {
     "name": "stderr",
     "output_type": "stream",
     "text": [
      "[main]\tINFO\tprofile include tests: None\n",
      "[main]\tINFO\tprofile exclude tests: None\n",
      "[main]\tINFO\tcli include tests: None\n",
      "[main]\tINFO\tcli exclude tests: None\n",
      "[json]\tINFO\tJSON output written to file: /home/lyvd/bad-snakes/results/bandit4mal/malicious/distutil.json\n",
      "\r",
      " 22%|███████████████████████████████████████████▊                                                                                                                                                           | 37/168 [01:02<01:24,  1.54it/s]"
     ]
    },
    {
     "name": "stdout",
     "output_type": "stream",
     "text": [
      "djago\n"
     ]
    },
    {
     "name": "stderr",
     "output_type": "stream",
     "text": [
      "[main]\tINFO\tprofile include tests: None\n",
      "[main]\tINFO\tprofile exclude tests: None\n",
      "[main]\tINFO\tcli include tests: None\n",
      "[main]\tINFO\tcli exclude tests: None\n",
      "[json]\tINFO\tJSON output written to file: /home/lyvd/bad-snakes/results/bandit4mal/malicious/djago.json\n",
      "\r",
      " 23%|█████████████████████████████████████████████                                                                                                                                                          | 38/168 [01:03<01:18,  1.65it/s]"
     ]
    },
    {
     "name": "stdout",
     "output_type": "stream",
     "text": [
      "djanga\n"
     ]
    },
    {
     "name": "stderr",
     "output_type": "stream",
     "text": [
      "[main]\tINFO\tprofile include tests: None\n",
      "[main]\tINFO\tprofile exclude tests: None\n",
      "[main]\tINFO\tcli include tests: None\n",
      "[main]\tINFO\tcli exclude tests: None\n",
      "[json]\tINFO\tJSON output written to file: /home/lyvd/bad-snakes/results/bandit4mal/malicious/djanga.json\n",
      "\r",
      " 23%|██████████████████████████████████████████████▏                                                                                                                                                        | 39/168 [01:03<01:14,  1.73it/s]"
     ]
    },
    {
     "name": "stdout",
     "output_type": "stream",
     "text": [
      "django-server\n"
     ]
    },
    {
     "name": "stderr",
     "output_type": "stream",
     "text": [
      "[main]\tINFO\tprofile include tests: None\n",
      "[main]\tINFO\tprofile exclude tests: None\n",
      "[main]\tINFO\tcli include tests: None\n",
      "[main]\tINFO\tcli exclude tests: None\n",
      "[json]\tINFO\tJSON output written to file: /home/lyvd/bad-snakes/results/bandit4mal/malicious/django-server.json\n",
      "\r",
      " 24%|███████████████████████████████████████████████▍                                                                                                                                                       | 40/168 [01:04<01:18,  1.64it/s]"
     ]
    },
    {
     "name": "stdout",
     "output_type": "stream",
     "text": [
      "dpp_client\n"
     ]
    },
    {
     "name": "stderr",
     "output_type": "stream",
     "text": [
      "[main]\tINFO\tprofile include tests: None\n",
      "[main]\tINFO\tprofile exclude tests: None\n",
      "[main]\tINFO\tcli include tests: None\n",
      "[main]\tINFO\tcli exclude tests: None\n",
      "[json]\tINFO\tJSON output written to file: /home/lyvd/bad-snakes/results/bandit4mal/malicious/dpp_client.json\n",
      "\r",
      " 24%|████████████████████████████████████████████████▌                                                                                                                                                      | 41/168 [01:04<01:23,  1.53it/s]"
     ]
    },
    {
     "name": "stdout",
     "output_type": "stream",
     "text": [
      "dpp_client1234\n"
     ]
    },
    {
     "name": "stderr",
     "output_type": "stream",
     "text": [
      "[main]\tINFO\tprofile include tests: None\n",
      "[main]\tINFO\tprofile exclude tests: None\n",
      "[main]\tINFO\tcli include tests: None\n",
      "[main]\tINFO\tcli exclude tests: None\n",
      "[json]\tINFO\tJSON output written to file: /home/lyvd/bad-snakes/results/bandit4mal/malicious/dpp_client1234.json\n",
      "\r",
      " 25%|█████████████████████████████████████████████████▊                                                                                                                                                     | 42/168 [01:05<01:35,  1.32it/s]"
     ]
    },
    {
     "name": "stdout",
     "output_type": "stream",
     "text": [
      "easyfuncsys\n"
     ]
    },
    {
     "name": "stderr",
     "output_type": "stream",
     "text": [
      "[main]\tINFO\tprofile include tests: None\n",
      "[main]\tINFO\tprofile exclude tests: None\n",
      "[main]\tINFO\tcli include tests: None\n",
      "[main]\tINFO\tcli exclude tests: None\n",
      "[json]\tINFO\tJSON output written to file: /home/lyvd/bad-snakes/results/bandit4mal/malicious/easyfuncsys.json\n",
      "\r",
      " 26%|██████████████████████████████████████████████████▉                                                                                                                                                    | 43/168 [01:06<01:36,  1.30it/s]"
     ]
    },
    {
     "name": "stdout",
     "output_type": "stream",
     "text": [
      "easyinstall\n"
     ]
    },
    {
     "name": "stderr",
     "output_type": "stream",
     "text": [
      "[main]\tINFO\tprofile include tests: None\n",
      "[main]\tINFO\tprofile exclude tests: None\n",
      "[main]\tINFO\tcli include tests: None\n",
      "[main]\tINFO\tcli exclude tests: None\n",
      "[json]\tINFO\tJSON output written to file: /home/lyvd/bad-snakes/results/bandit4mal/malicious/easyinstall.json\n",
      "\r",
      " 26%|████████████████████████████████████████████████████                                                                                                                                                   | 44/168 [01:07<01:44,  1.19it/s]"
     ]
    },
    {
     "name": "stdout",
     "output_type": "stream",
     "text": [
      "ecopower\n"
     ]
    },
    {
     "name": "stderr",
     "output_type": "stream",
     "text": [
      "[main]\tINFO\tprofile include tests: None\n",
      "[main]\tINFO\tprofile exclude tests: None\n",
      "[main]\tINFO\tcli include tests: None\n",
      "[main]\tINFO\tcli exclude tests: None\n",
      "[json]\tINFO\tJSON output written to file: /home/lyvd/bad-snakes/results/bandit4mal/malicious/ecopower.json\n",
      "\r",
      " 27%|█████████████████████████████████████████████████████▎                                                                                                                                                 | 45/168 [01:08<01:44,  1.18it/s]"
     ]
    },
    {
     "name": "stdout",
     "output_type": "stream",
     "text": [
      "fakessh\n"
     ]
    },
    {
     "name": "stderr",
     "output_type": "stream",
     "text": [
      "[main]\tINFO\tprofile include tests: None\n",
      "[main]\tINFO\tprofile exclude tests: None\n",
      "[main]\tINFO\tcli include tests: None\n",
      "[main]\tINFO\tcli exclude tests: None\n",
      "[json]\tINFO\tJSON output written to file: /home/lyvd/bad-snakes/results/bandit4mal/malicious/fakessh.json\n",
      "\r",
      " 27%|██████████████████████████████████████████████████████▍                                                                                                                                                | 46/168 [01:09<01:46,  1.15it/s]"
     ]
    },
    {
     "name": "stdout",
     "output_type": "stream",
     "text": [
      "flask-requests-complex\n"
     ]
    },
    {
     "name": "stderr",
     "output_type": "stream",
     "text": [
      "[main]\tINFO\tprofile include tests: None\n",
      "[main]\tINFO\tprofile exclude tests: None\n",
      "[main]\tINFO\tcli include tests: None\n",
      "[main]\tINFO\tcli exclude tests: None\n",
      "[json]\tINFO\tJSON output written to file: /home/lyvd/bad-snakes/results/bandit4mal/malicious/flask-requests-complex.json\n",
      "\r",
      " 28%|███████████████████████████████████████████████████████▋                                                                                                                                               | 47/168 [01:10<01:30,  1.34it/s]"
     ]
    },
    {
     "name": "stdout",
     "output_type": "stream",
     "text": [
      "fleshh\n"
     ]
    },
    {
     "name": "stderr",
     "output_type": "stream",
     "text": [
      "[main]\tINFO\tprofile include tests: None\n",
      "[main]\tINFO\tprofile exclude tests: None\n",
      "[main]\tINFO\tcli include tests: None\n",
      "[main]\tINFO\tcli exclude tests: None\n",
      "[json]\tINFO\tJSON output written to file: /home/lyvd/bad-snakes/results/bandit4mal/malicious/fleshh.json\n",
      "\r",
      " 29%|████████████████████████████████████████████████████████▊                                                                                                                                              | 48/168 [01:10<01:22,  1.46it/s]"
     ]
    },
    {
     "name": "stdout",
     "output_type": "stream",
     "text": [
      "floogle\n"
     ]
    },
    {
     "name": "stderr",
     "output_type": "stream",
     "text": [
      "[main]\tINFO\tprofile include tests: None\n",
      "[main]\tINFO\tprofile exclude tests: None\n",
      "[main]\tINFO\tcli include tests: None\n",
      "[main]\tINFO\tcli exclude tests: None\n",
      "[json]\tINFO\tJSON output written to file: /home/lyvd/bad-snakes/results/bandit4mal/malicious/floogle.json\n",
      "\r",
      " 29%|██████████████████████████████████████████████████████████                                                                                                                                             | 49/168 [01:11<01:16,  1.56it/s]"
     ]
    },
    {
     "name": "stdout",
     "output_type": "stream",
     "text": [
      "gearbest_parser\n"
     ]
    },
    {
     "name": "stderr",
     "output_type": "stream",
     "text": [
      "[main]\tINFO\tprofile include tests: None\n",
      "[main]\tINFO\tprofile exclude tests: None\n",
      "[main]\tINFO\tcli include tests: None\n",
      "[main]\tINFO\tcli exclude tests: None\n",
      "[json]\tINFO\tJSON output written to file: /home/lyvd/bad-snakes/results/bandit4mal/malicious/gearbest_parser.json\n",
      "\r",
      " 30%|███████████████████████████████████████████████████████████▏                                                                                                                                           | 50/168 [01:11<01:12,  1.64it/s]"
     ]
    },
    {
     "name": "stdout",
     "output_type": "stream",
     "text": [
      "genesisbot\n"
     ]
    },
    {
     "name": "stderr",
     "output_type": "stream",
     "text": [
      "[main]\tINFO\tprofile include tests: None\n",
      "[main]\tINFO\tprofile exclude tests: None\n",
      "[main]\tINFO\tcli include tests: None\n",
      "[main]\tINFO\tcli exclude tests: None\n",
      "[json]\tINFO\tJSON output written to file: /home/lyvd/bad-snakes/results/bandit4mal/malicious/genesisbot.json\n",
      "\r",
      " 30%|████████████████████████████████████████████████████████████▍                                                                                                                                          | 51/168 [01:12<01:15,  1.55it/s]"
     ]
    },
    {
     "name": "stdout",
     "output_type": "stream",
     "text": [
      "hipid\n"
     ]
    },
    {
     "name": "stderr",
     "output_type": "stream",
     "text": [
      "[main]\tINFO\tprofile include tests: None\n",
      "[main]\tINFO\tprofile exclude tests: None\n",
      "[main]\tINFO\tcli include tests: None\n",
      "[main]\tINFO\tcli exclude tests: None\n",
      "[json]\tINFO\tJSON output written to file: /home/lyvd/bad-snakes/results/bandit4mal/malicious/hipid.json\n",
      "\r",
      " 31%|█████████████████████████████████████████████████████████████▌                                                                                                                                         | 52/168 [01:12<01:10,  1.64it/s]"
     ]
    },
    {
     "name": "stdout",
     "output_type": "stream",
     "text": [
      "hkg-sol-utils\n"
     ]
    },
    {
     "name": "stderr",
     "output_type": "stream",
     "text": [
      "[main]\tINFO\tprofile include tests: None\n",
      "[main]\tINFO\tprofile exclude tests: None\n",
      "[main]\tINFO\tcli include tests: None\n",
      "[main]\tINFO\tcli exclude tests: None\n",
      "[json]\tINFO\tJSON output written to file: /home/lyvd/bad-snakes/results/bandit4mal/malicious/hkg-sol-utils.json\n",
      "\r",
      " 32%|██████████████████████████████████████████████████████████████▊                                                                                                                                        | 53/168 [01:13<01:14,  1.53it/s]"
     ]
    },
    {
     "name": "stdout",
     "output_type": "stream",
     "text": [
      "huehuehuehue\n"
     ]
    },
    {
     "name": "stderr",
     "output_type": "stream",
     "text": [
      "[main]\tINFO\tprofile include tests: None\n",
      "[main]\tINFO\tprofile exclude tests: None\n",
      "[main]\tINFO\tcli include tests: None\n",
      "[main]\tINFO\tcli exclude tests: None\n",
      "[json]\tINFO\tJSON output written to file: /home/lyvd/bad-snakes/results/bandit4mal/malicious/huehuehuehue.json\n",
      "\r",
      " 32%|███████████████████████████████████████████████████████████████▉                                                                                                                                       | 54/168 [01:14<01:13,  1.55it/s]"
     ]
    },
    {
     "name": "stdout",
     "output_type": "stream",
     "text": [
      "humanqueen\n"
     ]
    },
    {
     "name": "stderr",
     "output_type": "stream",
     "text": [
      "[main]\tINFO\tprofile include tests: None\n",
      "[main]\tINFO\tprofile exclude tests: None\n",
      "[main]\tINFO\tcli include tests: None\n",
      "[main]\tINFO\tcli exclude tests: None\n",
      "[json]\tINFO\tJSON output written to file: /home/lyvd/bad-snakes/results/bandit4mal/malicious/humanqueen.json\n",
      " 33%|█████████████████████████████████████████████████████████████████▏                                                                                                                                     | 55/168 [01:14<01:15,  1.51it/s]"
     ]
    },
    {
     "name": "stdout",
     "output_type": "stream",
     "text": [
      "humanqueenn\n"
     ]
    },
    {
     "name": "stderr",
     "output_type": "stream",
     "text": [
      "[main]\tINFO\tprofile include tests: None\n",
      "[main]\tINFO\tprofile exclude tests: None\n",
      "[main]\tINFO\tcli include tests: None\n",
      "[main]\tINFO\tcli exclude tests: None\n",
      "[json]\tINFO\tJSON output written to file: /home/lyvd/bad-snakes/results/bandit4mal/malicious/humanqueenn.json\n",
      "\r",
      " 33%|██████████████████████████████████████████████████████████████████▎                                                                                                                                    | 56/168 [01:15<01:14,  1.51it/s]"
     ]
    },
    {
     "name": "stdout",
     "output_type": "stream",
     "text": [
      "important-package\n"
     ]
    },
    {
     "name": "stderr",
     "output_type": "stream",
     "text": [
      "[main]\tINFO\tprofile include tests: None\n",
      "[main]\tINFO\tprofile exclude tests: None\n",
      "[main]\tINFO\tcli include tests: None\n",
      "[main]\tINFO\tcli exclude tests: None\n",
      "[json]\tINFO\tJSON output written to file: /home/lyvd/bad-snakes/results/bandit4mal/malicious/important-package.json\n",
      " 34%|███████████████████████████████████████████████████████████████████▌                                                                                                                                   | 57/168 [01:16<01:15,  1.47it/s]"
     ]
    },
    {
     "name": "stdout",
     "output_type": "stream",
     "text": [
      "importantpackage\n"
     ]
    },
    {
     "name": "stderr",
     "output_type": "stream",
     "text": [
      "[main]\tINFO\tprofile include tests: None\n",
      "[main]\tINFO\tprofile exclude tests: None\n",
      "[main]\tINFO\tcli include tests: None\n",
      "[main]\tINFO\tcli exclude tests: None\n",
      "[json]\tINFO\tJSON output written to file: /home/lyvd/bad-snakes/results/bandit4mal/malicious/importantpackage.json\n",
      "\r",
      " 35%|████████████████████████████████████████████████████████████████████▋                                                                                                                                  | 58/168 [01:17<01:14,  1.48it/s]"
     ]
    },
    {
     "name": "stdout",
     "output_type": "stream",
     "text": [
      "infoglmi\n"
     ]
    },
    {
     "name": "stderr",
     "output_type": "stream",
     "text": [
      "[main]\tINFO\tprofile include tests: None\n",
      "[main]\tINFO\tprofile exclude tests: None\n",
      "[main]\tINFO\tcli include tests: None\n",
      "[main]\tINFO\tcli exclude tests: None\n",
      "[json]\tINFO\tJSON output written to file: /home/lyvd/bad-snakes/results/bandit4mal/malicious/infoglmi.json\n",
      "\r",
      " 35%|█████████████████████████████████████████████████████████████████████▉                                                                                                                                 | 59/168 [01:17<01:10,  1.55it/s]"
     ]
    },
    {
     "name": "stdout",
     "output_type": "stream",
     "text": [
      "ipahttp\n"
     ]
    },
    {
     "name": "stderr",
     "output_type": "stream",
     "text": [
      "[main]\tINFO\tprofile include tests: None\n",
      "[main]\tINFO\tprofile exclude tests: None\n",
      "[main]\tINFO\tcli include tests: None\n",
      "[main]\tINFO\tcli exclude tests: None\n",
      "[json]\tINFO\tJSON output written to file: /home/lyvd/bad-snakes/results/bandit4mal/malicious/ipahttp.json\n",
      "\r",
      " 36%|███████████████████████████████████████████████████████████████████████                                                                                                                                | 60/168 [01:18<01:03,  1.70it/s]"
     ]
    },
    {
     "name": "stdout",
     "output_type": "stream",
     "text": [
      "ipboards\n"
     ]
    },
    {
     "name": "stderr",
     "output_type": "stream",
     "text": [
      "[main]\tINFO\tprofile include tests: None\n",
      "[main]\tINFO\tprofile exclude tests: None\n",
      "[main]\tINFO\tcli include tests: None\n",
      "[main]\tINFO\tcli exclude tests: None\n",
      "[json]\tINFO\tJSON output written to file: /home/lyvd/bad-snakes/results/bandit4mal/malicious/ipboards.json\n",
      "\r",
      " 36%|████████████████████████████████████████████████████████████████████████▎                                                                                                                              | 61/168 [01:18<01:05,  1.63it/s]"
     ]
    },
    {
     "name": "stdout",
     "output_type": "stream",
     "text": [
      "jajajejejiji\n"
     ]
    },
    {
     "name": "stderr",
     "output_type": "stream",
     "text": [
      "[main]\tINFO\tprofile include tests: None\n",
      "[main]\tINFO\tprofile exclude tests: None\n",
      "[main]\tINFO\tcli include tests: None\n",
      "[main]\tINFO\tcli exclude tests: None\n",
      "[json]\tINFO\tJSON output written to file: /home/lyvd/bad-snakes/results/bandit4mal/malicious/jajajejejiji.json\n",
      "\r",
      " 37%|█████████████████████████████████████████████████████████████████████████▍                                                                                                                             | 62/168 [01:19<00:59,  1.78it/s]"
     ]
    },
    {
     "name": "stdout",
     "output_type": "stream",
     "text": [
      "jeilyfish\n"
     ]
    },
    {
     "name": "stderr",
     "output_type": "stream",
     "text": [
      "[main]\tINFO\tprofile include tests: None\n",
      "[main]\tINFO\tprofile exclude tests: None\n",
      "[main]\tINFO\tcli include tests: None\n",
      "[main]\tINFO\tcli exclude tests: None\n",
      "[json]\tINFO\tJSON output written to file: /home/lyvd/bad-snakes/results/bandit4mal/malicious/jeilyfish.json\n",
      " 38%|██████████████████████████████████████████████████████████████████████████▋                                                                                                                            | 63/168 [01:20<01:09,  1.52it/s]"
     ]
    },
    {
     "name": "stdout",
     "output_type": "stream",
     "text": [
      "junkeldat\n"
     ]
    },
    {
     "name": "stderr",
     "output_type": "stream",
     "text": [
      "[main]\tINFO\tprofile include tests: None\n",
      "[main]\tINFO\tprofile exclude tests: None\n",
      "[main]\tINFO\tcli include tests: None\n",
      "[main]\tINFO\tcli exclude tests: None\n",
      "[json]\tINFO\tJSON output written to file: /home/lyvd/bad-snakes/results/bandit4mal/malicious/junkeldat.json\n",
      "\r",
      " 38%|███████████████████████████████████████████████████████████████████████████▊                                                                                                                           | 64/168 [01:20<01:13,  1.42it/s]"
     ]
    },
    {
     "name": "stdout",
     "output_type": "stream",
     "text": [
      "karapace\n"
     ]
    },
    {
     "name": "stderr",
     "output_type": "stream",
     "text": [
      "[main]\tINFO\tprofile include tests: None\n",
      "[main]\tINFO\tprofile exclude tests: None\n",
      "[main]\tINFO\tcli include tests: None\n",
      "[main]\tINFO\tcli exclude tests: None\n",
      "[json]\tINFO\tJSON output written to file: /home/lyvd/bad-snakes/results/bandit4mal/malicious/karapace.json\n",
      "\r",
      " 39%|████████████████████████████████████████████████████████████████████████████▉                                                                                                                          | 65/168 [01:21<01:25,  1.20it/s]"
     ]
    },
    {
     "name": "stdout",
     "output_type": "stream",
     "text": [
      "learninglib\n"
     ]
    },
    {
     "name": "stderr",
     "output_type": "stream",
     "text": [
      "[main]\tINFO\tprofile include tests: None\n",
      "[main]\tINFO\tprofile exclude tests: None\n",
      "[main]\tINFO\tcli include tests: None\n",
      "[main]\tINFO\tcli exclude tests: None\n",
      "[json]\tINFO\tJSON output written to file: /home/lyvd/bad-snakes/results/bandit4mal/malicious/learninglib.json\n",
      "\r",
      " 39%|██████████████████████████████████████████████████████████████████████████████▏                                                                                                                        | 66/168 [01:22<01:29,  1.14it/s]"
     ]
    },
    {
     "name": "stdout",
     "output_type": "stream",
     "text": [
      "libcurl\n"
     ]
    },
    {
     "name": "stderr",
     "output_type": "stream",
     "text": [
      "[main]\tINFO\tprofile include tests: None\n",
      "[main]\tINFO\tprofile exclude tests: None\n",
      "[main]\tINFO\tcli include tests: None\n",
      "[main]\tINFO\tcli exclude tests: None\n",
      "[json]\tINFO\tJSON output written to file: /home/lyvd/bad-snakes/results/bandit4mal/malicious/libcurl.json\n",
      "\r",
      " 40%|███████████████████████████████████████████████████████████████████████████████▎                                                                                                                       | 67/168 [01:23<01:30,  1.12it/s]"
     ]
    },
    {
     "name": "stdout",
     "output_type": "stream",
     "text": [
      "libffm\n"
     ]
    },
    {
     "name": "stderr",
     "output_type": "stream",
     "text": [
      "[main]\tINFO\tprofile include tests: None\n",
      "[main]\tINFO\tprofile exclude tests: None\n",
      "[main]\tINFO\tcli include tests: None\n",
      "[main]\tINFO\tcli exclude tests: None\n",
      "[json]\tINFO\tJSON output written to file: /home/lyvd/bad-snakes/results/bandit4mal/malicious/libffm.json\n",
      "\r",
      " 40%|████████████████████████████████████████████████████████████████████████████████▌                                                                                                                      | 68/168 [01:24<01:27,  1.14it/s]"
     ]
    },
    {
     "name": "stdout",
     "output_type": "stream",
     "text": [
      "libhtml5\n"
     ]
    },
    {
     "name": "stderr",
     "output_type": "stream",
     "text": [
      "[main]\tINFO\tprofile include tests: None\n",
      "[main]\tINFO\tprofile exclude tests: None\n",
      "[main]\tINFO\tcli include tests: None\n",
      "[main]\tINFO\tcli exclude tests: None\n",
      "[json]\tINFO\tJSON output written to file: /home/lyvd/bad-snakes/results/bandit4mal/malicious/libhtml5.json\n",
      "\r",
      " 41%|█████████████████████████████████████████████████████████████████████████████████▋                                                                                                                     | 69/168 [01:25<01:29,  1.11it/s]"
     ]
    },
    {
     "name": "stdout",
     "output_type": "stream",
     "text": [
      "libpeshka\n"
     ]
    },
    {
     "name": "stderr",
     "output_type": "stream",
     "text": [
      "[main]\tINFO\tprofile include tests: None\n",
      "[main]\tINFO\tprofile exclude tests: None\n",
      "[main]\tINFO\tcli include tests: None\n",
      "[main]\tINFO\tcli exclude tests: None\n",
      "[json]\tINFO\tJSON output written to file: /home/lyvd/bad-snakes/results/bandit4mal/malicious/libpeshka.json\n",
      "\r",
      " 42%|██████████████████████████████████████████████████████████████████████████████████▉                                                                                                                    | 70/168 [01:26<01:28,  1.10it/s]"
     ]
    },
    {
     "name": "stdout",
     "output_type": "stream",
     "text": [
      "libpeshnx\n"
     ]
    },
    {
     "name": "stderr",
     "output_type": "stream",
     "text": [
      "[main]\tINFO\tprofile include tests: None\n",
      "[main]\tINFO\tprofile exclude tests: None\n",
      "[main]\tINFO\tcli include tests: None\n",
      "[main]\tINFO\tcli exclude tests: None\n",
      "[json]\tINFO\tJSON output written to file: /home/lyvd/bad-snakes/results/bandit4mal/malicious/libpeshnx.json\n",
      "\r",
      " 42%|████████████████████████████████████████████████████████████████████████████████████                                                                                                                   | 71/168 [01:27<01:28,  1.09it/s]"
     ]
    },
    {
     "name": "stdout",
     "output_type": "stream",
     "text": [
      "librat\n"
     ]
    },
    {
     "name": "stderr",
     "output_type": "stream",
     "text": [
      "[main]\tINFO\tprofile include tests: None\n",
      "[main]\tINFO\tprofile exclude tests: None\n",
      "[main]\tINFO\tcli include tests: None\n",
      "[main]\tINFO\tcli exclude tests: None\n",
      "[json]\tINFO\tJSON output written to file: /home/lyvd/bad-snakes/results/bandit4mal/malicious/librat.json\n",
      "\r",
      " 43%|█████████████████████████████████████████████████████████████████████████████████████▎                                                                                                                 | 72/168 [01:28<01:24,  1.14it/s]"
     ]
    },
    {
     "name": "stdout",
     "output_type": "stream",
     "text": [
      "maratlib\n"
     ]
    },
    {
     "name": "stderr",
     "output_type": "stream",
     "text": [
      "[main]\tINFO\tprofile include tests: None\n",
      "[main]\tINFO\tprofile exclude tests: None\n",
      "[main]\tINFO\tcli include tests: None\n",
      "[main]\tINFO\tcli exclude tests: None\n",
      "[json]\tINFO\tJSON output written to file: /home/lyvd/bad-snakes/results/bandit4mal/malicious/maratlib.json\n",
      " 43%|██████████████████████████████████████████████████████████████████████████████████████▍                                                                                                                | 73/168 [01:29<01:38,  1.04s/it]"
     ]
    },
    {
     "name": "stdout",
     "output_type": "stream",
     "text": [
      "maratlib1\n"
     ]
    },
    {
     "name": "stderr",
     "output_type": "stream",
     "text": [
      "[main]\tINFO\tprofile include tests: None\n",
      "[main]\tINFO\tprofile exclude tests: None\n",
      "[main]\tINFO\tcli include tests: None\n",
      "[main]\tINFO\tcli exclude tests: None\n",
      "[json]\tINFO\tJSON output written to file: /home/lyvd/bad-snakes/results/bandit4mal/malicious/maratlib1.json\n",
      "\r",
      " 44%|███████████████████████████████████████████████████████████████████████████████████████▋                                                                                                               | 74/168 [01:30<01:35,  1.02s/it]"
     ]
    },
    {
     "name": "stdout",
     "output_type": "stream",
     "text": [
      "mateplotlib\n"
     ]
    },
    {
     "name": "stderr",
     "output_type": "stream",
     "text": [
      "[main]\tINFO\tprofile include tests: None\n",
      "[main]\tINFO\tprofile exclude tests: None\n",
      "[main]\tINFO\tcli include tests: None\n",
      "[main]\tINFO\tcli exclude tests: None\n",
      "[json]\tINFO\tJSON output written to file: /home/lyvd/bad-snakes/results/bandit4mal/malicious/mateplotlib.json\n",
      "\r",
      " 45%|████████████████████████████████████████████████████████████████████████████████████████▊                                                                                                              | 75/168 [01:31<01:23,  1.12it/s]"
     ]
    },
    {
     "name": "stdout",
     "output_type": "stream",
     "text": [
      "matplatlib-plus\n"
     ]
    },
    {
     "name": "stderr",
     "output_type": "stream",
     "text": [
      "[main]\tINFO\tprofile include tests: None\n",
      "[main]\tINFO\tprofile exclude tests: None\n",
      "[main]\tINFO\tcli include tests: None\n",
      "[main]\tINFO\tcli exclude tests: None\n",
      "[json]\tINFO\tJSON output written to file: /home/lyvd/bad-snakes/results/bandit4mal/malicious/matplatlib-plus.json\n",
      " 45%|██████████████████████████████████████████████████████████████████████████████████████████                                                                                                             | 76/168 [01:33<01:47,  1.16s/it]"
     ]
    },
    {
     "name": "stdout",
     "output_type": "stream",
     "text": [
      "mllearnlib\n"
     ]
    },
    {
     "name": "stderr",
     "output_type": "stream",
     "text": [
      "[main]\tINFO\tprofile include tests: None\n",
      "[main]\tINFO\tprofile exclude tests: None\n",
      "[main]\tINFO\tcli include tests: None\n",
      "[main]\tINFO\tcli exclude tests: None\n",
      "[json]\tINFO\tJSON output written to file: /home/lyvd/bad-snakes/results/bandit4mal/malicious/mllearnlib.json\n",
      "\r",
      " 46%|███████████████████████████████████████████████████████████████████████████████████████████▏                                                                                                           | 77/168 [01:33<01:24,  1.07it/s]"
     ]
    },
    {
     "name": "stdout",
     "output_type": "stream",
     "text": [
      "mplatlib\n"
     ]
    },
    {
     "name": "stderr",
     "output_type": "stream",
     "text": [
      "[main]\tINFO\tprofile include tests: None\n",
      "[main]\tINFO\tprofile exclude tests: None\n",
      "[main]\tINFO\tcli include tests: None\n",
      "[main]\tINFO\tcli exclude tests: None\n",
      "[json]\tINFO\tJSON output written to file: /home/lyvd/bad-snakes/results/bandit4mal/malicious/mplatlib.json\n",
      "\r",
      " 46%|████████████████████████████████████████████████████████████████████████████████████████████▍                                                                                                          | 78/168 [01:33<01:11,  1.27it/s]"
     ]
    },
    {
     "name": "stdout",
     "output_type": "stream",
     "text": [
      "multilingual_t5\n"
     ]
    },
    {
     "name": "stderr",
     "output_type": "stream",
     "text": [
      "[main]\tINFO\tprofile include tests: None\n",
      "[main]\tINFO\tprofile exclude tests: None\n",
      "[main]\tINFO\tcli include tests: None\n",
      "[main]\tINFO\tcli exclude tests: None\n",
      "[json]\tINFO\tJSON output written to file: /home/lyvd/bad-snakes/results/bandit4mal/malicious/multilingual_t5.json\n",
      "\r",
      " 47%|█████████████████████████████████████████████████████████████████████████████████████████████▌                                                                                                         | 79/168 [01:34<01:02,  1.43it/s]"
     ]
    },
    {
     "name": "stdout",
     "output_type": "stream",
     "text": [
      "mumpy\n"
     ]
    },
    {
     "name": "stderr",
     "output_type": "stream",
     "text": [
      "[main]\tINFO\tprofile include tests: None\n",
      "[main]\tINFO\tprofile exclude tests: None\n",
      "[main]\tINFO\tcli include tests: None\n",
      "[main]\tINFO\tcli exclude tests: None\n",
      "[json]\tINFO\tJSON output written to file: /home/lyvd/bad-snakes/results/bandit4mal/malicious/mumpy.json\n",
      "\r",
      " 48%|██████████████████████████████████████████████████████████████████████████████████████████████▊                                                                                                        | 80/168 [01:34<00:56,  1.56it/s]"
     ]
    },
    {
     "name": "stdout",
     "output_type": "stream",
     "text": [
      "mybiubiubiu\n"
     ]
    },
    {
     "name": "stderr",
     "output_type": "stream",
     "text": [
      "[main]\tINFO\tprofile include tests: None\n",
      "[main]\tINFO\tprofile exclude tests: None\n",
      "[main]\tINFO\tcli include tests: None\n",
      "[main]\tINFO\tcli exclude tests: None\n",
      "[json]\tINFO\tJSON output written to file: /home/lyvd/bad-snakes/results/bandit4mal/malicious/mybiubiubiu.json\n",
      "\r",
      " 48%|███████████████████████████████████████████████████████████████████████████████████████████████▉                                                                                                       | 81/168 [01:35<00:52,  1.66it/s]"
     ]
    },
    {
     "name": "stdout",
     "output_type": "stream",
     "text": [
      "my_project100\n"
     ]
    },
    {
     "name": "stderr",
     "output_type": "stream",
     "text": [
      "[main]\tINFO\tprofile include tests: None\n",
      "[main]\tINFO\tprofile exclude tests: None\n",
      "[main]\tINFO\tcli include tests: None\n",
      "[main]\tINFO\tcli exclude tests: None\n",
      "[json]\tINFO\tJSON output written to file: /home/lyvd/bad-snakes/results/bandit4mal/malicious/my_project100.json\n",
      "\r",
      " 49%|█████████████████████████████████████████████████████████████████████████████████████████████████▏                                                                                                     | 82/168 [01:35<00:49,  1.75it/s]"
     ]
    },
    {
     "name": "stdout",
     "output_type": "stream",
     "text": [
      "my_project10101\n"
     ]
    },
    {
     "name": "stderr",
     "output_type": "stream",
     "text": [
      "[main]\tINFO\tprofile include tests: None\n",
      "[main]\tINFO\tprofile exclude tests: None\n",
      "[main]\tINFO\tcli include tests: None\n",
      "[main]\tINFO\tcli exclude tests: None\n",
      "[json]\tINFO\tJSON output written to file: /home/lyvd/bad-snakes/results/bandit4mal/malicious/my_project10101.json\n",
      "\r",
      " 49%|██████████████████████████████████████████████████████████████████████████████████████████████████▎                                                                                                    | 83/168 [01:36<00:45,  1.86it/s]"
     ]
    },
    {
     "name": "stdout",
     "output_type": "stream",
     "text": [
      "my_project101011\n"
     ]
    },
    {
     "name": "stderr",
     "output_type": "stream",
     "text": [
      "[main]\tINFO\tprofile include tests: None\n",
      "[main]\tINFO\tprofile exclude tests: None\n",
      "[main]\tINFO\tcli include tests: None\n",
      "[main]\tINFO\tcli exclude tests: None\n",
      "[json]\tINFO\tJSON output written to file: /home/lyvd/bad-snakes/results/bandit4mal/malicious/my_project101011.json\n",
      "\r",
      " 50%|███████████████████████████████████████████████████████████████████████████████████████████████████▌                                                                                                   | 84/168 [01:37<00:50,  1.66it/s]"
     ]
    },
    {
     "name": "stdout",
     "output_type": "stream",
     "text": [
      "nmap-python\n"
     ]
    },
    {
     "name": "stderr",
     "output_type": "stream",
     "text": [
      "[main]\tINFO\tprofile include tests: None\n",
      "[main]\tINFO\tprofile exclude tests: None\n",
      "[main]\tINFO\tcli include tests: None\n",
      "[main]\tINFO\tcli exclude tests: None\n",
      "[json]\tINFO\tJSON output written to file: /home/lyvd/bad-snakes/results/bandit4mal/malicious/nmap-python.json\n",
      " 51%|████████████████████████████████████████████████████████████████████████████████████████████████████▋                                                                                                  | 85/168 [01:38<01:03,  1.31it/s]"
     ]
    },
    {
     "name": "stdout",
     "output_type": "stream",
     "text": [
      "noblesse\n"
     ]
    },
    {
     "name": "stderr",
     "output_type": "stream",
     "text": [
      "[main]\tINFO\tprofile include tests: None\n",
      "[main]\tINFO\tprofile exclude tests: None\n",
      "[main]\tINFO\tcli include tests: None\n",
      "[main]\tINFO\tcli exclude tests: None\n",
      "[json]\tINFO\tJSON output written to file: /home/lyvd/bad-snakes/results/bandit4mal/malicious/noblesse.json\n",
      " 51%|█████████████████████████████████████████████████████████████████████████████████████████████████████▊                                                                                                 | 86/168 [01:38<00:57,  1.43it/s]"
     ]
    },
    {
     "name": "stdout",
     "output_type": "stream",
     "text": [
      "noblesse2\n"
     ]
    },
    {
     "name": "stderr",
     "output_type": "stream",
     "text": [
      "[main]\tINFO\tprofile include tests: None\n",
      "[main]\tINFO\tprofile exclude tests: None\n",
      "[main]\tINFO\tcli include tests: None\n",
      "[main]\tINFO\tcli exclude tests: None\n",
      "[json]\tINFO\tJSON output written to file: /home/lyvd/bad-snakes/results/bandit4mal/malicious/noblesse2.json\n",
      "\r",
      " 52%|███████████████████████████████████████████████████████████████████████████████████████████████████████                                                                                                | 87/168 [01:39<00:49,  1.62it/s]"
     ]
    },
    {
     "name": "stdout",
     "output_type": "stream",
     "text": [
      "noblessev2\n"
     ]
    },
    {
     "name": "stderr",
     "output_type": "stream",
     "text": [
      "[main]\tINFO\tprofile include tests: None\n",
      "[main]\tINFO\tprofile exclude tests: None\n",
      "[main]\tINFO\tcli include tests: None\n",
      "[main]\tINFO\tcli exclude tests: None\n",
      "[json]\tINFO\tJSON output written to file: /home/lyvd/bad-snakes/results/bandit4mal/malicious/noblessev2.json\n",
      "\r",
      " 52%|████████████████████████████████████████████████████████████████████████████████████████████████████████▏                                                                                              | 88/168 [01:39<00:49,  1.60it/s]"
     ]
    },
    {
     "name": "stdout",
     "output_type": "stream",
     "text": [
      "numipy\n"
     ]
    },
    {
     "name": "stderr",
     "output_type": "stream",
     "text": [
      "[main]\tINFO\tprofile include tests: None\n",
      "[main]\tINFO\tprofile exclude tests: None\n",
      "[main]\tINFO\tcli include tests: None\n",
      "[main]\tINFO\tcli exclude tests: None\n",
      "[json]\tINFO\tJSON output written to file: /home/lyvd/bad-snakes/results/bandit4mal/malicious/numipy.json\n",
      "\r",
      " 53%|█████████████████████████████████████████████████████████████████████████████████████████████████████████▍                                                                                             | 89/168 [01:40<00:43,  1.80it/s]"
     ]
    },
    {
     "name": "stdout",
     "output_type": "stream",
     "text": [
      "openbabel_python\n"
     ]
    },
    {
     "name": "stderr",
     "output_type": "stream",
     "text": [
      "[main]\tINFO\tprofile include tests: None\n",
      "[main]\tINFO\tprofile exclude tests: None\n",
      "[main]\tINFO\tcli include tests: None\n",
      "[main]\tINFO\tcli exclude tests: None\n",
      "[json]\tINFO\tJSON output written to file: /home/lyvd/bad-snakes/results/bandit4mal/malicious/openbabel_python.json\n",
      "\r",
      " 54%|██████████████████████████████████████████████████████████████████████████████████████████████████████████▌                                                                                            | 90/168 [01:40<00:41,  1.87it/s]"
     ]
    },
    {
     "name": "stdout",
     "output_type": "stream",
     "text": [
      "openrobotics\n"
     ]
    },
    {
     "name": "stderr",
     "output_type": "stream",
     "text": [
      "[main]\tINFO\tprofile include tests: None\n",
      "[main]\tINFO\tprofile exclude tests: None\n",
      "[main]\tINFO\tcli include tests: None\n",
      "[main]\tINFO\tcli exclude tests: None\n",
      "[json]\tINFO\tJSON output written to file: /home/lyvd/bad-snakes/results/bandit4mal/malicious/openrobotics.json\n",
      "\r",
      " 54%|███████████████████████████████████████████████████████████████████████████████████████████████████████████▊                                                                                           | 91/168 [01:41<00:39,  1.94it/s]"
     ]
    },
    {
     "name": "stdout",
     "output_type": "stream",
     "text": [
      "openvc\n"
     ]
    },
    {
     "name": "stderr",
     "output_type": "stream",
     "text": [
      "[main]\tINFO\tprofile include tests: None\n",
      "[main]\tINFO\tprofile exclude tests: None\n",
      "[main]\tINFO\tcli include tests: None\n",
      "[main]\tINFO\tcli exclude tests: None\n",
      "[json]\tINFO\tJSON output written to file: /home/lyvd/bad-snakes/results/bandit4mal/malicious/openvc.json\n",
      " 55%|████████████████████████████████████████████████████████████████████████████████████████████████████████████▉                                                                                          | 92/168 [01:43<01:13,  1.04it/s]"
     ]
    },
    {
     "name": "stdout",
     "output_type": "stream",
     "text": [
      "owlmoon\n"
     ]
    },
    {
     "name": "stderr",
     "output_type": "stream",
     "text": [
      "[main]\tINFO\tprofile include tests: None\n",
      "[main]\tINFO\tprofile exclude tests: None\n",
      "[main]\tINFO\tcli include tests: None\n",
      "[main]\tINFO\tcli exclude tests: None\n",
      "[json]\tINFO\tJSON output written to file: /home/lyvd/bad-snakes/results/bandit4mal/malicious/owlmoon.json\n",
      "\r",
      " 55%|██████████████████████████████████████████████████████████████████████████████████████████████████████████████▏                                                                                        | 93/168 [01:43<01:05,  1.15it/s]"
     ]
    },
    {
     "name": "stdout",
     "output_type": "stream",
     "text": [
      "pandar\n"
     ]
    },
    {
     "name": "stderr",
     "output_type": "stream",
     "text": [
      "[main]\tINFO\tprofile include tests: None\n",
      "[main]\tINFO\tprofile exclude tests: None\n",
      "[main]\tINFO\tcli include tests: None\n",
      "[main]\tINFO\tcli exclude tests: None\n",
      "[json]\tINFO\tJSON output written to file: /home/lyvd/bad-snakes/results/bandit4mal/malicious/pandar.json\n",
      "\r",
      " 56%|███████████████████████████████████████████████████████████████████████████████████████████████████████████████▎                                                                                       | 94/168 [01:44<00:57,  1.29it/s]"
     ]
    },
    {
     "name": "stdout",
     "output_type": "stream",
     "text": [
      "peloton-clients\n"
     ]
    },
    {
     "name": "stderr",
     "output_type": "stream",
     "text": [
      "[main]\tINFO\tprofile include tests: None\n",
      "[main]\tINFO\tprofile exclude tests: None\n",
      "[main]\tINFO\tcli include tests: None\n",
      "[main]\tINFO\tcli exclude tests: None\n",
      "[json]\tINFO\tJSON output written to file: /home/lyvd/bad-snakes/results/bandit4mal/malicious/peloton-clients.json\n",
      "\r",
      " 57%|████████████████████████████████████████████████████████████████████████████████████████████████████████████████▌                                                                                      | 95/168 [01:45<00:52,  1.38it/s]"
     ]
    },
    {
     "name": "stdout",
     "output_type": "stream",
     "text": [
      "php-requests-complex\n"
     ]
    },
    {
     "name": "stderr",
     "output_type": "stream",
     "text": [
      "[main]\tINFO\tprofile include tests: None\n",
      "[main]\tINFO\tprofile exclude tests: None\n",
      "[main]\tINFO\tcli include tests: None\n",
      "[main]\tINFO\tcli exclude tests: None\n",
      "[json]\tINFO\tJSON output written to file: /home/lyvd/bad-snakes/results/bandit4mal/malicious/php-requests-complex.json\n",
      "\r",
      " 57%|█████████████████████████████████████████████████████████████████████████████████████████████████████████████████▋                                                                                     | 96/168 [01:45<00:53,  1.36it/s]"
     ]
    },
    {
     "name": "stdout",
     "output_type": "stream",
     "text": [
      "pilloe\n"
     ]
    },
    {
     "name": "stderr",
     "output_type": "stream",
     "text": [
      "[main]\tINFO\tprofile include tests: None\n",
      "[main]\tINFO\tprofile exclude tests: None\n",
      "[main]\tINFO\tcli include tests: None\n",
      "[main]\tINFO\tcli exclude tests: None\n",
      "[json]\tINFO\tJSON output written to file: /home/lyvd/bad-snakes/results/bandit4mal/malicious/pilloe.json\n",
      "\r",
      " 58%|██████████████████████████████████████████████████████████████████████████████████████████████████████████████████▉                                                                                    | 97/168 [01:46<00:58,  1.21it/s]"
     ]
    },
    {
     "name": "stdout",
     "output_type": "stream",
     "text": [
      "pilow\n"
     ]
    },
    {
     "name": "stderr",
     "output_type": "stream",
     "text": [
      "[main]\tINFO\tprofile include tests: None\n",
      "[main]\tINFO\tprofile exclude tests: None\n",
      "[main]\tINFO\tcli include tests: None\n",
      "[main]\tINFO\tcli exclude tests: None\n",
      "[json]\tINFO\tJSON output written to file: /home/lyvd/bad-snakes/results/bandit4mal/malicious/pilow.json\n",
      "\r",
      " 58%|████████████████████████████████████████████████████████████████████████████████████████████████████████████████████                                                                                   | 98/168 [01:48<01:04,  1.08it/s]"
     ]
    },
    {
     "name": "stdout",
     "output_type": "stream",
     "text": [
      "pip_security\n"
     ]
    },
    {
     "name": "stderr",
     "output_type": "stream",
     "text": [
      "[main]\tINFO\tprofile include tests: None\n",
      "[main]\tINFO\tprofile exclude tests: None\n",
      "[main]\tINFO\tcli include tests: None\n",
      "[main]\tINFO\tcli exclude tests: None\n",
      "[json]\tINFO\tJSON output written to file: /home/lyvd/bad-snakes/results/bandit4mal/malicious/pip_security.json\n",
      "\r",
      " 59%|█████████████████████████████████████████████████████████████████████████████████████████████████████████████████████▎                                                                                 | 99/168 [01:48<01:00,  1.14it/s]"
     ]
    },
    {
     "name": "stdout",
     "output_type": "stream",
     "text": [
      "pkgutil\n"
     ]
    },
    {
     "name": "stderr",
     "output_type": "stream",
     "text": [
      "[main]\tINFO\tprofile include tests: None\n",
      "[main]\tINFO\tprofile exclude tests: None\n",
      "[main]\tINFO\tcli include tests: None\n",
      "[main]\tINFO\tcli exclude tests: None\n",
      "[json]\tINFO\tJSON output written to file: /home/lyvd/bad-snakes/results/bandit4mal/malicious/pkgutil.json\n",
      " 60%|█████████████████████████████████████████████████████████████████████████████████████████████████████████████████████▊                                                                                | 100/168 [01:50<01:07,  1.01it/s]"
     ]
    },
    {
     "name": "stdout",
     "output_type": "stream",
     "text": [
      "pmpo\n"
     ]
    },
    {
     "name": "stderr",
     "output_type": "stream",
     "text": [
      "[main]\tINFO\tprofile include tests: None\n",
      "[main]\tINFO\tprofile exclude tests: None\n",
      "[main]\tINFO\tcli include tests: None\n",
      "[main]\tINFO\tcli exclude tests: None\n",
      "[json]\tINFO\tJSON output written to file: /home/lyvd/bad-snakes/results/bandit4mal/malicious/pmpo.json\n",
      "\r",
      " 60%|███████████████████████████████████████████████████████████████████████████████████████████████████████████████████████                                                                               | 101/168 [01:50<00:56,  1.18it/s]"
     ]
    },
    {
     "name": "stdout",
     "output_type": "stream",
     "text": [
      "pptest\n"
     ]
    },
    {
     "name": "stderr",
     "output_type": "stream",
     "text": [
      "[main]\tINFO\tprofile include tests: None\n",
      "[main]\tINFO\tprofile exclude tests: None\n",
      "[main]\tINFO\tcli include tests: None\n",
      "[main]\tINFO\tcli exclude tests: None\n",
      "[json]\tINFO\tJSON output written to file: /home/lyvd/bad-snakes/results/bandit4mal/malicious/pptest.json\n",
      "\r",
      " 61%|████████████████████████████████████████████████████████████████████████████████████████████████████████████████████████▏                                                                             | 102/168 [01:51<00:57,  1.15it/s]"
     ]
    },
    {
     "name": "stdout",
     "output_type": "stream",
     "text": [
      "pwd\n"
     ]
    },
    {
     "name": "stderr",
     "output_type": "stream",
     "text": [
      "[main]\tINFO\tprofile include tests: None\n",
      "[main]\tINFO\tprofile exclude tests: None\n",
      "[main]\tINFO\tcli include tests: None\n",
      "[main]\tINFO\tcli exclude tests: None\n",
      "[json]\tINFO\tJSON output written to file: /home/lyvd/bad-snakes/results/bandit4mal/malicious/pwd.json\n",
      " 61%|█████████████████████████████████████████████████████████████████████████████████████████████████████████████████████████▍                                                                            | 103/168 [01:52<00:55,  1.17it/s]"
     ]
    },
    {
     "name": "stdout",
     "output_type": "stream",
     "text": [
      "pwniepip\n"
     ]
    },
    {
     "name": "stderr",
     "output_type": "stream",
     "text": [
      "[main]\tINFO\tprofile include tests: None\n",
      "[main]\tINFO\tprofile exclude tests: None\n",
      "[main]\tINFO\tcli include tests: None\n",
      "[main]\tINFO\tcli exclude tests: None\n",
      "[json]\tINFO\tJSON output written to file: /home/lyvd/bad-snakes/results/bandit4mal/malicious/pwniepip.json\n",
      "\r",
      " 62%|██████████████████████████████████████████████████████████████████████████████████████████████████████████████████████████▌                                                                           | 104/168 [01:52<00:48,  1.32it/s]"
     ]
    },
    {
     "name": "stdout",
     "output_type": "stream",
     "text": [
      "pycache__pycparser\n"
     ]
    },
    {
     "name": "stderr",
     "output_type": "stream",
     "text": [
      "[main]\tINFO\tprofile include tests: None\n",
      "[main]\tINFO\tprofile exclude tests: None\n",
      "[main]\tINFO\tcli include tests: None\n",
      "[main]\tINFO\tcli exclude tests: None\n",
      "[json]\tINFO\tJSON output written to file: /home/lyvd/bad-snakes/results/bandit4mal/malicious/pycache__pycparser.json\n",
      "\r",
      " 62%|███████████████████████████████████████████████████████████████████████████████████████████████████████████████████████████▊                                                                          | 105/168 [01:53<00:42,  1.49it/s]"
     ]
    },
    {
     "name": "stdout",
     "output_type": "stream",
     "text": [
      "pyconau-funtimes\n"
     ]
    },
    {
     "name": "stderr",
     "output_type": "stream",
     "text": [
      "[main]\tINFO\tprofile include tests: None\n",
      "[main]\tINFO\tprofile exclude tests: None\n",
      "[main]\tINFO\tcli include tests: None\n",
      "[main]\tINFO\tcli exclude tests: None\n",
      "[json]\tINFO\tJSON output written to file: /home/lyvd/bad-snakes/results/bandit4mal/malicious/pyconau-funtimes.json\n",
      "\r",
      " 63%|████████████████████████████████████████████████████████████████████████████████████████████████████████████████████████████▉                                                                         | 106/168 [01:53<00:37,  1.65it/s]"
     ]
    },
    {
     "name": "stdout",
     "output_type": "stream",
     "text": [
      "pygrata\n"
     ]
    },
    {
     "name": "stderr",
     "output_type": "stream",
     "text": [
      "[main]\tINFO\tprofile include tests: None\n",
      "[main]\tINFO\tprofile exclude tests: None\n",
      "[main]\tINFO\tcli include tests: None\n",
      "[main]\tINFO\tcli exclude tests: None\n",
      "[json]\tINFO\tJSON output written to file: /home/lyvd/bad-snakes/results/bandit4mal/malicious/pygrata.json\n",
      "\r",
      " 64%|██████████████████████████████████████████████████████████████████████████████████████████████████████████████████████████████                                                                        | 107/168 [01:54<00:33,  1.81it/s]"
     ]
    },
    {
     "name": "stdout",
     "output_type": "stream",
     "text": [
      "pymafka\n"
     ]
    },
    {
     "name": "stderr",
     "output_type": "stream",
     "text": [
      "[main]\tINFO\tprofile include tests: None\n",
      "[main]\tINFO\tprofile exclude tests: None\n",
      "[main]\tINFO\tcli include tests: None\n",
      "[main]\tINFO\tcli exclude tests: None\n",
      "[json]\tINFO\tJSON output written to file: /home/lyvd/bad-snakes/results/bandit4mal/malicious/pymafka.json\n",
      "\r",
      " 64%|███████████████████████████████████████████████████████████████████████████████████████████████████████████████████████████████▎                                                                      | 108/168 [01:54<00:30,  2.00it/s]"
     ]
    },
    {
     "name": "stdout",
     "output_type": "stream",
     "text": [
      "pyscrapy\n"
     ]
    },
    {
     "name": "stderr",
     "output_type": "stream",
     "text": [
      "[main]\tINFO\tprofile include tests: None\n",
      "[main]\tINFO\tprofile exclude tests: None\n",
      "[main]\tINFO\tcli include tests: None\n",
      "[main]\tINFO\tcli exclude tests: None\n",
      "[json]\tINFO\tJSON output written to file: /home/lyvd/bad-snakes/results/bandit4mal/malicious/pyscrapy.json\n",
      "\r",
      " 65%|████████████████████████████████████████████████████████████████████████████████████████████████████████████████████████████████▍                                                                     | 109/168 [01:55<00:28,  2.06it/s]"
     ]
    },
    {
     "name": "stdout",
     "output_type": "stream",
     "text": [
      "pysprak\n"
     ]
    },
    {
     "name": "stderr",
     "output_type": "stream",
     "text": [
      "[main]\tINFO\tprofile include tests: None\n",
      "[main]\tINFO\tprofile exclude tests: None\n",
      "[main]\tINFO\tcli include tests: None\n",
      "[main]\tINFO\tcli exclude tests: None\n",
      "[json]\tINFO\tJSON output written to file: /home/lyvd/bad-snakes/results/bandit4mal/malicious/pysprak.json\n",
      "\r",
      " 65%|█████████████████████████████████████████████████████████████████████████████████████████████████████████████████████████████████▋                                                                    | 110/168 [01:55<00:26,  2.18it/s]"
     ]
    },
    {
     "name": "stdout",
     "output_type": "stream",
     "text": [
      "pytagora\n"
     ]
    },
    {
     "name": "stderr",
     "output_type": "stream",
     "text": [
      "[main]\tINFO\tprofile include tests: None\n",
      "[main]\tINFO\tprofile exclude tests: None\n",
      "[main]\tINFO\tcli include tests: None\n",
      "[main]\tINFO\tcli exclude tests: None\n",
      "[json]\tINFO\tJSON output written to file: /home/lyvd/bad-snakes/results/bandit4mal/malicious/pytagora.json\n",
      "\r",
      " 66%|██████████████████████████████████████████████████████████████████████████████████████████████████████████████████████████████████▊                                                                   | 111/168 [01:56<00:27,  2.05it/s]"
     ]
    },
    {
     "name": "stdout",
     "output_type": "stream",
     "text": [
      "pytagora2\n"
     ]
    },
    {
     "name": "stderr",
     "output_type": "stream",
     "text": [
      "[main]\tINFO\tprofile include tests: None\n",
      "[main]\tINFO\tprofile exclude tests: None\n",
      "[main]\tINFO\tcli include tests: None\n",
      "[main]\tINFO\tcli exclude tests: None\n",
      "[json]\tINFO\tJSON output written to file: /home/lyvd/bad-snakes/results/bandit4mal/malicious/pytagora2.json\n",
      "\r",
      " 67%|████████████████████████████████████████████████████████████████████████████████████████████████████████████████████████████████████                                                                  | 112/168 [01:56<00:25,  2.17it/s]"
     ]
    },
    {
     "name": "stdout",
     "output_type": "stream",
     "text": [
      "python-dateutils\n"
     ]
    },
    {
     "name": "stderr",
     "output_type": "stream",
     "text": [
      "[main]\tINFO\tprofile include tests: None\n",
      "[main]\tINFO\tprofile exclude tests: None\n",
      "[main]\tINFO\tcli include tests: None\n",
      "[main]\tINFO\tcli exclude tests: None\n",
      "[json]\tINFO\tJSON output written to file: /home/lyvd/bad-snakes/results/bandit4mal/malicious/python-dateutils.json\n",
      " 67%|█████████████████████████████████████████████████████████████████████████████████████████████████████████████████████████████████████▏                                                                | 113/168 [02:14<05:18,  5.80s/it]"
     ]
    },
    {
     "name": "stdout",
     "output_type": "stream",
     "text": [
      "python-ftp\n"
     ]
    },
    {
     "name": "stderr",
     "output_type": "stream",
     "text": [
      "[main]\tINFO\tprofile include tests: None\n",
      "[main]\tINFO\tprofile exclude tests: None\n",
      "[main]\tINFO\tcli include tests: None\n",
      "[main]\tINFO\tcli exclude tests: None\n",
      "[json]\tINFO\tJSON output written to file: /home/lyvd/bad-snakes/results/bandit4mal/malicious/python-ftp.json\n",
      "\r",
      " 68%|██████████████████████████████████████████████████████████████████████████████████████████████████████████████████████████████████████▎                                                               | 114/168 [02:15<03:55,  4.36s/it]"
     ]
    },
    {
     "name": "stdout",
     "output_type": "stream",
     "text": [
      "python-mongo\n"
     ]
    },
    {
     "name": "stderr",
     "output_type": "stream",
     "text": [
      "[main]\tINFO\tprofile include tests: None\n",
      "[main]\tINFO\tprofile exclude tests: None\n",
      "[main]\tINFO\tcli include tests: None\n",
      "[main]\tINFO\tcli exclude tests: None\n",
      "[json]\tINFO\tJSON output written to file: /home/lyvd/bad-snakes/results/bandit4mal/malicious/python-mongo.json\n",
      "\r",
      " 68%|███████████████████████████████████████████████████████████████████████████████████████████████████████████████████████████████████████▌                                                              | 115/168 [02:16<02:54,  3.30s/it]"
     ]
    },
    {
     "name": "stdout",
     "output_type": "stream",
     "text": [
      "python-mysql\n"
     ]
    },
    {
     "name": "stderr",
     "output_type": "stream",
     "text": [
      "[main]\tINFO\tprofile include tests: None\n",
      "[main]\tINFO\tprofile exclude tests: None\n",
      "[main]\tINFO\tcli include tests: None\n",
      "[main]\tINFO\tcli exclude tests: None\n",
      "[json]\tINFO\tJSON output written to file: /home/lyvd/bad-snakes/results/bandit4mal/malicious/python-mysql.json\n",
      " 69%|████████████████████████████████████████████████████████████████████████████████████████████████████████████████████████████████████████▋                                                             | 116/168 [02:17<02:16,  2.63s/it]"
     ]
    },
    {
     "name": "stdout",
     "output_type": "stream",
     "text": [
      "python-mysqldb\n"
     ]
    },
    {
     "name": "stderr",
     "output_type": "stream",
     "text": [
      "[main]\tINFO\tprofile include tests: None\n",
      "[main]\tINFO\tprofile exclude tests: None\n",
      "[main]\tINFO\tcli include tests: None\n",
      "[main]\tINFO\tcli exclude tests: None\n",
      "[json]\tINFO\tJSON output written to file: /home/lyvd/bad-snakes/results/bandit4mal/malicious/python-mysqldb.json\n",
      "\r",
      " 70%|█████████████████████████████████████████████████████████████████████████████████████████████████████████████████████████████████████████▉                                                            | 117/168 [02:18<01:42,  2.02s/it]"
     ]
    },
    {
     "name": "stdout",
     "output_type": "stream",
     "text": [
      "python-openssl\n"
     ]
    },
    {
     "name": "stderr",
     "output_type": "stream",
     "text": [
      "[main]\tINFO\tprofile include tests: None\n",
      "[main]\tINFO\tprofile exclude tests: None\n",
      "[main]\tINFO\tcli include tests: None\n",
      "[main]\tINFO\tcli exclude tests: None\n",
      "[json]\tINFO\tJSON output written to file: /home/lyvd/bad-snakes/results/bandit4mal/malicious/python-openssl.json\n",
      " 70%|███████████████████████████████████████████████████████████████████████████████████████████████████████████████████████████████████████████                                                           | 118/168 [02:18<01:20,  1.62s/it]"
     ]
    },
    {
     "name": "stdout",
     "output_type": "stream",
     "text": [
      "python-sqlite\n"
     ]
    },
    {
     "name": "stderr",
     "output_type": "stream",
     "text": [
      "[main]\tINFO\tprofile include tests: None\n",
      "[main]\tINFO\tprofile exclude tests: None\n",
      "[main]\tINFO\tcli include tests: None\n",
      "[main]\tINFO\tcli exclude tests: None\n",
      "[json]\tINFO\tJSON output written to file: /home/lyvd/bad-snakes/results/bandit4mal/malicious/python-sqlite.json\n",
      "\r",
      " 71%|████████████████████████████████████████████████████████████████████████████████████████████████████████████████████████████████████████████▎                                                         | 119/168 [02:19<01:01,  1.26s/it]"
     ]
    },
    {
     "name": "stdout",
     "output_type": "stream",
     "text": [
      "python3-dateutil\n"
     ]
    },
    {
     "name": "stderr",
     "output_type": "stream",
     "text": [
      "[main]\tINFO\tprofile include tests: None\n",
      "[main]\tINFO\tprofile exclude tests: None\n",
      "[main]\tINFO\tcli include tests: None\n",
      "[main]\tINFO\tcli exclude tests: None\n",
      "[json]\tINFO\tJSON output written to file: /home/lyvd/bad-snakes/results/bandit4mal/malicious/python3-dateutil.json\n",
      " 71%|█████████████████████████████████████████████████████████████████████████████████████████████████████████████████████████████████████████████▍                                                        | 120/168 [02:31<03:36,  4.50s/it]"
     ]
    },
    {
     "name": "stdout",
     "output_type": "stream",
     "text": [
      "pythonkafka\n"
     ]
    },
    {
     "name": "stderr",
     "output_type": "stream",
     "text": [
      "[main]\tINFO\tprofile include tests: None\n",
      "[main]\tINFO\tprofile exclude tests: None\n",
      "[main]\tINFO\tcli include tests: None\n",
      "[main]\tINFO\tcli exclude tests: None\n",
      "97 [0.. 50.. ]\n",
      "[json]\tINFO\tJSON output written to file: /home/lyvd/bad-snakes/results/bandit4mal/malicious/pythonkafka.json\n",
      " 72%|██████████████████████████████████████████████████████████████████████████████████████████████████████████████████████████████████████████████▌                                                       | 121/168 [02:40<04:36,  5.88s/it]"
     ]
    },
    {
     "name": "stdout",
     "output_type": "stream",
     "text": [
      "pytz3-dev\n"
     ]
    },
    {
     "name": "stderr",
     "output_type": "stream",
     "text": [
      "[main]\tINFO\tprofile include tests: None\n",
      "[main]\tINFO\tprofile exclude tests: None\n",
      "[main]\tINFO\tcli include tests: None\n",
      "[main]\tINFO\tcli exclude tests: None\n",
      "[json]\tINFO\tJSON output written to file: /home/lyvd/bad-snakes/results/bandit4mal/malicious/pytz3-dev.json\n",
      " 73%|███████████████████████████████████████████████████████████████████████████████████████████████████████████████████████████████████████████████▊                                                      | 122/168 [02:41<03:26,  4.48s/it]"
     ]
    },
    {
     "name": "stdout",
     "output_type": "stream",
     "text": [
      "PyYMAL\n"
     ]
    },
    {
     "name": "stderr",
     "output_type": "stream",
     "text": [
      "[main]\tINFO\tprofile include tests: None\n",
      "[main]\tINFO\tprofile exclude tests: None\n",
      "[main]\tINFO\tcli include tests: None\n",
      "[main]\tINFO\tcli exclude tests: None\n",
      "[json]\tINFO\tJSON output written to file: /home/lyvd/bad-snakes/results/bandit4mal/malicious/PyYMAL.json\n",
      " 73%|████████████████████████████████████████████████████████████████████████████████████████████████████████████████████████████████████████████████▉                                                     | 123/168 [02:44<03:00,  4.02s/it]"
     ]
    },
    {
     "name": "stdout",
     "output_type": "stream",
     "text": [
      "randam\n"
     ]
    },
    {
     "name": "stderr",
     "output_type": "stream",
     "text": [
      "[main]\tINFO\tprofile include tests: None\n",
      "[main]\tINFO\tprofile exclude tests: None\n",
      "[main]\tINFO\tcli include tests: None\n",
      "[main]\tINFO\tcli exclude tests: None\n",
      "[json]\tINFO\tJSON output written to file: /home/lyvd/bad-snakes/results/bandit4mal/malicious/randam.json\n",
      "\r",
      " 74%|██████████████████████████████████████████████████████████████████████████████████████████████████████████████████████████████████████████████████▏                                                   | 124/168 [02:45<02:12,  3.02s/it]"
     ]
    },
    {
     "name": "stdout",
     "output_type": "stream",
     "text": [
      "rasyp\n"
     ]
    },
    {
     "name": "stderr",
     "output_type": "stream",
     "text": [
      "[main]\tINFO\tprofile include tests: None\n",
      "[main]\tINFO\tprofile exclude tests: None\n",
      "[main]\tINFO\tcli include tests: None\n",
      "[main]\tINFO\tcli exclude tests: None\n",
      "[json]\tINFO\tJSON output written to file: /home/lyvd/bad-snakes/results/bandit4mal/malicious/rasyp.json\n",
      "\r",
      " 74%|███████████████████████████████████████████████████████████████████████████████████████████████████████████████████████████████████████████████████▎                                                  | 125/168 [02:45<01:38,  2.29s/it]"
     ]
    },
    {
     "name": "stdout",
     "output_type": "stream",
     "text": [
      "reequests\n"
     ]
    },
    {
     "name": "stderr",
     "output_type": "stream",
     "text": [
      "[main]\tINFO\tprofile include tests: None\n",
      "[main]\tINFO\tprofile exclude tests: None\n",
      "[main]\tINFO\tcli include tests: None\n",
      "[main]\tINFO\tcli exclude tests: None\n",
      "[json]\tINFO\tJSON output written to file: /home/lyvd/bad-snakes/results/bandit4mal/malicious/reequests.json\n",
      " 75%|████████████████████████████████████████████████████████████████████████████████████████████████████████████████████████████████████████████████████▌                                                 | 126/168 [02:51<02:16,  3.26s/it]"
     ]
    },
    {
     "name": "stdout",
     "output_type": "stream",
     "text": [
      "reisas\n"
     ]
    },
    {
     "name": "stderr",
     "output_type": "stream",
     "text": [
      "[main]\tINFO\tprofile include tests: None\n",
      "[main]\tINFO\tprofile exclude tests: None\n",
      "[main]\tINFO\tcli include tests: None\n",
      "[main]\tINFO\tcli exclude tests: None\n",
      "[json]\tINFO\tJSON output written to file: /home/lyvd/bad-snakes/results/bandit4mal/malicious/reisas.json\n",
      "\r",
      " 76%|█████████████████████████████████████████████████████████████████████████████████████████████████████████████████████████████████████████████████████▋                                                | 127/168 [02:52<01:43,  2.52s/it]"
     ]
    },
    {
     "name": "stdout",
     "output_type": "stream",
     "text": [
      "reols\n"
     ]
    },
    {
     "name": "stderr",
     "output_type": "stream",
     "text": [
      "[main]\tINFO\tprofile include tests: None\n",
      "[main]\tINFO\tprofile exclude tests: None\n",
      "[main]\tINFO\tcli include tests: None\n",
      "[main]\tINFO\tcli exclude tests: None\n",
      "[json]\tINFO\tJSON output written to file: /home/lyvd/bad-snakes/results/bandit4mal/malicious/reols.json\n",
      " 76%|██████████████████████████████████████████████████████████████████████████████████████████████████████████████████████████████████████████████████████▊                                               | 128/168 [02:52<01:18,  1.97s/it]"
     ]
    },
    {
     "name": "stdout",
     "output_type": "stream",
     "text": [
      "req-tools\n"
     ]
    },
    {
     "name": "stderr",
     "output_type": "stream",
     "text": [
      "[main]\tINFO\tprofile include tests: None\n",
      "[main]\tINFO\tprofile exclude tests: None\n",
      "[main]\tINFO\tcli include tests: None\n",
      "[main]\tINFO\tcli exclude tests: None\n",
      "[json]\tINFO\tJSON output written to file: /home/lyvd/bad-snakes/results/bandit4mal/malicious/req-tools.json\n",
      " 77%|████████████████████████████████████████████████████████████████████████████████████████████████████████████████████████████████████████████████████████                                              | 129/168 [02:53<01:01,  1.57s/it]"
     ]
    },
    {
     "name": "stdout",
     "output_type": "stream",
     "text": [
      "reqquests\n"
     ]
    },
    {
     "name": "stderr",
     "output_type": "stream",
     "text": [
      "[main]\tINFO\tprofile include tests: None\n",
      "[main]\tINFO\tprofile exclude tests: None\n",
      "[main]\tINFO\tcli include tests: None\n",
      "[main]\tINFO\tcli exclude tests: None\n",
      "[json]\tINFO\tJSON output written to file: /home/lyvd/bad-snakes/results/bandit4mal/malicious/reqquests.json\n",
      " 77%|█████████████████████████████████████████████████████████████████████████████████████████████████████████████████████████████████████████████████████████▏                                            | 130/168 [02:59<01:44,  2.75s/it]"
     ]
    },
    {
     "name": "stdout",
     "output_type": "stream",
     "text": [
      "requeests\n"
     ]
    },
    {
     "name": "stderr",
     "output_type": "stream",
     "text": [
      "[main]\tINFO\tprofile include tests: None\n",
      "[main]\tINFO\tprofile exclude tests: None\n",
      "[main]\tINFO\tcli include tests: None\n",
      "[main]\tINFO\tcli exclude tests: None\n",
      "[json]\tINFO\tJSON output written to file: /home/lyvd/bad-snakes/results/bandit4mal/malicious/requeests.json\n",
      " 78%|██████████████████████████████████████████████████████████████████████████████████████████████████████████████████████████████████████████████████████████▍                                           | 131/168 [03:03<02:06,  3.41s/it]"
     ]
    },
    {
     "name": "stdout",
     "output_type": "stream",
     "text": [
      "requess\n"
     ]
    },
    {
     "name": "stderr",
     "output_type": "stream",
     "text": [
      "[main]\tINFO\tprofile include tests: None\n",
      "[main]\tINFO\tprofile exclude tests: None\n",
      "[main]\tINFO\tcli include tests: None\n",
      "[main]\tINFO\tcli exclude tests: None\n",
      "[json]\tINFO\tJSON output written to file: /home/lyvd/bad-snakes/results/bandit4mal/malicious/requess.json\n",
      " 79%|███████████████████████████████████████████████████████████████████████████████████████████████████████████████████████████████████████████████████████████▌                                          | 132/168 [03:10<02:32,  4.24s/it]"
     ]
    },
    {
     "name": "stdout",
     "output_type": "stream",
     "text": [
      "request\n"
     ]
    },
    {
     "name": "stderr",
     "output_type": "stream",
     "text": [
      "[main]\tINFO\tprofile include tests: None\n",
      "[main]\tINFO\tprofile exclude tests: None\n",
      "[main]\tINFO\tcli include tests: None\n",
      "[main]\tINFO\tcli exclude tests: None\n",
      "[json]\tINFO\tJSON output written to file: /home/lyvd/bad-snakes/results/bandit4mal/malicious/request.json\n",
      "\r",
      " 79%|████████████████████████████████████████████████████████████████████████████████████████████████████████████████████████████████████████████████████████████▊                                         | 133/168 [03:11<01:56,  3.32s/it]"
     ]
    },
    {
     "name": "stdout",
     "output_type": "stream",
     "text": [
      "requuests\n"
     ]
    },
    {
     "name": "stderr",
     "output_type": "stream",
     "text": [
      "[main]\tINFO\tprofile include tests: None\n",
      "[main]\tINFO\tprofile exclude tests: None\n",
      "[main]\tINFO\tcli include tests: None\n",
      "[main]\tINFO\tcli exclude tests: None\n",
      "[json]\tINFO\tJSON output written to file: /home/lyvd/bad-snakes/results/bandit4mal/malicious/requuests.json\n",
      " 80%|█████████████████████████████████████████████████████████████████████████████████████████████████████████████████████████████████████████████████████████████▉                                        | 134/168 [03:16<02:08,  3.78s/it]"
     ]
    },
    {
     "name": "stdout",
     "output_type": "stream",
     "text": [
      "rstseuqe\n"
     ]
    },
    {
     "name": "stderr",
     "output_type": "stream",
     "text": [
      "[main]\tINFO\tprofile include tests: None\n",
      "[main]\tINFO\tprofile exclude tests: None\n",
      "[main]\tINFO\tcli include tests: None\n",
      "[main]\tINFO\tcli exclude tests: None\n",
      "[json]\tINFO\tJSON output written to file: /home/lyvd/bad-snakes/results/bandit4mal/malicious/rstseuqe.json\n",
      "\r",
      " 80%|███████████████████████████████████████████████████████████████████████████████████████████████████████████████████████████████████████████████████████████████                                       | 135/168 [03:16<01:31,  2.77s/it]"
     ]
    },
    {
     "name": "stdout",
     "output_type": "stream",
     "text": [
      "Sagepay\n"
     ]
    },
    {
     "name": "stderr",
     "output_type": "stream",
     "text": [
      "[main]\tINFO\tprofile include tests: None\n",
      "[main]\tINFO\tprofile exclude tests: None\n",
      "[main]\tINFO\tcli include tests: None\n",
      "[main]\tINFO\tcli exclude tests: None\n",
      "[json]\tINFO\tJSON output written to file: /home/lyvd/bad-snakes/results/bandit4mal/malicious/Sagepay.json\n",
      "\r",
      " 81%|████████████████████████████████████████████████████████████████████████████████████████████████████████████████████████████████████████████████████████████████▎                                     | 136/168 [03:17<01:06,  2.08s/it]"
     ]
    },
    {
     "name": "stdout",
     "output_type": "stream",
     "text": [
      "sdk-cli-v2\n"
     ]
    },
    {
     "name": "stderr",
     "output_type": "stream",
     "text": [
      "[main]\tINFO\tprofile include tests: None\n",
      "[main]\tINFO\tprofile exclude tests: None\n",
      "[main]\tINFO\tcli include tests: None\n",
      "[main]\tINFO\tcli exclude tests: None\n",
      "[json]\tINFO\tJSON output written to file: /home/lyvd/bad-snakes/results/bandit4mal/malicious/sdk-cli-v2.json\n",
      "\r",
      " 82%|█████████████████████████████████████████████████████████████████████████████████████████████████████████████████████████████████████████████████████████████████▍                                    | 137/168 [03:17<00:52,  1.68s/it]"
     ]
    },
    {
     "name": "stdout",
     "output_type": "stream",
     "text": [
      "sdk-cli-v2-public\n"
     ]
    },
    {
     "name": "stderr",
     "output_type": "stream",
     "text": [
      "[main]\tINFO\tprofile include tests: None\n",
      "[main]\tINFO\tprofile exclude tests: None\n",
      "[main]\tINFO\tcli include tests: None\n",
      "[main]\tINFO\tcli exclude tests: None\n",
      "[json]\tINFO\tJSON output written to file: /home/lyvd/bad-snakes/results/bandit4mal/malicious/sdk-cli-v2-public.json\n",
      "\r",
      " 82%|██████████████████████████████████████████████████████████████████████████████████████████████████████████████████████████████████████████████████████████████████▋                                   | 138/168 [03:18<00:39,  1.33s/it]"
     ]
    },
    {
     "name": "stdout",
     "output_type": "stream",
     "text": [
      "secbg\n"
     ]
    },
    {
     "name": "stderr",
     "output_type": "stream",
     "text": [
      "[main]\tINFO\tprofile include tests: None\n",
      "[main]\tINFO\tprofile exclude tests: None\n",
      "[main]\tINFO\tcli include tests: None\n",
      "[main]\tINFO\tcli exclude tests: None\n",
      "[json]\tINFO\tJSON output written to file: /home/lyvd/bad-snakes/results/bandit4mal/malicious/secbg.json\n",
      "\r",
      " 83%|███████████████████████████████████████████████████████████████████████████████████████████████████████████████████████████████████████████████████████████████████▊                                  | 139/168 [03:18<00:32,  1.11s/it]"
     ]
    },
    {
     "name": "stdout",
     "output_type": "stream",
     "text": [
      "secrevthree\n"
     ]
    },
    {
     "name": "stderr",
     "output_type": "stream",
     "text": [
      "[main]\tINFO\tprofile include tests: None\n",
      "[main]\tINFO\tprofile exclude tests: None\n",
      "[main]\tINFO\tcli include tests: None\n",
      "[main]\tINFO\tcli exclude tests: None\n",
      "[json]\tINFO\tJSON output written to file: /home/lyvd/bad-snakes/results/bandit4mal/malicious/secrevthree.json\n",
      "\r",
      " 83%|█████████████████████████████████████████████████████████████████████████████████████████████████████████████████████████████████████████████████████████████████████                                 | 140/168 [03:19<00:28,  1.03s/it]"
     ]
    },
    {
     "name": "stdout",
     "output_type": "stream",
     "text": [
      "secrevtwo\n"
     ]
    },
    {
     "name": "stderr",
     "output_type": "stream",
     "text": [
      "[main]\tINFO\tprofile include tests: None\n",
      "[main]\tINFO\tprofile exclude tests: None\n",
      "[main]\tINFO\tcli include tests: None\n",
      "[main]\tINFO\tcli exclude tests: None\n",
      "[json]\tINFO\tJSON output written to file: /home/lyvd/bad-snakes/results/bandit4mal/malicious/secrevtwo.json\n",
      "\r",
      " 84%|██████████████████████████████████████████████████████████████████████████████████████████████████████████████████████████████████████████████████████████████████████▏                               | 141/168 [03:20<00:28,  1.07s/it]"
     ]
    },
    {
     "name": "stdout",
     "output_type": "stream",
     "text": [
      "selemium\n"
     ]
    },
    {
     "name": "stderr",
     "output_type": "stream",
     "text": [
      "[main]\tINFO\tprofile include tests: None\n",
      "[main]\tINFO\tprofile exclude tests: None\n",
      "[main]\tINFO\tcli include tests: None\n",
      "[main]\tINFO\tcli exclude tests: None\n",
      "[json]\tINFO\tJSON output written to file: /home/lyvd/bad-snakes/results/bandit4mal/malicious/selemium.json\n",
      "\r",
      " 85%|███████████████████████████████████████████████████████████████████████████████████████████████████████████████████████████████████████████████████████████████████████▎                              | 142/168 [03:21<00:26,  1.02s/it]"
     ]
    },
    {
     "name": "stdout",
     "output_type": "stream",
     "text": [
      "setup-tools\n"
     ]
    },
    {
     "name": "stderr",
     "output_type": "stream",
     "text": [
      "[main]\tINFO\tprofile include tests: None\n",
      "[main]\tINFO\tprofile exclude tests: None\n",
      "[main]\tINFO\tcli include tests: None\n",
      "[main]\tINFO\tcli exclude tests: None\n",
      "101 [0.. 50.. 100.. ]\n",
      "[json]\tINFO\tJSON output written to file: /home/lyvd/bad-snakes/results/bandit4mal/malicious/setup-tools.json\n",
      " 85%|████████████████████████████████████████████████████████████████████████████████████████████████████████████████████████████████████████████████████████████████████████▌                             | 143/168 [03:39<02:27,  5.92s/it]"
     ]
    },
    {
     "name": "stdout",
     "output_type": "stream",
     "text": [
      "setuptool\n"
     ]
    },
    {
     "name": "stderr",
     "output_type": "stream",
     "text": [
      "[main]\tINFO\tprofile include tests: None\n",
      "[main]\tINFO\tprofile exclude tests: None\n",
      "[main]\tINFO\tcli include tests: None\n",
      "[main]\tINFO\tcli exclude tests: None\n",
      "[json]\tINFO\tJSON output written to file: /home/lyvd/bad-snakes/results/bandit4mal/malicious/setuptool.json\n",
      "\r",
      " 86%|█████████████████████████████████████████████████████████████████████████████████████████████████████████████████████████████████████████████████████████████████████████▋                            | 144/168 [03:39<01:44,  4.34s/it]"
     ]
    },
    {
     "name": "stdout",
     "output_type": "stream",
     "text": [
      "skale-allocator-cli\n"
     ]
    },
    {
     "name": "stderr",
     "output_type": "stream",
     "text": [
      "[main]\tINFO\tprofile include tests: None\n",
      "[main]\tINFO\tprofile exclude tests: None\n",
      "[main]\tINFO\tcli include tests: None\n",
      "[main]\tINFO\tcli exclude tests: None\n",
      "[json]\tINFO\tJSON output written to file: /home/lyvd/bad-snakes/results/bandit4mal/malicious/skale-allocator-cli.json\n",
      "\r",
      " 86%|██████████████████████████████████████████████████████████████████████████████████████████████████████████████████████████████████████████████████████████████████████████▉                           | 145/168 [03:40<01:12,  3.17s/it]"
     ]
    },
    {
     "name": "stdout",
     "output_type": "stream",
     "text": [
      "skd64\n"
     ]
    },
    {
     "name": "stderr",
     "output_type": "stream",
     "text": [
      "[main]\tINFO\tprofile include tests: None\n",
      "[main]\tINFO\tprofile exclude tests: None\n",
      "[main]\tINFO\tcli include tests: None\n",
      "[main]\tINFO\tcli exclude tests: None\n",
      "[json]\tINFO\tJSON output written to file: /home/lyvd/bad-snakes/results/bandit4mal/malicious/skd64.json\n",
      "\r",
      " 87%|████████████████████████████████████████████████████████████████████████████████████████████████████████████████████████████████████████████████████████████████████████████                          | 146/168 [03:40<00:51,  2.36s/it]"
     ]
    },
    {
     "name": "stdout",
     "output_type": "stream",
     "text": [
      "smb\n"
     ]
    },
    {
     "name": "stderr",
     "output_type": "stream",
     "text": [
      "[main]\tINFO\tprofile include tests: None\n",
      "[main]\tINFO\tprofile exclude tests: None\n",
      "[main]\tINFO\tcli include tests: None\n",
      "[main]\tINFO\tcli exclude tests: None\n",
      "[json]\tINFO\tJSON output written to file: /home/lyvd/bad-snakes/results/bandit4mal/malicious/smb.json\n",
      "\r",
      " 88%|█████████████████████████████████████████████████████████████████████████████████████████████████████████████████████████████████████████████████████████████████████████████▎                        | 147/168 [03:41<00:38,  1.83s/it]"
     ]
    },
    {
     "name": "stdout",
     "output_type": "stream",
     "text": [
      "smplejson\n"
     ]
    },
    {
     "name": "stderr",
     "output_type": "stream",
     "text": [
      "[main]\tINFO\tprofile include tests: None\n",
      "[main]\tINFO\tprofile exclude tests: None\n",
      "[main]\tINFO\tcli include tests: None\n",
      "[main]\tINFO\tcli exclude tests: None\n",
      "[json]\tINFO\tJSON output written to file: /home/lyvd/bad-snakes/results/bandit4mal/malicious/smplejson.json\n",
      "\r",
      " 88%|██████████████████████████████████████████████████████████████████████████████████████████████████████████████████████████████████████████████████████████████████████████████▍                       | 148/168 [03:41<00:28,  1.43s/it]"
     ]
    },
    {
     "name": "stdout",
     "output_type": "stream",
     "text": [
      "ssh-decorate\n"
     ]
    },
    {
     "name": "stderr",
     "output_type": "stream",
     "text": [
      "[main]\tINFO\tprofile include tests: None\n",
      "[main]\tINFO\tprofile exclude tests: None\n",
      "[main]\tINFO\tcli include tests: None\n",
      "[main]\tINFO\tcli exclude tests: None\n",
      "[json]\tINFO\tJSON output written to file: /home/lyvd/bad-snakes/results/bandit4mal/malicious/ssh-decorate.json\n",
      "\r",
      " 89%|███████████████████████████████████████████████████████████████████████████████████████████████████████████████████████████████████████████████████████████████████████████████▌                      | 149/168 [03:42<00:22,  1.19s/it]"
     ]
    },
    {
     "name": "stdout",
     "output_type": "stream",
     "text": [
      "suffer\n"
     ]
    },
    {
     "name": "stderr",
     "output_type": "stream",
     "text": [
      "[main]\tINFO\tprofile include tests: None\n",
      "[main]\tINFO\tprofile exclude tests: None\n",
      "[main]\tINFO\tcli include tests: None\n",
      "[main]\tINFO\tcli exclude tests: None\n",
      "[json]\tINFO\tJSON output written to file: /home/lyvd/bad-snakes/results/bandit4mal/malicious/suffer.json\n",
      "\r",
      " 89%|████████████████████████████████████████████████████████████████████████████████████████████████████████████████████████████████████████████████████████████████████████████████▊                     | 150/168 [03:43<00:20,  1.16s/it]"
     ]
    },
    {
     "name": "stdout",
     "output_type": "stream",
     "text": [
      "testing_pip_confusion\n"
     ]
    },
    {
     "name": "stderr",
     "output_type": "stream",
     "text": [
      "[main]\tINFO\tprofile include tests: None\n",
      "[main]\tINFO\tprofile exclude tests: None\n",
      "[main]\tINFO\tcli include tests: None\n",
      "[main]\tINFO\tcli exclude tests: None\n",
      "[json]\tINFO\tJSON output written to file: /home/lyvd/bad-snakes/results/bandit4mal/malicious/testing_pip_confusion.json\n",
      "\r",
      " 90%|█████████████████████████████████████████████████████████████████████████████████████████████████████████████████████████████████████████████████████████████████████████████████▉                    | 151/168 [03:44<00:18,  1.09s/it]"
     ]
    },
    {
     "name": "stdout",
     "output_type": "stream",
     "text": [
      "timeit\n"
     ]
    },
    {
     "name": "stderr",
     "output_type": "stream",
     "text": [
      "[main]\tINFO\tprofile include tests: None\n",
      "[main]\tINFO\tprofile exclude tests: None\n",
      "[main]\tINFO\tcli include tests: None\n",
      "[main]\tINFO\tcli exclude tests: None\n",
      "[json]\tINFO\tJSON output written to file: /home/lyvd/bad-snakes/results/bandit4mal/malicious/timeit.json\n",
      "\r",
      " 90%|███████████████████████████████████████████████████████████████████████████████████████████████████████████████████████████████████████████████████████████████████████████████████▏                  | 152/168 [03:44<00:14,  1.10it/s]"
     ]
    },
    {
     "name": "stdout",
     "output_type": "stream",
     "text": [
      "tkinter-message-box\n"
     ]
    },
    {
     "name": "stderr",
     "output_type": "stream",
     "text": [
      "[main]\tINFO\tprofile include tests: None\n",
      "[main]\tINFO\tprofile exclude tests: None\n",
      "[main]\tINFO\tcli include tests: None\n",
      "[main]\tINFO\tcli exclude tests: None\n",
      "[json]\tINFO\tJSON output written to file: /home/lyvd/bad-snakes/results/bandit4mal/malicious/tkinter-message-box.json\n",
      "\r",
      " 91%|████████████████████████████████████████████████████████████████████████████████████████████████████████████████████████████████████████████████████████████████████████████████████▎                 | 153/168 [03:45<00:11,  1.29it/s]"
     ]
    },
    {
     "name": "stdout",
     "output_type": "stream",
     "text": [
      "trrfab\n"
     ]
    },
    {
     "name": "stderr",
     "output_type": "stream",
     "text": [
      "[main]\tINFO\tprofile include tests: None\n",
      "[main]\tINFO\tprofile exclude tests: None\n",
      "[main]\tINFO\tcli include tests: None\n",
      "[main]\tINFO\tcli exclude tests: None\n",
      "[json]\tINFO\tJSON output written to file: /home/lyvd/bad-snakes/results/bandit4mal/malicious/trrfab.json\n",
      "\r",
      " 92%|█████████████████████████████████████████████████████████████████████████████████████████████████████████████████████████████████████████████████████████████████████████████████████▌                | 154/168 [03:45<00:09,  1.46it/s]"
     ]
    },
    {
     "name": "stdout",
     "output_type": "stream",
     "text": [
      "trustpiphuh\n"
     ]
    },
    {
     "name": "stderr",
     "output_type": "stream",
     "text": [
      "[main]\tINFO\tprofile include tests: None\n",
      "[main]\tINFO\tprofile exclude tests: None\n",
      "[main]\tINFO\tcli include tests: None\n",
      "[main]\tINFO\tcli exclude tests: None\n",
      "[json]\tINFO\tJSON output written to file: /home/lyvd/bad-snakes/results/bandit4mal/malicious/trustpiphuh.json\n",
      "\r",
      " 92%|██████████████████████████████████████████████████████████████████████████████████████████████████████████████████████████████████████████████████████████████████████████████████████▋               | 155/168 [03:46<00:07,  1.68it/s]"
     ]
    },
    {
     "name": "stdout",
     "output_type": "stream",
     "text": [
      "trustpiphuh1\n"
     ]
    },
    {
     "name": "stderr",
     "output_type": "stream",
     "text": [
      "[main]\tINFO\tprofile include tests: None\n",
      "[main]\tINFO\tprofile exclude tests: None\n",
      "[main]\tINFO\tcli include tests: None\n",
      "[main]\tINFO\tcli exclude tests: None\n",
      "[json]\tINFO\tJSON output written to file: /home/lyvd/bad-snakes/results/bandit4mal/malicious/trustpiphuh1.json\n",
      "\r",
      " 93%|███████████████████████████████████████████████████████████████████████████████████████████████████████████████████████████████████████████████████████████████████████████████████████▊              | 156/168 [03:46<00:06,  1.76it/s]"
     ]
    },
    {
     "name": "stdout",
     "output_type": "stream",
     "text": [
      "trustypip\n"
     ]
    },
    {
     "name": "stderr",
     "output_type": "stream",
     "text": [
      "[main]\tINFO\tprofile include tests: None\n",
      "[main]\tINFO\tprofile exclude tests: None\n",
      "[main]\tINFO\tcli include tests: None\n",
      "[main]\tINFO\tcli exclude tests: None\n",
      "[json]\tINFO\tJSON output written to file: /home/lyvd/bad-snakes/results/bandit4mal/malicious/trustypip.json\n",
      "\r",
      " 93%|█████████████████████████████████████████████████████████████████████████████████████████████████████████████████████████████████████████████████████████████████████████████████████████             | 157/168 [03:47<00:05,  1.90it/s]"
     ]
    },
    {
     "name": "stdout",
     "output_type": "stream",
     "text": [
      "urlib3\n"
     ]
    },
    {
     "name": "stderr",
     "output_type": "stream",
     "text": [
      "[main]\tINFO\tprofile include tests: None\n",
      "[main]\tINFO\tprofile exclude tests: None\n",
      "[main]\tINFO\tcli include tests: None\n",
      "[main]\tINFO\tcli exclude tests: None\n",
      "61 [0.. 50.. ]\n",
      "[json]\tINFO\tJSON output written to file: /home/lyvd/bad-snakes/results/bandit4mal/malicious/urlib3.json\n",
      " 94%|██████████████████████████████████████████████████████████████████████████████████████████████████████████████████████████████████████████████████████████████████████████████████████████▏           | 158/168 [03:53<00:24,  2.41s/it]"
     ]
    },
    {
     "name": "stdout",
     "output_type": "stream",
     "text": [
      "urllib\n"
     ]
    },
    {
     "name": "stderr",
     "output_type": "stream",
     "text": [
      "[main]\tINFO\tprofile include tests: None\n",
      "[main]\tINFO\tprofile exclude tests: None\n",
      "[main]\tINFO\tcli include tests: None\n",
      "[main]\tINFO\tcli exclude tests: None\n",
      "61 [0.. 50.. ]\n",
      "[json]\tINFO\tJSON output written to file: /home/lyvd/bad-snakes/results/bandit4mal/malicious/urllib.json\n",
      " 95%|███████████████████████████████████████████████████████████████████████████████████████████████████████████████████████████████████████████████████████████████████████████████████████████▍          | 159/168 [04:03<00:39,  4.43s/it]"
     ]
    },
    {
     "name": "stdout",
     "output_type": "stream",
     "text": [
      "virtualnv\n"
     ]
    },
    {
     "name": "stderr",
     "output_type": "stream",
     "text": [
      "[main]\tINFO\tprofile include tests: None\n",
      "[main]\tINFO\tprofile exclude tests: None\n",
      "[main]\tINFO\tcli include tests: None\n",
      "[main]\tINFO\tcli exclude tests: None\n",
      "[json]\tINFO\tJSON output written to file: /home/lyvd/bad-snakes/results/bandit4mal/malicious/virtualnv.json\n",
      "\r",
      " 95%|████████████████████████████████████████████████████████████████████████████████████████████████████████████████████████████████████████████████████████████████████████████████████████████▌         | 160/168 [04:03<00:26,  3.28s/it]"
     ]
    },
    {
     "name": "stdout",
     "output_type": "stream",
     "text": [
      "xcryptography\n"
     ]
    },
    {
     "name": "stderr",
     "output_type": "stream",
     "text": [
      "[main]\tINFO\tprofile include tests: None\n",
      "[main]\tINFO\tprofile exclude tests: None\n",
      "[main]\tINFO\tcli include tests: None\n",
      "[main]\tINFO\tcli exclude tests: None\n",
      "[json]\tINFO\tJSON output written to file: /home/lyvd/bad-snakes/results/bandit4mal/malicious/xcryptography.json\n",
      "\r",
      " 96%|█████████████████████████████████████████████████████████████████████████████████████████████████████████████████████████████████████████████████████████████████████████████████████████████▊        | 161/168 [04:04<00:17,  2.50s/it]"
     ]
    },
    {
     "name": "stdout",
     "output_type": "stream",
     "text": [
      "xgoogle_cloud_core\n"
     ]
    },
    {
     "name": "stderr",
     "output_type": "stream",
     "text": [
      "[main]\tINFO\tprofile include tests: None\n",
      "[main]\tINFO\tprofile exclude tests: None\n",
      "[main]\tINFO\tcli include tests: None\n",
      "[main]\tINFO\tcli exclude tests: None\n",
      "[json]\tINFO\tJSON output written to file: /home/lyvd/bad-snakes/results/bandit4mal/malicious/xgoogle_cloud_core.json\n",
      "\r",
      " 96%|██████████████████████████████████████████████████████████████████████████████████████████████████████████████████████████████████████████████████████████████████████████████████████████████▉       | 162/168 [04:05<00:11,  1.95s/it]"
     ]
    },
    {
     "name": "stdout",
     "output_type": "stream",
     "text": [
      "xgoogle_cloud_storage\n"
     ]
    },
    {
     "name": "stderr",
     "output_type": "stream",
     "text": [
      "[main]\tINFO\tprofile include tests: None\n",
      "[main]\tINFO\tprofile exclude tests: None\n",
      "[main]\tINFO\tcli include tests: None\n",
      "[main]\tINFO\tcli exclude tests: None\n",
      "[json]\tINFO\tJSON output written to file: /home/lyvd/bad-snakes/results/bandit4mal/malicious/xgoogle_cloud_storage.json\n",
      "\r",
      " 97%|████████████████████████████████████████████████████████████████████████████████████████████████████████████████████████████████████████████████████████████████████████████████████████████████      | 163/168 [04:05<00:07,  1.55s/it]"
     ]
    },
    {
     "name": "stdout",
     "output_type": "stream",
     "text": [
      "xpip\n"
     ]
    },
    {
     "name": "stderr",
     "output_type": "stream",
     "text": [
      "[main]\tINFO\tprofile include tests: None\n",
      "[main]\tINFO\tprofile exclude tests: None\n",
      "[main]\tINFO\tcli include tests: None\n",
      "[main]\tINFO\tcli exclude tests: None\n",
      "[json]\tINFO\tJSON output written to file: /home/lyvd/bad-snakes/results/bandit4mal/malicious/xpip.json\n",
      "\r",
      " 98%|█████████████████████████████████████████████████████████████████████████████████████████████████████████████████████████████████████████████████████████████████████████████████████████████████▎    | 164/168 [04:06<00:05,  1.26s/it]"
     ]
    },
    {
     "name": "stdout",
     "output_type": "stream",
     "text": [
      "xsetuptools\n"
     ]
    },
    {
     "name": "stderr",
     "output_type": "stream",
     "text": [
      "[main]\tINFO\tprofile include tests: None\n",
      "[main]\tINFO\tprofile exclude tests: None\n",
      "[main]\tINFO\tcli include tests: None\n",
      "[main]\tINFO\tcli exclude tests: None\n",
      "[json]\tINFO\tJSON output written to file: /home/lyvd/bad-snakes/results/bandit4mal/malicious/xsetuptools.json\n",
      "\r",
      " 98%|██████████████████████████████████████████████████████████████████████████████████████████████████████████████████████████████████████████████████████████████████████████████████████████████████▍   | 165/168 [04:06<00:03,  1.09s/it]"
     ]
    },
    {
     "name": "stdout",
     "output_type": "stream",
     "text": [
      "xss\n"
     ]
    },
    {
     "name": "stderr",
     "output_type": "stream",
     "text": [
      "[main]\tINFO\tprofile include tests: None\n",
      "[main]\tINFO\tprofile exclude tests: None\n",
      "[main]\tINFO\tcli include tests: None\n",
      "[main]\tINFO\tcli exclude tests: None\n",
      "[json]\tINFO\tJSON output written to file: /home/lyvd/bad-snakes/results/bandit4mal/malicious/xss.json\n",
      "\r",
      " 99%|███████████████████████████████████████████████████████████████████████████████████████████████████████████████████████████████████████████████████████████████████████████████████████████████████▋  | 166/168 [04:07<00:01,  1.08it/s]"
     ]
    },
    {
     "name": "stdout",
     "output_type": "stream",
     "text": [
      "yandex-yt\n"
     ]
    },
    {
     "name": "stderr",
     "output_type": "stream",
     "text": [
      "[main]\tINFO\tprofile include tests: None\n",
      "[main]\tINFO\tprofile exclude tests: None\n",
      "[main]\tINFO\tcli include tests: None\n",
      "[main]\tINFO\tcli exclude tests: None\n",
      "[json]\tINFO\tJSON output written to file: /home/lyvd/bad-snakes/results/bandit4mal/malicious/yandex-yt.json\n",
      "\r",
      " 99%|████████████████████████████████████████████████████████████████████████████████████████████████████████████████████████████████████████████████████████████████████████████████████████████████████▊ | 167/168 [04:08<00:00,  1.12it/s]"
     ]
    },
    {
     "name": "stdout",
     "output_type": "stream",
     "text": [
      "yiffparty\n"
     ]
    },
    {
     "name": "stderr",
     "output_type": "stream",
     "text": [
      "[main]\tINFO\tprofile include tests: None\n",
      "[main]\tINFO\tprofile exclude tests: None\n",
      "[main]\tINFO\tcli include tests: None\n",
      "[main]\tINFO\tcli exclude tests: None\n",
      "[json]\tINFO\tJSON output written to file: /home/lyvd/bad-snakes/results/bandit4mal/malicious/yiffparty.json\n",
      "100%|██████████████████████████████████████████████████████████████████████████████████████████████████████████████████████████████████████████████████████████████████████████████████████████████████████| 168/168 [04:09<00:00,  1.49s/it]\n"
     ]
    }
   ],
   "source": [
    "malicious_packages_running_time = scanning_packages(malicious_packages_path, malicious_results_dir)"
   ]
  },
  {
   "cell_type": "code",
   "execution_count": null,
   "id": "45e3ec39",
   "metadata": {},
   "outputs": [],
   "source": [
    "malicious_packages_running_time_df = pd.DataFrame(list(malicious_packages_running_time.items()), columns=['package', 'running_time'])\n",
    "malicious_packages_running_time_df[\"running_time\"].describe()"
   ]
  },
  {
   "cell_type": "code",
   "execution_count": null,
   "id": "15aa353f",
   "metadata": {},
   "outputs": [],
   "source": [
    "malicious_packages_running_time_df.to_csv(\"../results/running_times/bandit4mal/malicious-packages.csv\")"
   ]
  },
  {
   "cell_type": "code",
   "execution_count": null,
   "id": "f61f51e0",
   "metadata": {},
   "outputs": [],
   "source": [
    "scan_releases(malicious_packages_path, malicious_results_dir)"
   ]
  },
  {
   "cell_type": "code",
   "execution_count": null,
   "id": "a4b87db5",
   "metadata": {},
   "outputs": [],
   "source": [
    "malicious_results_path = os.path.abspath(\"../results/bandit4mal/malicious/\")\n",
    "malicious_results = analyze_results(malicious_results_path)"
   ]
  },
  {
   "cell_type": "markdown",
   "id": "7851fb6d",
   "metadata": {},
   "source": [
    "### Triggered rules in all Python files in malicious packages"
   ]
  },
  {
   "cell_type": "code",
   "execution_count": null,
   "id": "5908ed67",
   "metadata": {},
   "outputs": [],
   "source": [
    "malicious_results_df = pd.DataFrame(malicious_results, columns=[\"package\", \"target\", \"rule\"])"
   ]
  },
  {
   "cell_type": "code",
   "execution_count": null,
   "id": "12a59580",
   "metadata": {},
   "outputs": [],
   "source": [
    "# Number of rules per package\n",
    "malicious_packages_rules_groupby = malicious_results_df.groupby('package')['rule']\n",
    "print(f\"Total number of rules: {malicious_packages_rules_groupby.count().sum()}\")\n",
    "malicious_packages_rules_groupby.count().describe()"
   ]
  },
  {
   "cell_type": "markdown",
   "id": "2572ff19",
   "metadata": {},
   "source": [
    "### Triggered rules in all setup.py files in malicious packages"
   ]
  },
  {
   "cell_type": "code",
   "execution_count": null,
   "id": "1e1c9298",
   "metadata": {},
   "outputs": [],
   "source": [
    "malicious_packages_rules_setup_df = malicious_results_df[malicious_results_df['target'].str.contains('setup.py')]"
   ]
  },
  {
   "cell_type": "code",
   "execution_count": null,
   "id": "213c2254",
   "metadata": {},
   "outputs": [],
   "source": [
    "# Number of rules per package\n",
    "malicious_packages_rules_setup_groupby = malicious_packages_rules_setup_df.groupby('package')['rule']\n",
    "print(f\"Total number of rules: {malicious_packages_rules_setup_groupby.count().sum()}\")\n",
    "malicious_packages_rules_setup_groupby.count().describe()"
   ]
  },
  {
   "cell_type": "code",
   "execution_count": null,
   "id": "ee5c5aed",
   "metadata": {},
   "outputs": [],
   "source": [
    "# Saving the existing result\n",
    "with open(os.path.abspath(\"../results/malicious_packages_scanning_results_bandit4mal.pkl\"), 'wb') as fp:\n",
    "    pickle.dump(malicious_results, fp, protocol=pickle.HIGHEST_PROTOCOL)"
   ]
  },
  {
   "cell_type": "markdown",
   "id": "78dcb138",
   "metadata": {},
   "source": [
    "## Popular packages"
   ]
  },
  {
   "cell_type": "code",
   "execution_count": 7,
   "id": "94316041",
   "metadata": {},
   "outputs": [],
   "source": [
    "# Paths to popular packages and the results dir\n",
    "popular_packages_path = os.path.abspath(\"../dataset/popular-packages/\")\n",
    "popular_results_dir = os.path.abspath(\"../results/bandit4mal/popular/\")"
   ]
  },
  {
   "cell_type": "code",
   "execution_count": null,
   "id": "4f5db8d7",
   "metadata": {},
   "outputs": [],
   "source": [
    "# Scanning popular packages\n",
    "scan_releases(popular_packages_path, popular_results_dir)"
   ]
  },
  {
   "cell_type": "code",
   "execution_count": 38,
   "id": "7312cdac",
   "metadata": {},
   "outputs": [
    {
     "name": "stderr",
     "output_type": "stream",
     "text": [
      "\r",
      "  0%|                                                                                                                                                                                                               | 0/1430 [00:00<?, ?it/s]"
     ]
    },
    {
     "name": "stdout",
     "output_type": "stream",
     "text": [
      "phonenumbers\n"
     ]
    },
    {
     "name": "stderr",
     "output_type": "stream",
     "text": [
      "[main]\tINFO\tprofile include tests: None\n",
      "[main]\tINFO\tprofile exclude tests: None\n",
      "[main]\tINFO\tcli include tests: None\n",
      "[main]\tINFO\tcli exclude tests: None\n",
      " 61%|█████████████████████████████████████████████████████████████████████████████████████████████████████████████████████▏                                                                           | 868/1430 [1:50:32<1:11:34,  7.64s/it]\n"
     ]
    },
    {
     "ename": "KeyboardInterrupt",
     "evalue": "",
     "output_type": "error",
     "traceback": [
      "\u001b[0;31m---------------------------------------------------------------------------\u001b[0m",
      "\u001b[0;31mKeyboardInterrupt\u001b[0m                         Traceback (most recent call last)",
      "Input \u001b[0;32mIn [38]\u001b[0m, in \u001b[0;36m<cell line: 1>\u001b[0;34m()\u001b[0m\n\u001b[0;32m----> 1\u001b[0m popular_packages_running_time \u001b[38;5;241m=\u001b[39m \u001b[43mcalculate_running_times_popular\u001b[49m\u001b[43m(\u001b[49m\u001b[43mpopular_packages_path\u001b[49m\u001b[43m,\u001b[49m\u001b[43m \u001b[49m\u001b[43mpopular_results_dir\u001b[49m\u001b[43m)\u001b[49m\n",
      "Input \u001b[0;32mIn [35]\u001b[0m, in \u001b[0;36mcalculate_running_times_popular\u001b[0;34m(package_releases_path, results_dir)\u001b[0m\n\u001b[1;32m     12\u001b[0m             shutil\u001b[38;5;241m.\u001b[39mcopy2(file_path, temp_dir)\n\u001b[1;32m     13\u001b[0m start_time \u001b[38;5;241m=\u001b[39m time\u001b[38;5;241m.\u001b[39mtime()\n\u001b[0;32m---> 14\u001b[0m \u001b[43msubprocess\u001b[49m\u001b[38;5;241;43m.\u001b[39;49m\u001b[43mrun\u001b[49m\u001b[43m(\u001b[49m\u001b[43m[\u001b[49m\u001b[38;5;124;43m\"\u001b[39;49m\u001b[38;5;124;43mbandit\u001b[39;49m\u001b[38;5;124;43m\"\u001b[39;49m\u001b[43m,\u001b[49m\u001b[43m \u001b[49m\u001b[38;5;124;43m\"\u001b[39;49m\u001b[38;5;124;43m-r\u001b[39;49m\u001b[38;5;124;43m\"\u001b[39;49m\u001b[43m,\u001b[49m\u001b[43m \u001b[49m\u001b[43mtemp_dir\u001b[49m\u001b[43m,\u001b[49m\u001b[43m  \u001b[49m\u001b[38;5;124;43m\"\u001b[39;49m\u001b[38;5;124;43m-f\u001b[39;49m\u001b[38;5;124;43m\"\u001b[39;49m\u001b[43m,\u001b[49m\u001b[43m \u001b[49m\u001b[38;5;124;43m\"\u001b[39;49m\u001b[38;5;124;43mjson\u001b[39;49m\u001b[38;5;124;43m\"\u001b[39;49m\u001b[43m,\u001b[49m\u001b[43m \u001b[49m\u001b[38;5;124;43m\"\u001b[39;49m\u001b[38;5;124;43m-o\u001b[39;49m\u001b[38;5;124;43m\"\u001b[39;49m\u001b[43m,\u001b[49m\u001b[43m \u001b[49m\u001b[38;5;124;43mf\u001b[39;49m\u001b[38;5;124;43m\"\u001b[39;49m\u001b[38;5;132;43;01m{\u001b[39;49;00m\u001b[43mos\u001b[49m\u001b[38;5;241;43m.\u001b[39;49m\u001b[43mpath\u001b[49m\u001b[38;5;241;43m.\u001b[39;49m\u001b[43mjoin\u001b[49m\u001b[43m(\u001b[49m\u001b[43mresults_dir\u001b[49m\u001b[43m,\u001b[49m\u001b[43m \u001b[49m\u001b[43mpackage_name\u001b[49m\u001b[43m)\u001b[49m\u001b[38;5;132;43;01m}\u001b[39;49;00m\u001b[38;5;124;43m.json\u001b[39;49m\u001b[38;5;124;43m\"\u001b[39;49m\u001b[43m]\u001b[49m\u001b[43m)\u001b[49m\n\u001b[1;32m     16\u001b[0m popular_packages_running_times[package_name] \u001b[38;5;241m=\u001b[39m time\u001b[38;5;241m.\u001b[39mtime() \u001b[38;5;241m-\u001b[39m start_time\n",
      "File \u001b[0;32m/usr/lib/python3.8/subprocess.py:495\u001b[0m, in \u001b[0;36mrun\u001b[0;34m(input, capture_output, timeout, check, *popenargs, **kwargs)\u001b[0m\n\u001b[1;32m    493\u001b[0m \u001b[38;5;28;01mwith\u001b[39;00m Popen(\u001b[38;5;241m*\u001b[39mpopenargs, \u001b[38;5;241m*\u001b[39m\u001b[38;5;241m*\u001b[39mkwargs) \u001b[38;5;28;01mas\u001b[39;00m process:\n\u001b[1;32m    494\u001b[0m     \u001b[38;5;28;01mtry\u001b[39;00m:\n\u001b[0;32m--> 495\u001b[0m         stdout, stderr \u001b[38;5;241m=\u001b[39m \u001b[43mprocess\u001b[49m\u001b[38;5;241;43m.\u001b[39;49m\u001b[43mcommunicate\u001b[49m\u001b[43m(\u001b[49m\u001b[38;5;28;43minput\u001b[39;49m\u001b[43m,\u001b[49m\u001b[43m \u001b[49m\u001b[43mtimeout\u001b[49m\u001b[38;5;241;43m=\u001b[39;49m\u001b[43mtimeout\u001b[49m\u001b[43m)\u001b[49m\n\u001b[1;32m    496\u001b[0m     \u001b[38;5;28;01mexcept\u001b[39;00m TimeoutExpired \u001b[38;5;28;01mas\u001b[39;00m exc:\n\u001b[1;32m    497\u001b[0m         process\u001b[38;5;241m.\u001b[39mkill()\n",
      "File \u001b[0;32m/usr/lib/python3.8/subprocess.py:1020\u001b[0m, in \u001b[0;36mPopen.communicate\u001b[0;34m(self, input, timeout)\u001b[0m\n\u001b[1;32m   1018\u001b[0m         stderr \u001b[38;5;241m=\u001b[39m \u001b[38;5;28mself\u001b[39m\u001b[38;5;241m.\u001b[39mstderr\u001b[38;5;241m.\u001b[39mread()\n\u001b[1;32m   1019\u001b[0m         \u001b[38;5;28mself\u001b[39m\u001b[38;5;241m.\u001b[39mstderr\u001b[38;5;241m.\u001b[39mclose()\n\u001b[0;32m-> 1020\u001b[0m     \u001b[38;5;28;43mself\u001b[39;49m\u001b[38;5;241;43m.\u001b[39;49m\u001b[43mwait\u001b[49m\u001b[43m(\u001b[49m\u001b[43m)\u001b[49m\n\u001b[1;32m   1021\u001b[0m \u001b[38;5;28;01melse\u001b[39;00m:\n\u001b[1;32m   1022\u001b[0m     \u001b[38;5;28;01mif\u001b[39;00m timeout \u001b[38;5;129;01mis\u001b[39;00m \u001b[38;5;129;01mnot\u001b[39;00m \u001b[38;5;28;01mNone\u001b[39;00m:\n",
      "File \u001b[0;32m/usr/lib/python3.8/subprocess.py:1083\u001b[0m, in \u001b[0;36mPopen.wait\u001b[0;34m(self, timeout)\u001b[0m\n\u001b[1;32m   1081\u001b[0m     endtime \u001b[38;5;241m=\u001b[39m _time() \u001b[38;5;241m+\u001b[39m timeout\n\u001b[1;32m   1082\u001b[0m \u001b[38;5;28;01mtry\u001b[39;00m:\n\u001b[0;32m-> 1083\u001b[0m     \u001b[38;5;28;01mreturn\u001b[39;00m \u001b[38;5;28;43mself\u001b[39;49m\u001b[38;5;241;43m.\u001b[39;49m\u001b[43m_wait\u001b[49m\u001b[43m(\u001b[49m\u001b[43mtimeout\u001b[49m\u001b[38;5;241;43m=\u001b[39;49m\u001b[43mtimeout\u001b[49m\u001b[43m)\u001b[49m\n\u001b[1;32m   1084\u001b[0m \u001b[38;5;28;01mexcept\u001b[39;00m \u001b[38;5;167;01mKeyboardInterrupt\u001b[39;00m:\n\u001b[1;32m   1085\u001b[0m     \u001b[38;5;66;03m# https://bugs.python.org/issue25942\u001b[39;00m\n\u001b[1;32m   1086\u001b[0m     \u001b[38;5;66;03m# The first keyboard interrupt waits briefly for the child to\u001b[39;00m\n\u001b[1;32m   1087\u001b[0m     \u001b[38;5;66;03m# exit under the common assumption that it also received the ^C\u001b[39;00m\n\u001b[1;32m   1088\u001b[0m     \u001b[38;5;66;03m# generated SIGINT and will exit rapidly.\u001b[39;00m\n\u001b[1;32m   1089\u001b[0m     \u001b[38;5;28;01mif\u001b[39;00m timeout \u001b[38;5;129;01mis\u001b[39;00m \u001b[38;5;129;01mnot\u001b[39;00m \u001b[38;5;28;01mNone\u001b[39;00m:\n",
      "File \u001b[0;32m/usr/lib/python3.8/subprocess.py:1806\u001b[0m, in \u001b[0;36mPopen._wait\u001b[0;34m(self, timeout)\u001b[0m\n\u001b[1;32m   1804\u001b[0m \u001b[38;5;28;01mif\u001b[39;00m \u001b[38;5;28mself\u001b[39m\u001b[38;5;241m.\u001b[39mreturncode \u001b[38;5;129;01mis\u001b[39;00m \u001b[38;5;129;01mnot\u001b[39;00m \u001b[38;5;28;01mNone\u001b[39;00m:\n\u001b[1;32m   1805\u001b[0m     \u001b[38;5;28;01mbreak\u001b[39;00m  \u001b[38;5;66;03m# Another thread waited.\u001b[39;00m\n\u001b[0;32m-> 1806\u001b[0m (pid, sts) \u001b[38;5;241m=\u001b[39m \u001b[38;5;28;43mself\u001b[39;49m\u001b[38;5;241;43m.\u001b[39;49m\u001b[43m_try_wait\u001b[49m\u001b[43m(\u001b[49m\u001b[38;5;241;43m0\u001b[39;49m\u001b[43m)\u001b[49m\n\u001b[1;32m   1807\u001b[0m \u001b[38;5;66;03m# Check the pid and loop as waitpid has been known to\u001b[39;00m\n\u001b[1;32m   1808\u001b[0m \u001b[38;5;66;03m# return 0 even without WNOHANG in odd situations.\u001b[39;00m\n\u001b[1;32m   1809\u001b[0m \u001b[38;5;66;03m# http://bugs.python.org/issue14396.\u001b[39;00m\n\u001b[1;32m   1810\u001b[0m \u001b[38;5;28;01mif\u001b[39;00m pid \u001b[38;5;241m==\u001b[39m \u001b[38;5;28mself\u001b[39m\u001b[38;5;241m.\u001b[39mpid:\n",
      "File \u001b[0;32m/usr/lib/python3.8/subprocess.py:1764\u001b[0m, in \u001b[0;36mPopen._try_wait\u001b[0;34m(self, wait_flags)\u001b[0m\n\u001b[1;32m   1762\u001b[0m \u001b[38;5;124;03m\"\"\"All callers to this function MUST hold self._waitpid_lock.\"\"\"\u001b[39;00m\n\u001b[1;32m   1763\u001b[0m \u001b[38;5;28;01mtry\u001b[39;00m:\n\u001b[0;32m-> 1764\u001b[0m     (pid, sts) \u001b[38;5;241m=\u001b[39m \u001b[43mos\u001b[49m\u001b[38;5;241;43m.\u001b[39;49m\u001b[43mwaitpid\u001b[49m\u001b[43m(\u001b[49m\u001b[38;5;28;43mself\u001b[39;49m\u001b[38;5;241;43m.\u001b[39;49m\u001b[43mpid\u001b[49m\u001b[43m,\u001b[49m\u001b[43m \u001b[49m\u001b[43mwait_flags\u001b[49m\u001b[43m)\u001b[49m\n\u001b[1;32m   1765\u001b[0m \u001b[38;5;28;01mexcept\u001b[39;00m \u001b[38;5;167;01mChildProcessError\u001b[39;00m:\n\u001b[1;32m   1766\u001b[0m     \u001b[38;5;66;03m# This happens if SIGCLD is set to be ignored or waiting\u001b[39;00m\n\u001b[1;32m   1767\u001b[0m     \u001b[38;5;66;03m# for child processes has otherwise been disabled for our\u001b[39;00m\n\u001b[1;32m   1768\u001b[0m     \u001b[38;5;66;03m# process.  This child is dead, we can't get the status.\u001b[39;00m\n\u001b[1;32m   1769\u001b[0m     pid \u001b[38;5;241m=\u001b[39m \u001b[38;5;28mself\u001b[39m\u001b[38;5;241m.\u001b[39mpid\n",
      "\u001b[0;31mKeyboardInterrupt\u001b[0m: "
     ]
    }
   ],
   "source": [
    "popular_packages_running_time = calculate_running_times_popular(popular_packages_path, popular_results_dir)"
   ]
  },
  {
   "cell_type": "code",
   "execution_count": 24,
   "id": "ae7c9e09",
   "metadata": {},
   "outputs": [],
   "source": [
    "popular_packages_running_times_df = pd.DataFrame(list(popular_packages_running_times.items()), columns=['package', 'running_time'])"
   ]
  },
  {
   "cell_type": "code",
   "execution_count": 25,
   "id": "3d84eb80",
   "metadata": {},
   "outputs": [],
   "source": [
    "popular_packages_running_times_df.to_csv(\"../results/running_times/bandit4mal/popular-packages.csv\")"
   ]
  },
  {
   "cell_type": "code",
   "execution_count": 26,
   "id": "9b51519b",
   "metadata": {},
   "outputs": [
    {
     "data": {
      "text/plain": [
       "count    1427.000000\n",
       "mean       23.595106\n",
       "std       301.136764\n",
       "min         0.227273\n",
       "25%         0.553727\n",
       "50%         1.359082\n",
       "75%         4.745029\n",
       "max      9232.540661\n",
       "Name: running_time, dtype: float64"
      ]
     },
     "execution_count": 26,
     "metadata": {},
     "output_type": "execute_result"
    }
   ],
   "source": [
    "popular_packages_running_times_df[\"running_time\"].describe()"
   ]
  },
  {
   "cell_type": "code",
   "execution_count": null,
   "id": "20262bfc",
   "metadata": {},
   "outputs": [],
   "source": [
    "# Parsing the results \n",
    "popular_results_path = os.path.abspath(\"../results/bandit4mal/popular/\")\n",
    "popular_results = parse_analysis_results(popular_results_path)"
   ]
  },
  {
   "cell_type": "markdown",
   "id": "a4166980",
   "metadata": {},
   "source": [
    "### Triggered rules in all Python files in popular packages"
   ]
  },
  {
   "cell_type": "code",
   "execution_count": null,
   "id": "812e74fa",
   "metadata": {},
   "outputs": [],
   "source": [
    "# Transform the results into DataFrame for analysis\n",
    "popular_results_df = pd.DataFrame(popular_results, columns=[\"package\", \"target\", \"rule\"])"
   ]
  },
  {
   "cell_type": "code",
   "execution_count": null,
   "id": "95eb90cf",
   "metadata": {},
   "outputs": [],
   "source": [
    "# Number of rules per package\n",
    "popular_packages_rules_groupby = popular_results_df.groupby('package')['rule']\n",
    "print(f\"Total number of rules: {popular_packages_rules_groupby.count().sum()}\")\n",
    "popular_packages_rules_groupby.count().describe()"
   ]
  },
  {
   "cell_type": "code",
   "execution_count": null,
   "id": "d6462546",
   "metadata": {},
   "outputs": [],
   "source": [
    "# Ratio of true positives to false postives \n",
    "thresholds = [1, 5, 10, 15, 20, 25, 30]\n",
    "scores = popular_packages_rules_groupby.count().to_list()\n",
    "thesholds_tpr_fpr_ratio = []\n",
    "for t in thresholds:\n",
    "    tp, fp = get_tp_fp(scores, t)\n",
    "    print(t, tp, fp)"
   ]
  },
  {
   "cell_type": "markdown",
   "id": "28872146",
   "metadata": {},
   "source": [
    "### Triggered rules in all setup.py files in popular packages"
   ]
  },
  {
   "cell_type": "code",
   "execution_count": null,
   "id": "7ab17be6",
   "metadata": {},
   "outputs": [],
   "source": [
    "popular_packages_rules_setup_df = popular_results_df[popular_results_df['target'].str.contains('setup.py')]"
   ]
  },
  {
   "cell_type": "code",
   "execution_count": null,
   "id": "12264b74",
   "metadata": {},
   "outputs": [],
   "source": [
    "# Number of rules per package\n",
    "popular_packages_rules_setup_groupby = popular_packages_rules_setup_df.groupby('package')['rule']\n",
    "print(f\"Total number of rules: {popular_packages_rules_setup_groupby.count().sum()}\")\n",
    "popular_packages_rules_setup_groupby.count().describe()"
   ]
  },
  {
   "cell_type": "code",
   "execution_count": null,
   "id": "d2b418c9",
   "metadata": {},
   "outputs": [],
   "source": [
    "# Ratio of true positives to false postives \n",
    "thresholds = [1, 2, 3, 4, 5]\n",
    "scores = popular_packages_rules_groupby.count().to_list()\n",
    "thesholds_tpr_fpr_ratio = []\n",
    "for t in thresholds:\n",
    "    tp, fp = get_tp_fp(scores, t)\n",
    "    print(t, tp, fp)"
   ]
  },
  {
   "cell_type": "code",
   "execution_count": null,
   "id": "2106345d",
   "metadata": {},
   "outputs": [],
   "source": [
    "# Saving the existing result\n",
    "with open(os.path.abspath(\"../results/bandit4mal/popular-packages.pkl\"), 'wb') as fp:\n",
    "    pickle.dump(popular_results, fp, protocol=pickle.HIGHEST_PROTOCOL)"
   ]
  },
  {
   "cell_type": "markdown",
   "id": "6b9f568a",
   "metadata": {},
   "source": [
    "## Random packages"
   ]
  },
  {
   "cell_type": "code",
   "execution_count": null,
   "id": "94dd1c48",
   "metadata": {},
   "outputs": [],
   "source": [
    "# Paths to random packags, and results dir\n",
    "random_packages_path = os.path.abspath(\"../dataset/random-packages/\")\n",
    "random_results_dir = os.path.abspath(\"../results/bandit4mal/random/\")"
   ]
  },
  {
   "cell_type": "code",
   "execution_count": null,
   "id": "16b7557b",
   "metadata": {},
   "outputs": [],
   "source": [
    "# Scanning packages and measure running time\n",
    "random_packages_running_time = scanning_packages(random_packages_path, random_results_dir)"
   ]
  },
  {
   "cell_type": "code",
   "execution_count": null,
   "id": "fac5a145",
   "metadata": {},
   "outputs": [],
   "source": [
    "random_packages_running_times_df = pd.DataFrame(list(random_packages_running_time.items()), columns=['package', 'running_time'])\n",
    "random_packages_running_times_df[\"running_time\"].describe()"
   ]
  },
  {
   "cell_type": "code",
   "execution_count": null,
   "id": "53f98774",
   "metadata": {},
   "outputs": [],
   "source": [
    "random_packages_running_times_df.to_csv(\"../results/running_times/bandit4mal/random-packages.csv\")"
   ]
  },
  {
   "cell_type": "code",
   "execution_count": null,
   "id": "da3773d3",
   "metadata": {},
   "outputs": [],
   "source": [
    "# Analyzing the results generated\n",
    "random_results_path = os.path.abspath(\"../results/bandit4mal/random/\")\n",
    "random_results = parse_analysis_results(random_results_path)"
   ]
  },
  {
   "cell_type": "markdown",
   "id": "f5d603d3",
   "metadata": {},
   "source": [
    "### Triggered rules in all Python files in random packages"
   ]
  },
  {
   "cell_type": "code",
   "execution_count": null,
   "id": "9720e1d9",
   "metadata": {},
   "outputs": [],
   "source": [
    "# Transform the results into Dataframe for analysis\n",
    "random_results_df = pd.DataFrame(random_results, columns=[\"package\", \"target\", \"rule\"])"
   ]
  },
  {
   "cell_type": "code",
   "execution_count": null,
   "id": "31e23fdf",
   "metadata": {},
   "outputs": [],
   "source": [
    "# Number of rules per package\n",
    "random_packages_rules_groupby = random_results_df.groupby('package')['rule']\n",
    "print(f\"Total number of rules: {random_packages_rules_groupby.count().sum()}\")\n",
    "random_packages_rules_groupby.count().describe()"
   ]
  },
  {
   "cell_type": "code",
   "execution_count": null,
   "id": "b33e0bde",
   "metadata": {},
   "outputs": [],
   "source": [
    "# Ratio of true positives to false postives \n",
    "thresholds = [1, 5, 10, 15, 20, 25, 30]\n",
    "scores = random_packages_rules_groupby.count().to_list()\n",
    "thesholds_tpr_fpr_ratio = []\n",
    "for t in thresholds:\n",
    "    tpr, fpr = get_tpr_fpr(scores, t)\n",
    "    print(t, round(tpr/fpr, 2))"
   ]
  },
  {
   "cell_type": "markdown",
   "id": "9281c871",
   "metadata": {},
   "source": [
    "### Triggered rules in all setup.py files in random packages"
   ]
  },
  {
   "cell_type": "code",
   "execution_count": null,
   "id": "7f55aa13",
   "metadata": {},
   "outputs": [],
   "source": [
    "# Selecting only setup.py files of the packages\n",
    "random_packages_rules_setup_df = random_results_df[random_results_df['target'].str.contains('setup.py')]"
   ]
  },
  {
   "cell_type": "code",
   "execution_count": null,
   "id": "80792fc5",
   "metadata": {},
   "outputs": [],
   "source": [
    "# Number of rules per package\n",
    "random_packages_rules_setup_groupby = random_packages_rules_setup_df.groupby('package')['rule']\n",
    "print(f\"Total number of rules: {random_packages_rules_setup_groupby.count().sum()}\")\n",
    "random_packages_rules_setup_groupby.count().describe()"
   ]
  },
  {
   "cell_type": "code",
   "execution_count": null,
   "id": "a2d7afd5",
   "metadata": {},
   "outputs": [],
   "source": [
    "# Ratio of true positives to false postives \n",
    "thresholds = [1, 2, 3, 4, 5]\n",
    "scores = random_packages_rules_setup_groupby.count().to_list()\n",
    "thesholds_tpr_fpr_ratio = []\n",
    "for t in thresholds:\n",
    "    tp, fp = get_tp_fp(scores, t)\n",
    "    print(t, tp, fp)"
   ]
  },
  {
   "cell_type": "code",
   "execution_count": null,
   "id": "254d4c03",
   "metadata": {},
   "outputs": [],
   "source": [
    "# Saving the existing result\n",
    "with open(os.path.abspath(\"../results/bandit4mal/random-packages.pkl\"), 'wb') as fp:\n",
    "    pickle.dump(random_results, fp, protocol=pickle.HIGHEST_PROTOCOL)"
   ]
  },
  {
   "cell_type": "code",
   "execution_count": null,
   "id": "ab66e404",
   "metadata": {},
   "outputs": [],
   "source": []
  }
 ],
 "metadata": {
  "kernelspec": {
   "display_name": "Python 3 (ipykernel)",
   "language": "python",
   "name": "python3"
  },
  "language_info": {
   "codemirror_mode": {
    "name": "ipython",
    "version": 3
   },
   "file_extension": ".py",
   "mimetype": "text/x-python",
   "name": "python",
   "nbconvert_exporter": "python",
   "pygments_lexer": "ipython3",
   "version": "3.8.10"
  }
 },
 "nbformat": 4,
 "nbformat_minor": 5
}
