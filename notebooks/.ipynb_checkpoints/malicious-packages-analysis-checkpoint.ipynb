{
 "cells": [
  {
   "cell_type": "code",
   "execution_count": 7,
   "id": "4bf09f1f",
   "metadata": {},
   "outputs": [],
   "source": [
    "from collections import Counter\n",
    "from collections import defaultdict\n",
    "import json\n",
    "import matplotlib\n",
    "import matplotlib.pyplot as plt\n",
    "import os\n",
    "import pandas as pd\n",
    "import pickle\n",
    "import tarfile\n",
    "from typing import Dict, List\n",
    "from yara_scanner import YaraScanner\n",
    "\n",
    "%load_ext memory_profiler"
   ]
  },
  {
   "cell_type": "code",
   "execution_count": 8,
   "id": "944c1e92",
   "metadata": {},
   "outputs": [
    {
     "data": {
      "text/plain": [
       "True"
      ]
     },
     "execution_count": 8,
     "metadata": {},
     "output_type": "execute_result"
    }
   ],
   "source": [
    "# Initialize and load pypi malware checks rules\n",
    "pypi_malware_checks_rule_path = os.path.abspath(\"../scanners/pypi-malware-checks/setup_py_rules.yara\")\n",
    "scanner = YaraScanner()\n",
    "scanner.track_yara_file(pypi_malware_checks_rule_path)\n",
    "scanner.load_rules()"
   ]
  },
  {
   "cell_type": "code",
   "execution_count": 9,
   "id": "3986e0b8",
   "metadata": {},
   "outputs": [],
   "source": [
    "# Obtaining the python files to scan\n",
    "def scanning_releases(package_releases_path):\n",
    "    results = defaultdict(list)\n",
    "    for subdir, dirs, files in os.walk(package_releases_path):\n",
    "        for file in files:\n",
    "            if str(file).endswith(\".py\"):\n",
    "                filepath = subdir + os.sep + file\n",
    "                if scanner.scan(filepath): \n",
    "                    scan_results = scanner.scan_results\n",
    "                    if scan_results:\n",
    "                        for i in scan_results:\n",
    "                            try:\n",
    "                                package_name = f\"{subdir.split('/')[6]}\"\n",
    "                                #print(package_name)\n",
    "                            except IndexError:\n",
    "                                # I want to figure out\n",
    "                                import pdb; pdb.set_trace()\n",
    "                            results[package_name].append(i)\n",
    "    return results      "
   ]
  },
  {
   "cell_type": "code",
   "execution_count": 10,
   "id": "72e10fa4",
   "metadata": {},
   "outputs": [],
   "source": [
    "# Collecting alerts of the packages\n",
    "def collect_rules_num_alerts(packages_scanning_results: Dict[str, str]) -> List[str]:\n",
    "    packages_num_alerts = []\n",
    "    for package, files in packages_scanning_results.items():\n",
    "        for file_ in files:\n",
    "            packages_num_alerts.append([package, file_[\"target\"], file_['rule'], len(file_['strings'])])\n",
    "    return packages_num_alerts"
   ]
  },
  {
   "cell_type": "code",
   "execution_count": 11,
   "id": "aa26babb",
   "metadata": {},
   "outputs": [],
   "source": [
    "# Path to the malicious packages dataset\n",
    "malicious_packages_path = os.path.abspath(\"../dataset/malicious-packages/\")"
   ]
  },
  {
   "cell_type": "code",
   "execution_count": 6,
   "id": "5578f88b",
   "metadata": {},
   "outputs": [],
   "source": [
    "# Uncomment to uncompress malicious artifacts\n",
    "#uncompressing_artifacts(malicious_packages_path)"
   ]
  },
  {
   "cell_type": "code",
   "execution_count": 22,
   "id": "b886fd77",
   "metadata": {},
   "outputs": [
    {
     "name": "stdout",
     "output_type": "stream",
     "text": [
      " "
     ]
    }
   ],
   "source": [
    "# Uncomment to re-run the scanning, this would take a while\n",
    "%prun  malicious_packages_scanning_results = scanning_releases(malicious_packages_path)"
   ]
  },
  {
   "cell_type": "code",
   "execution_count": 6,
   "id": "b5fe03d3",
   "metadata": {},
   "outputs": [],
   "source": [
    "# Loading the existing result\n",
    "with open(os.path.abspath(\"../results/malicious_packages_scanning_results_pypi_malwarechecks.pkl\"), 'rb') as fp:\n",
    "    malicious_packages_scanning_results = pickle.load(fp)"
   ]
  },
  {
   "cell_type": "code",
   "execution_count": 7,
   "id": "e1d7a92b",
   "metadata": {},
   "outputs": [],
   "source": [
    "malicious_rules_num_alerts = collect_rules_num_alerts(malicious_packages_scanning_results)\n",
    "malicious_rules_num_alerts_df = pd.DataFrame(malicious_rules_num_alerts, columns=[\"package\", \"target\", \"rule\", \"num_alerts\"])"
   ]
  },
  {
   "cell_type": "code",
   "execution_count": 8,
   "id": "b4fb68ca",
   "metadata": {},
   "outputs": [
    {
     "data": {
      "text/plain": [
       "count    1623.000000\n",
       "mean        7.111522\n",
       "std        14.857167\n",
       "min         1.000000\n",
       "25%         1.000000\n",
       "50%         3.000000\n",
       "75%         6.000000\n",
       "max       217.000000\n",
       "Name: num_alerts, dtype: float64"
      ]
     },
     "execution_count": 8,
     "metadata": {},
     "output_type": "execute_result"
    }
   ],
   "source": [
    "# Descriptive statistics of number of alerts\n",
    "malicious_rules_num_alerts_df.num_alerts.describe()"
   ]
  },
  {
   "cell_type": "code",
   "execution_count": 9,
   "id": "9573d488",
   "metadata": {},
   "outputs": [
    {
     "name": "stdout",
     "output_type": "stream",
     "text": [
      "rule\n",
      "deserialization_in_setup     157\n",
      "metaprogramming_in_setup    3034\n",
      "networking_in_setup         1102\n",
      "process_spawn_in_setup      4798\n",
      "subprocess_in_setup         2451\n",
      "Name: num_alerts, dtype: int64\n",
      "Total: 11542\n"
     ]
    }
   ],
   "source": [
    "# Number of alerts per rule\n",
    "print(malicious_rules_num_alerts_df.groupby('rule')['num_alerts'].sum())\n",
    "print(f\"Total: {malicious_rules_num_alerts_df.groupby('rule')['num_alerts'].sum().sum()}\")"
   ]
  },
  {
   "cell_type": "code",
   "execution_count": 17,
   "id": "7358eae1",
   "metadata": {},
   "outputs": [
    {
     "data": {
      "image/png": "[encoded data removed]",
      "text/plain": [
       "<Figure size 432x288 with 1 Axes>"
      ]
     },
     "metadata": {
      "needs_background": "light"
     },
     "output_type": "display_data"
    }
   ],
   "source": [
    "ax = malicious_rules_num_alerts_df.num_alerts.groupby(malicious_rules_num_alerts_df.package).nunique().hist(bins=10);\n",
    "ax.set_xlabel('num packages');\n",
    "ax.set_ylabel('num alerts');\n",
    "ax.set_xticks(range(1, 30, 2), minor=False)\n",
    "plt.show()"
   ]
  },
  {
   "cell_type": "code",
   "execution_count": 12,
   "id": "34877484",
   "metadata": {},
   "outputs": [
    {
     "data": {
      "text/plain": [
       "rule\n",
       "deserialization_in_setup     56\n",
       "metaprogramming_in_setup    155\n",
       "networking_in_setup         100\n",
       "process_spawn_in_setup       84\n",
       "subprocess_in_setup          43\n",
       "Name: package, dtype: int64"
      ]
     },
     "execution_count": 12,
     "metadata": {},
     "output_type": "execute_result"
    }
   ],
   "source": [
    "# Number of unique packages having a rule\n",
    "malicious_rules_num_alerts_df.groupby('rule')['package'].nunique()"
   ]
  },
  {
   "cell_type": "code",
   "execution_count": 13,
   "id": "afc07677",
   "metadata": {},
   "outputs": [],
   "source": [
    "# Selecting only setup.py files\n",
    "malicious_rules_num_alerts_setup_df = malicious_rules_num_alerts_df[malicious_rules_num_alerts_df['target'].str.contains('setup.py')]"
   ]
  },
  {
   "cell_type": "code",
   "execution_count": 14,
   "id": "7c41d294",
   "metadata": {},
   "outputs": [
    {
     "name": "stdout",
     "output_type": "stream",
     "text": [
      "rule\n",
      "deserialization_in_setup      24\n",
      "metaprogramming_in_setup     238\n",
      "networking_in_setup          335\n",
      "process_spawn_in_setup      1619\n",
      "subprocess_in_setup          413\n",
      "Name: num_alerts, dtype: int64\n",
      "Total: 2629\n"
     ]
    }
   ],
   "source": [
    "# Number of alerts per rule\n",
    "print(malicious_rules_num_alerts_setup_df.groupby('rule')['num_alerts'].sum())\n",
    "print(f\"Total: {malicious_rules_num_alerts_setup_df.groupby('rule')['num_alerts'].sum().sum()}\")"
   ]
  },
  {
   "cell_type": "code",
   "execution_count": 15,
   "id": "981b1eb7",
   "metadata": {},
   "outputs": [
    {
     "name": "stdout",
     "output_type": "stream",
     "text": [
      "rule\n",
      "deserialization_in_setup    19\n",
      "metaprogramming_in_setup    48\n",
      "networking_in_setup         61\n",
      "process_spawn_in_setup      35\n",
      "subprocess_in_setup         14\n",
      "Name: package, dtype: int64\n",
      "Total: 177\n"
     ]
    }
   ],
   "source": [
    "# Number of unique packages having a rule\n",
    "print(malicious_rules_num_alerts_setup_df.groupby('rule')['package'].nunique())\n",
    "print(f\"Total: {malicious_rules_num_alerts_setup_df.groupby('rule')['package'].nunique().sum()}\")"
   ]
  },
  {
   "cell_type": "code",
   "execution_count": 16,
   "id": "e177e033",
   "metadata": {},
   "outputs": [],
   "source": [
    "# Saving the existing result\n",
    "with open(os.path.abspath(\"../results/malicious_packages_scanning_results_pypi_malwarechecks.pkl\"), 'wb') as fp:\n",
    "    pickle.dump(malicious_packages_scanning_results, fp, protocol=pickle.HIGHEST_PROTOCOL)"
   ]
  },
  {
   "cell_type": "code",
   "execution_count": null,
   "id": "b87db397",
   "metadata": {},
   "outputs": [],
   "source": []
  },
  {
   "cell_type": "code",
   "execution_count": 18,
   "id": "81dee32c",
   "metadata": {},
   "outputs": [],
   "source": [
    "# Path to the popular packages dataset\n",
    "popular_packages_path = os.path.abspath(\"../dataset/popular-packages\")"
   ]
  },
  {
   "cell_type": "code",
   "execution_count": 7,
   "id": "3fda546a",
   "metadata": {},
   "outputs": [],
   "source": [
    "# Uncomment to uncompress malicious artifacts\n",
    "#uncompressing_artifacts(popular_packages_path)"
   ]
  },
  {
   "cell_type": "code",
   "execution_count": 19,
   "id": "3304ab97",
   "metadata": {},
   "outputs": [
    {
     "name": "stdout",
     "output_type": "stream",
     "text": [
      "peak memory: 278.68 MiB, increment: 103.48 MiB\n"
     ]
    }
   ],
   "source": [
    "# Uncomment to rescanning popular packages, this would take a while\n",
    "%memit popular_packages_scanning_results = scanning_releases(popular_packages_path)"
   ]
  },
  {
   "cell_type": "code",
   "execution_count": 11,
   "id": "e65de8bf",
   "metadata": {},
   "outputs": [],
   "source": [
    "# Loading the existing result\n",
    "with open(os.path.abspath(\"../results/popular_packages_scanning_results_pypi_malwarechecks.pkl\"), 'rb') as fp:\n",
    "    popular_packages_scanning_results = pickle.load(fp)"
   ]
  },
  {
   "cell_type": "code",
   "execution_count": 12,
   "id": "f29c505e",
   "metadata": {},
   "outputs": [],
   "source": [
    "# Collect the number of alerts associated with the packages and transform the result to dataframe for analysis\n",
    "popular_rules_num_alerts = collect_rules_num_alerts(popular_packages_scanning_results)\n",
    "popular_rules_num_alerts_df = pd.DataFrame(popular_rules_num_alerts, columns=[\"package\", \"target\", \"rule\", \"num_alerts\"])"
   ]
  },
  {
   "cell_type": "code",
   "execution_count": 13,
   "id": "4ae9b019",
   "metadata": {},
   "outputs": [
    {
     "data": {
      "text/plain": [
       "count    32964.000000\n",
       "mean        10.693848\n",
       "std         39.635150\n",
       "min          1.000000\n",
       "25%          1.000000\n",
       "50%          2.000000\n",
       "75%          6.000000\n",
       "max       2509.000000\n",
       "Name: num_alerts, dtype: float64"
      ]
     },
     "execution_count": 13,
     "metadata": {},
     "output_type": "execute_result"
    }
   ],
   "source": [
    "# Descriptive statistics of number of alerts\n",
    "popular_rules_num_alerts_df.num_alerts.describe()"
   ]
  },
  {
   "cell_type": "code",
   "execution_count": 14,
   "id": "da811e75",
   "metadata": {},
   "outputs": [
    {
     "name": "stdout",
     "output_type": "stream",
     "text": [
      "rule\n",
      "deserialization_in_setup      1775\n",
      "metaprogramming_in_setup    137642\n",
      "networking_in_setup           6238\n",
      "process_spawn_in_setup      107362\n",
      "subprocess_in_setup          99495\n",
      "Name: num_alerts, dtype: int64\n",
      "Total: 352512\n"
     ]
    }
   ],
   "source": [
    "# Number of alerts per rule\n",
    "print(popular_rules_num_alerts_df.groupby('rule')['num_alerts'].sum())\n",
    "print(f\"Total: {popular_rules_num_alerts_df.groupby('rule')['num_alerts'].sum().sum()}\")"
   ]
  },
  {
   "cell_type": "code",
   "execution_count": 31,
   "id": "1917aed8",
   "metadata": {},
   "outputs": [
    {
     "data": {
      "image/png": "[encoded data removed]",
      "text/plain": [
       "<Figure size 432x288 with 1 Axes>"
      ]
     },
     "metadata": {
      "needs_background": "light"
     },
     "output_type": "display_data"
    }
   ],
   "source": [
    "ax = popular_rules_num_alerts_df.num_alerts.groupby(popular_rules_num_alerts_df.package).nunique().hist(bins=20);\n",
    "ax.set_xlabel('num packages');\n",
    "ax.set_ylabel('num alerts');\n",
    "ax.set_xticks(range(1, 100, 5), minor=False)\n",
    "plt.show()"
   ]
  },
  {
   "cell_type": "code",
   "execution_count": 24,
   "id": "8c313a20",
   "metadata": {},
   "outputs": [
    {
     "name": "stdout",
     "output_type": "stream",
     "text": [
      "rule\n",
      "deserialization_in_setup    350\n",
      "metaprogramming_in_setup    820\n",
      "networking_in_setup         380\n",
      "process_spawn_in_setup      330\n",
      "subprocess_in_setup         306\n",
      "Name: package, dtype: int64\n",
      "Total: 2186\n"
     ]
    }
   ],
   "source": [
    "# Number of unique packages having a rule\n",
    "print(popular_rules_num_alerts_df.groupby('rule')['package'].nunique())\n",
    "print(f\"Total: {popular_rules_num_alerts_df.groupby('rule')['package'].nunique().sum()}\")"
   ]
  },
  {
   "cell_type": "code",
   "execution_count": 25,
   "id": "32133070",
   "metadata": {},
   "outputs": [],
   "source": [
    "# Selecting only setup.py files\n",
    "popular_rules_num_alerts_setup_df = popular_rules_num_alerts_df[popular_rules_num_alerts_df['target'].str.contains('setup.py')]"
   ]
  },
  {
   "cell_type": "code",
   "execution_count": 26,
   "id": "2fa9c4f7",
   "metadata": {},
   "outputs": [
    {
     "name": "stdout",
     "output_type": "stream",
     "text": [
      "rule\n",
      "deserialization_in_setup       2\n",
      "metaprogramming_in_setup    1467\n",
      "networking_in_setup           14\n",
      "process_spawn_in_setup      2854\n",
      "subprocess_in_setup         2648\n",
      "Name: num_alerts, dtype: int64\n",
      "Total: 6985\n"
     ]
    }
   ],
   "source": [
    "# Number of alerts per rule\n",
    "print(popular_rules_num_alerts_setup_df.groupby('rule')['num_alerts'].sum())\n",
    "print(f\"Total: {popular_rules_num_alerts_setup_df.groupby('rule')['num_alerts'].sum().sum()}\")"
   ]
  },
  {
   "cell_type": "code",
   "execution_count": 27,
   "id": "a8c24752",
   "metadata": {},
   "outputs": [
    {
     "data": {
      "text/plain": [
       "rule\n",
       "deserialization_in_setup      2\n",
       "metaprogramming_in_setup    246\n",
       "networking_in_setup           8\n",
       "process_spawn_in_setup       69\n",
       "subprocess_in_setup          50\n",
       "Name: package, dtype: int64"
      ]
     },
     "execution_count": 27,
     "metadata": {},
     "output_type": "execute_result"
    }
   ],
   "source": [
    "# Number of unique packages having a rule\n",
    "popular_rules_num_alerts_setup_df.groupby('rule')['package'].nunique()"
   ]
  },
  {
   "cell_type": "code",
   "execution_count": 28,
   "id": "0cd4480c",
   "metadata": {},
   "outputs": [],
   "source": [
    "# Saving the existing result\n",
    "with open(os.path.abspath(\"../results/popular_packages_scanning_results_pypi_malwarechecks.pkl\"), 'wb') as fp:\n",
    "    pickle.dump(popular_packages_scanning_results, fp, protocol=pickle.HIGHEST_PROTOCOL)"
   ]
  },
  {
   "cell_type": "code",
   "execution_count": null,
   "id": "7ebff838",
   "metadata": {},
   "outputs": [],
   "source": []
  },
  {
   "cell_type": "code",
   "execution_count": 13,
   "id": "6533f63c",
   "metadata": {},
   "outputs": [],
   "source": [
    "# Path to the randomly packages dataset\n",
    "random_pypi_packages = os.path.abspath(\"../dataset/random-packages/\")"
   ]
  },
  {
   "cell_type": "code",
   "execution_count": 14,
   "id": "db9592c7",
   "metadata": {},
   "outputs": [],
   "source": [
    "# Uncomment to uncompress random PyPI packages\n",
    "#uncompressing_artifacts(random_pypi_packages)"
   ]
  },
  {
   "cell_type": "code",
   "execution_count": 15,
   "id": "b04eaafa",
   "metadata": {},
   "outputs": [
    {
     "name": "stdout",
     "output_type": "stream",
     "text": [
      "peak memory: 172.29 MiB, increment: 30.79 MiB\n"
     ]
    }
   ],
   "source": [
    "# Uncomment to re-run the scanning, this would take a while\n",
    "%memit -r 7 random_packages_scanning_results = scanning_releases(random_pypi_packages)"
   ]
  },
  {
   "cell_type": "code",
   "execution_count": 21,
   "id": "2e0ae8e3",
   "metadata": {},
   "outputs": [],
   "source": [
    "# Loading the existing result\n",
    "with open(os.path.abspath(\"../results/random_packages_scanning_results_pypi_malwarechecks.pkl\"), 'rb') as fp:\n",
    "    random_packages_scanning_results = pickle.load(fp)"
   ]
  },
  {
   "cell_type": "code",
   "execution_count": 22,
   "id": "afce7e10",
   "metadata": {},
   "outputs": [],
   "source": [
    "# Collect the number of alerts associated with the packages and transform the result to dataframe for analysis\n",
    "random_rules_num_alerts = collect_rules_num_alerts(random_packages_scanning_results)\n",
    "random_rules_num_alerts_df = pd.DataFrame(random_rules_num_alerts, columns=[\"package\", \"target\", \"rule\", \"num_alerts\"])"
   ]
  },
  {
   "cell_type": "code",
   "execution_count": 23,
   "id": "c1fd1b80",
   "metadata": {},
   "outputs": [
    {
     "data": {
      "text/plain": [
       "count    5001.000000\n",
       "mean       10.690862\n",
       "std        38.098756\n",
       "min         1.000000\n",
       "25%         1.000000\n",
       "50%         2.000000\n",
       "75%         6.000000\n",
       "max      1181.000000\n",
       "Name: num_alerts, dtype: float64"
      ]
     },
     "execution_count": 23,
     "metadata": {},
     "output_type": "execute_result"
    }
   ],
   "source": [
    "# Descriptive statistics of number of alerts\n",
    "random_rules_num_alerts_df.num_alerts.describe()"
   ]
  },
  {
   "cell_type": "code",
   "execution_count": 24,
   "id": "ac62155f",
   "metadata": {},
   "outputs": [
    {
     "name": "stdout",
     "output_type": "stream",
     "text": [
      "rule\n",
      "deserialization_in_setup      181\n",
      "metaprogramming_in_setup    17065\n",
      "networking_in_setup           555\n",
      "process_spawn_in_setup      24566\n",
      "subprocess_in_setup         11098\n",
      "Name: num_alerts, dtype: int64\n",
      "Total: 53465\n"
     ]
    }
   ],
   "source": [
    "# Number of alerts per rule\n",
    "print(random_rules_num_alerts_df.groupby('rule')['num_alerts'].sum())\n",
    "print(f\"Total: {random_rules_num_alerts_df.groupby('rule')['num_alerts'].sum().sum()}\")"
   ]
  },
  {
   "cell_type": "code",
   "execution_count": 26,
   "id": "700170d2",
   "metadata": {},
   "outputs": [
    {
     "data": {
      "image/png": "[encoded data removed]",
      "text/plain": [
       "<Figure size 432x288 with 1 Axes>"
      ]
     },
     "metadata": {
      "needs_background": "light"
     },
     "output_type": "display_data"
    }
   ],
   "source": [
    "ax = random_rules_num_alerts_df.num_alerts.groupby(random_rules_num_alerts_df.package).nunique().hist(bins=20);\n",
    "ax.set_xlabel('num packages');\n",
    "ax.set_ylabel('num alerts');\n",
    "ax.set_xticks(range(1, 100, 5), minor=False)\n",
    "plt.show()"
   ]
  },
  {
   "cell_type": "code",
   "execution_count": 36,
   "id": "64bb8157",
   "metadata": {},
   "outputs": [
    {
     "name": "stdout",
     "output_type": "stream",
     "text": [
      "rule\n",
      "deserialization_in_setup    107\n",
      "metaprogramming_in_setup    584\n",
      "networking_in_setup         161\n",
      "process_spawn_in_setup      129\n",
      "subprocess_in_setup         128\n",
      "Name: package, dtype: int64\n",
      "Total: 1109\n"
     ]
    }
   ],
   "source": [
    "# Number of unique packages having a rule\n",
    "print(random_rules_num_alerts_df.groupby('rule')['package'].nunique())\n",
    "print(f\"Total: {random_rules_num_alerts_df.groupby('rule')['package'].nunique().sum()}\")"
   ]
  },
  {
   "cell_type": "code",
   "execution_count": 37,
   "id": "ae4b12c8",
   "metadata": {},
   "outputs": [],
   "source": [
    "# Selecting only setup.py files\n",
    "random_rules_num_alerts_setup_df = random_rules_num_alerts_df[random_rules_num_alerts_df['target'].str.contains('setup.py')]"
   ]
  },
  {
   "cell_type": "code",
   "execution_count": 38,
   "id": "e3a26a5a",
   "metadata": {},
   "outputs": [
    {
     "name": "stdout",
     "output_type": "stream",
     "text": [
      "rule\n",
      "metaprogramming_in_setup    526\n",
      "networking_in_setup           5\n",
      "process_spawn_in_setup      816\n",
      "subprocess_in_setup         530\n",
      "Name: num_alerts, dtype: int64\n",
      "Total: 1877\n"
     ]
    }
   ],
   "source": [
    "# Number of alerts per rule\n",
    "print(random_rules_num_alerts_setup_df.groupby('rule')['num_alerts'].sum())\n",
    "print(f\"Total: {random_rules_num_alerts_setup_df.groupby('rule')['num_alerts'].sum().sum()}\")"
   ]
  },
  {
   "cell_type": "code",
   "execution_count": 39,
   "id": "2b8e40d4",
   "metadata": {},
   "outputs": [
    {
     "data": {
      "text/plain": [
       "rule\n",
       "metaprogramming_in_setup    112\n",
       "networking_in_setup           3\n",
       "process_spawn_in_setup       34\n",
       "subprocess_in_setup          17\n",
       "Name: package, dtype: int64"
      ]
     },
     "execution_count": 39,
     "metadata": {},
     "output_type": "execute_result"
    }
   ],
   "source": [
    "# Number of unique packages having a rule\n",
    "random_rules_num_alerts_setup_df.groupby('rule')['package'].nunique()"
   ]
  },
  {
   "cell_type": "code",
   "execution_count": 40,
   "id": "fff33f02",
   "metadata": {},
   "outputs": [],
   "source": [
    "# Saving the raw result for faster analaysis next time\n",
    "with open(os.path.abspath(\"../results/random_packages_scanning_results_pypi_malwarechecks.pkl\"), 'wb') as fp:\n",
    "    pickle.dump(random_packages_scanning_results, fp, protocol=pickle.HIGHEST_PROTOCOL)"
   ]
  },
  {
   "cell_type": "code",
   "execution_count": null,
   "id": "a2d16a7b",
   "metadata": {},
   "outputs": [],
   "source": []
  },
  {
   "cell_type": "markdown",
   "id": "1ed576fe",
   "metadata": {},
   "source": [
    "### ERRORS, NEED TO INVESTIGATE\n",
    "/home/lyvd/bad-snakes/dataset/random-packages/clifton-jasmine.tar.gz [Errno 13] Permission denied: '/Users'\n",
    "/home/lyvd/bad-snakes/dataset/random-packages/cexprtk-0.4.0-cp310-cp310-macosx_12_0_x86_64.whl\n",
    "\n",
    "/home/lyvd/bad-snakes/dataset/popular-packages/sphinx-autoapi-1.8.4.tar.gz [Errno 13] Permission denied: '/home/lyvd/bad-snakes/dataset/popular-packages/sphinx-autoapi-1.8.4/tests/dotnetexample/example/Identity/.git/objects/pack/pack-fca9d88bcb5aeae361d4776558a15acd16ccab84.idx'\n",
    "/home/lyvd/bad-snakes/dataset/popular-packages/tensorflow_gpu-2.9.1-cp310-cp310-win_amd64.whl File is not a zip file\n",
    "/home/lyvd/bad-snakes/dataset/popular-packages/ansible-6.0.0/ansible_collections/f5networks/f5_modules/tests/unit/modules/network/f5/fixtures/fake_policy.tar.gz file could not be opened successfully:\n",
    "- method gz: ReadError('invalid header')\n",
    "- method bz2: ReadError('not a bzip2 file')\n",
    "- method xz: ReadError('not an lzma file')\n",
    "- method tar: ReadError('invalid header')\n",
    "/home/lyvd/bad-snakes/dataset/popular-packages/twine-4.0.1/tests/fixtures/malformed.tar.gz Compressed file ended before the end-of-stream marker was reached\n",
    "\n"
   ]
  }
 ],
 "metadata": {
  "kernelspec": {
   "display_name": "Python 3 (ipykernel)",
   "language": "python",
   "name": "python3"
  },
  "language_info": {
   "codemirror_mode": {
    "name": "ipython",
    "version": 3
   },
   "file_extension": ".py",
   "mimetype": "text/x-python",
   "name": "python",
   "nbconvert_exporter": "python",
   "pygments_lexer": "ipython3",
   "version": "3.8.10"
  }
 },
 "nbformat": 4,
 "nbformat_minor": 5
}
